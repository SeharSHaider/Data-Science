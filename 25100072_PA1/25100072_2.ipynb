{
 "cells": [
  {
   "cell_type": "code",
   "execution_count": 1,
   "metadata": {
    "deletable": false,
    "editable": false
   },
   "outputs": [],
   "source": [
    "# Initialize Otter\n",
    "import otter\n",
    "grader = otter.Notebook(\"25100072_2.ipynb\")"
   ]
  },
  {
   "cell_type": "markdown",
   "metadata": {},
   "source": [
    "# **Assignment 1 (Part 2)**"
   ]
  },
  {
   "cell_type": "markdown",
   "metadata": {},
   "source": [
    "<h3>Assignment Instructions</h3>\n"
   ]
  },
  {
   "cell_type": "markdown",
   "metadata": {},
   "source": [
    "* **How to install 'otter'**: Run `pip install otter-grader` in your Anaconda Command Prompt\n",
    "* **Otter**: It is an autograder that we will be using for grading your notebooks.\n",
    "* **grader.check('qn')**: This command runs test cases for nth question `qn` provided to you and displays the result. But these are not the only test cases, these are provided just for your basic testing. There will be some *hidden test cases* on which your answers will be tested as well.\n",
    "* You are **not** allowed to edit any pre-defined variables and as per the instructions for every question you have to assign your answers to these variables.\n",
    "* Write your answers in place of `...`\n"
   ]
  },
  {
   "cell_type": "markdown",
   "metadata": {},
   "source": [
    "<h3>Submission Instructions</h3>\n"
   ]
  },
  {
   "cell_type": "markdown",
   "metadata": {},
   "source": [
    "* There are two parts of this assignment. You should name both notebooks as **YourRollNumber_PartNumber.ipynb**. (e.g. this part should be named as *`2XXXXXXX_2.ipynb`*)\n",
    "* You must submit a zip file containg just two notebooks and it must not has any folder or any other file. \n",
    "* The name of the zip file must be your `RollNumber_PA1`\n"
   ]
  },
  {
   "cell_type": "markdown",
   "metadata": {},
   "source": [
    "Please run the cell below to import all the necessary libraries that you would require for this part"
   ]
  },
  {
   "cell_type": "code",
   "execution_count": 2,
   "metadata": {},
   "outputs": [],
   "source": [
    "import numpy as np\n",
    "import pandas as pd\n",
    "import matplotlib.pyplot as plt"
   ]
  },
  {
   "cell_type": "markdown",
   "metadata": {},
   "source": [
    "<h3>Context about the datasets</h3>"
   ]
  },
  {
   "cell_type": "markdown",
   "metadata": {},
   "source": [
    "Given the rise in obesity we are aware that there is a huge chance that a person may be affected by the heart disease. In this assignment we are going to explore a dataset which contains information about individuals heart rate and oxygen saturation. In this part we are going to analyze the data and generate sufficent results from it.\n",
    "\n",
    "Note: The output column is binary (0 or 1) and signifies whether the individual has had a heart attack (1 if they have had a heart attack)."
   ]
  },
  {
   "cell_type": "markdown",
   "metadata": {
    "deletable": false,
    "editable": false
   },
   "source": [
    "**Question 0:** Please load the two dataset files inside the variables `heartDf` and `o2SaturationDf` respectively"
   ]
  },
  {
   "cell_type": "code",
   "execution_count": 3,
   "metadata": {
    "tags": []
   },
   "outputs": [],
   "source": [
    "heartDf = pd.read_csv('heart.csv')\n",
    "o2SaturationDf = pd.read_csv('o2saturation.csv')"
   ]
  },
  {
   "cell_type": "code",
   "execution_count": 4,
   "metadata": {
    "deletable": false,
    "editable": false
   },
   "outputs": [
    {
     "data": {
      "text/html": [
       "<p><strong><pre style='display: inline;'>Q0</pre></strong> passed! 🎉</p>"
      ],
      "text/plain": [
       "Q0 results: All test cases passed!"
      ]
     },
     "execution_count": 4,
     "metadata": {},
     "output_type": "execute_result"
    }
   ],
   "source": [
    "grader.check(\"Q0\")"
   ]
  },
  {
   "cell_type": "markdown",
   "metadata": {
    "deletable": false,
    "editable": false
   },
   "source": [
    "**Question 1:** Find the shapes of both datasets and assign them to `heartDfShape` and `o2DfShape` respectively"
   ]
  },
  {
   "cell_type": "code",
   "execution_count": 5,
   "metadata": {
    "tags": []
   },
   "outputs": [],
   "source": [
    "heartDfShape = heartDf.shape\n",
    "o2DfShape = o2SaturationDf.shape"
   ]
  },
  {
   "cell_type": "code",
   "execution_count": 6,
   "metadata": {
    "deletable": false,
    "editable": false
   },
   "outputs": [
    {
     "data": {
      "text/html": [
       "<p><strong><pre style='display: inline;'>Q1</pre></strong> passed! 🙌</p>"
      ],
      "text/plain": [
       "Q1 results: All test cases passed!"
      ]
     },
     "execution_count": 6,
     "metadata": {},
     "output_type": "execute_result"
    }
   ],
   "source": [
    "grader.check(\"Q1\")"
   ]
  },
  {
   "cell_type": "markdown",
   "metadata": {
    "deletable": false,
    "editable": false
   },
   "source": [
    "**Question 2A:** Use a pandas function to display all characteristics (including min, max, quartiles, count, mean) of all numerical attributes of both dataframes. Store these in the variables `heartdf_description` & `o2df_description` respectively. "
   ]
  },
  {
   "cell_type": "code",
   "execution_count": 7,
   "metadata": {
    "tags": []
   },
   "outputs": [],
   "source": [
    "heartdf_description = heartDf.describe()\n",
    "o2df_description = o2SaturationDf.describe()"
   ]
  },
  {
   "cell_type": "code",
   "execution_count": 8,
   "metadata": {
    "deletable": false,
    "editable": false
   },
   "outputs": [
    {
     "data": {
      "text/html": [
       "<p><strong><pre style='display: inline;'>Q2a</pre></strong> passed! 🎉</p>"
      ],
      "text/plain": [
       "Q2a results: All test cases passed!"
      ]
     },
     "execution_count": 8,
     "metadata": {},
     "output_type": "execute_result"
    }
   ],
   "source": [
    "grader.check(\"Q2a\")"
   ]
  },
  {
   "cell_type": "markdown",
   "metadata": {
    "deletable": false,
    "editable": false
   },
   "source": [
    "**Question 2B:** Use a pandas function to display the number of occurances of all unique values of sex in the dataset. Store these in the variable `gender_distribution`. "
   ]
  },
  {
   "cell_type": "code",
   "execution_count": 9,
   "metadata": {
    "tags": []
   },
   "outputs": [],
   "source": [
    "gender_distribution = heartDf['sex'].value_counts() "
   ]
  },
  {
   "cell_type": "code",
   "execution_count": 10,
   "metadata": {
    "deletable": false,
    "editable": false
   },
   "outputs": [
    {
     "data": {
      "text/html": [
       "<p><strong><pre style='display: inline;'>Q2B</pre></strong> passed! 🚀</p>"
      ],
      "text/plain": [
       "Q2B results: All test cases passed!"
      ]
     },
     "execution_count": 10,
     "metadata": {},
     "output_type": "execute_result"
    }
   ],
   "source": [
    "grader.check(\"Q2B\")"
   ]
  },
  {
   "cell_type": "markdown",
   "metadata": {
    "deletable": false,
    "editable": false
   },
   "source": [
    "**Question 3A:** Prepare the two dataframes for merging by making the following column changes to both the dataframes. \n",
    "<h5>For Heart Dataset</h5>\n",
    "<ul>\n",
    "<li>exng -> exercise induced angina</li>\n",
    "<li>caa -> number of major vessels</li>\n",
    "<li>cp -> chest pain type</li>\n",
    "<li>trtbps -> resting blood pressure</li>\n",
    "<li>chol -> cholestrol levels</li>\n",
    "<li>restecg -> resting electrocardiographic </li> \n",
    "<li>thalachh-> maximum heart rate</li>\n",
    "<li>fbs-> fasting blood sugar > 120mg/dl</li>\n",
    "<li>oldpeak -> old peak </li>\n",
    "</ul>\n",
    "<h5>For O2 Saturation Dataset </h5>\n",
    "<ul>\n",
    "<li>sat -> O2 saturation</li>\n",
    "</ul>\n"
   ]
  },
  {
   "cell_type": "code",
   "execution_count": 11,
   "metadata": {
    "tags": []
   },
   "outputs": [],
   "source": [
    "heartDf.rename(columns={'exng':'exercise induced angina','caa':'number of major vessels','cp':'chest pain type','trtbps':'resting blood pressure','chol':'cholesterol levels','restecg':'resting electrocardiographic','thalachh':'maximum heart rate','fbs':'fasting blood sugar > 120mg/dl','oldpeak':'old peak'}, inplace=True) \n",
    "o2SaturationDf.rename(columns={'sat':'O2 saturation'}, inplace=True)"
   ]
  },
  {
   "cell_type": "code",
   "execution_count": 12,
   "metadata": {
    "deletable": false,
    "editable": false
   },
   "outputs": [
    {
     "data": {
      "text/html": [
       "<p><strong><pre style='display: inline;'>Q3A</pre></strong> passed! 🙌</p>"
      ],
      "text/plain": [
       "Q3A results: All test cases passed!"
      ]
     },
     "execution_count": 12,
     "metadata": {},
     "output_type": "execute_result"
    }
   ],
   "source": [
    "grader.check(\"Q3A\")"
   ]
  },
  {
   "cell_type": "code",
   "execution_count": 13,
   "metadata": {},
   "outputs": [
    {
     "data": {
      "text/html": [
       "<div>\n",
       "<style scoped>\n",
       "    .dataframe tbody tr th:only-of-type {\n",
       "        vertical-align: middle;\n",
       "    }\n",
       "\n",
       "    .dataframe tbody tr th {\n",
       "        vertical-align: top;\n",
       "    }\n",
       "\n",
       "    .dataframe thead th {\n",
       "        text-align: right;\n",
       "    }\n",
       "</style>\n",
       "<table border=\"1\" class=\"dataframe\">\n",
       "  <thead>\n",
       "    <tr style=\"text-align: right;\">\n",
       "      <th></th>\n",
       "      <th>O2 saturation</th>\n",
       "    </tr>\n",
       "  </thead>\n",
       "  <tbody>\n",
       "    <tr>\n",
       "      <th>0</th>\n",
       "      <td>98.6</td>\n",
       "    </tr>\n",
       "    <tr>\n",
       "      <th>1</th>\n",
       "      <td>98.6</td>\n",
       "    </tr>\n",
       "    <tr>\n",
       "      <th>2</th>\n",
       "      <td>98.6</td>\n",
       "    </tr>\n",
       "    <tr>\n",
       "      <th>3</th>\n",
       "      <td>98.1</td>\n",
       "    </tr>\n",
       "    <tr>\n",
       "      <th>4</th>\n",
       "      <td>97.5</td>\n",
       "    </tr>\n",
       "  </tbody>\n",
       "</table>\n",
       "</div>"
      ],
      "text/plain": [
       "   O2 saturation\n",
       "0           98.6\n",
       "1           98.6\n",
       "2           98.6\n",
       "3           98.1\n",
       "4           97.5"
      ]
     },
     "execution_count": 13,
     "metadata": {},
     "output_type": "execute_result"
    }
   ],
   "source": [
    "o2SaturationDf.head(5)\n"
   ]
  },
  {
   "cell_type": "code",
   "execution_count": 14,
   "metadata": {},
   "outputs": [
    {
     "data": {
      "text/html": [
       "<div>\n",
       "<style scoped>\n",
       "    .dataframe tbody tr th:only-of-type {\n",
       "        vertical-align: middle;\n",
       "    }\n",
       "\n",
       "    .dataframe tbody tr th {\n",
       "        vertical-align: top;\n",
       "    }\n",
       "\n",
       "    .dataframe thead th {\n",
       "        text-align: right;\n",
       "    }\n",
       "</style>\n",
       "<table border=\"1\" class=\"dataframe\">\n",
       "  <thead>\n",
       "    <tr style=\"text-align: right;\">\n",
       "      <th></th>\n",
       "      <th>age</th>\n",
       "      <th>sex</th>\n",
       "      <th>chest pain type</th>\n",
       "      <th>resting blood pressure</th>\n",
       "      <th>cholesterol levels</th>\n",
       "      <th>fasting blood sugar &gt; 120mg/dl</th>\n",
       "      <th>resting electrocardiographic</th>\n",
       "      <th>maximum heart rate</th>\n",
       "      <th>exercise induced angina</th>\n",
       "      <th>old peak</th>\n",
       "      <th>slp</th>\n",
       "      <th>number of major vessels</th>\n",
       "      <th>thall</th>\n",
       "      <th>output</th>\n",
       "    </tr>\n",
       "  </thead>\n",
       "  <tbody>\n",
       "    <tr>\n",
       "      <th>0</th>\n",
       "      <td>63</td>\n",
       "      <td>1</td>\n",
       "      <td>3</td>\n",
       "      <td>145.0</td>\n",
       "      <td>233.0</td>\n",
       "      <td>1</td>\n",
       "      <td>0</td>\n",
       "      <td>150.0</td>\n",
       "      <td>0</td>\n",
       "      <td>2.3</td>\n",
       "      <td>0</td>\n",
       "      <td>0</td>\n",
       "      <td>1</td>\n",
       "      <td>1</td>\n",
       "    </tr>\n",
       "    <tr>\n",
       "      <th>1</th>\n",
       "      <td>37</td>\n",
       "      <td>1</td>\n",
       "      <td>2</td>\n",
       "      <td>130.0</td>\n",
       "      <td>250.0</td>\n",
       "      <td>0</td>\n",
       "      <td>1</td>\n",
       "      <td>187.0</td>\n",
       "      <td>0</td>\n",
       "      <td>3.5</td>\n",
       "      <td>0</td>\n",
       "      <td>0</td>\n",
       "      <td>2</td>\n",
       "      <td>1</td>\n",
       "    </tr>\n",
       "    <tr>\n",
       "      <th>2</th>\n",
       "      <td>41</td>\n",
       "      <td>0</td>\n",
       "      <td>1</td>\n",
       "      <td>130.0</td>\n",
       "      <td>204.0</td>\n",
       "      <td>0</td>\n",
       "      <td>0</td>\n",
       "      <td>172.0</td>\n",
       "      <td>0</td>\n",
       "      <td>1.4</td>\n",
       "      <td>2</td>\n",
       "      <td>0</td>\n",
       "      <td>2</td>\n",
       "      <td>1</td>\n",
       "    </tr>\n",
       "    <tr>\n",
       "      <th>3</th>\n",
       "      <td>56</td>\n",
       "      <td>1</td>\n",
       "      <td>1</td>\n",
       "      <td>120.0</td>\n",
       "      <td>236.0</td>\n",
       "      <td>0</td>\n",
       "      <td>1</td>\n",
       "      <td>178.0</td>\n",
       "      <td>0</td>\n",
       "      <td>0.8</td>\n",
       "      <td>2</td>\n",
       "      <td>0</td>\n",
       "      <td>2</td>\n",
       "      <td>1</td>\n",
       "    </tr>\n",
       "    <tr>\n",
       "      <th>4</th>\n",
       "      <td>57</td>\n",
       "      <td>0</td>\n",
       "      <td>0</td>\n",
       "      <td>120.0</td>\n",
       "      <td>354.0</td>\n",
       "      <td>0</td>\n",
       "      <td>1</td>\n",
       "      <td>163.0</td>\n",
       "      <td>1</td>\n",
       "      <td>0.6</td>\n",
       "      <td>2</td>\n",
       "      <td>0</td>\n",
       "      <td>2</td>\n",
       "      <td>1</td>\n",
       "    </tr>\n",
       "  </tbody>\n",
       "</table>\n",
       "</div>"
      ],
      "text/plain": [
       "   age  sex  chest pain type  resting blood pressure  cholesterol levels  \\\n",
       "0   63    1                3                   145.0               233.0   \n",
       "1   37    1                2                   130.0               250.0   \n",
       "2   41    0                1                   130.0               204.0   \n",
       "3   56    1                1                   120.0               236.0   \n",
       "4   57    0                0                   120.0               354.0   \n",
       "\n",
       "   fasting blood sugar > 120mg/dl  resting electrocardiographic  \\\n",
       "0                               1                             0   \n",
       "1                               0                             1   \n",
       "2                               0                             0   \n",
       "3                               0                             1   \n",
       "4                               0                             1   \n",
       "\n",
       "   maximum heart rate  exercise induced angina  old peak  slp  \\\n",
       "0               150.0                        0       2.3    0   \n",
       "1               187.0                        0       3.5    0   \n",
       "2               172.0                        0       1.4    2   \n",
       "3               178.0                        0       0.8    2   \n",
       "4               163.0                        1       0.6    2   \n",
       "\n",
       "   number of major vessels  thall  output  \n",
       "0                        0      1       1  \n",
       "1                        0      2       1  \n",
       "2                        0      2       1  \n",
       "3                        0      2       1  \n",
       "4                        0      2       1  "
      ]
     },
     "execution_count": 14,
     "metadata": {},
     "output_type": "execute_result"
    }
   ],
   "source": [
    "heartDf.head(5)"
   ]
  },
  {
   "cell_type": "code",
   "execution_count": 15,
   "metadata": {},
   "outputs": [
    {
     "data": {
      "text/plain": [
       "Index(['age', 'sex', 'chest pain type', 'resting blood pressure',\n",
       "       'cholesterol levels', 'fasting blood sugar > 120mg/dl',\n",
       "       'resting electrocardiographic', 'maximum heart rate',\n",
       "       'exercise induced angina', 'old peak', 'slp', 'number of major vessels',\n",
       "       'thall', 'output'],\n",
       "      dtype='object')"
      ]
     },
     "execution_count": 15,
     "metadata": {},
     "output_type": "execute_result"
    }
   ],
   "source": [
    "heartDf.columns"
   ]
  },
  {
   "cell_type": "markdown",
   "metadata": {
    "deletable": false,
    "editable": false
   },
   "source": [
    "**Question 3B:** Peform a merge operation so that we can better compare our results and reach an appropriate conclusion. "
   ]
  },
  {
   "cell_type": "code",
   "execution_count": 16,
   "metadata": {
    "tags": []
   },
   "outputs": [],
   "source": [
    "mergedDf = pd.merge(heartDf, o2SaturationDf, left_index=True, right_index=True, how='outer')"
   ]
  },
  {
   "cell_type": "code",
   "execution_count": 17,
   "metadata": {
    "deletable": false,
    "editable": false
   },
   "outputs": [
    {
     "data": {
      "text/html": [
       "<p><strong><pre style='display: inline;'>Q3B</pre></strong> passed! 🍀</p>"
      ],
      "text/plain": [
       "Q3B results: All test cases passed!"
      ]
     },
     "execution_count": 17,
     "metadata": {},
     "output_type": "execute_result"
    }
   ],
   "source": [
    "grader.check(\"Q3B\")"
   ]
  },
  {
   "cell_type": "code",
   "execution_count": 18,
   "metadata": {},
   "outputs": [
    {
     "name": "stdout",
     "output_type": "stream",
     "text": [
      "age                                 int64\n",
      "sex                                 int64\n",
      "chest pain type                     int64\n",
      "resting blood pressure            float64\n",
      "cholesterol levels                float64\n",
      "fasting blood sugar > 120mg/dl      int64\n",
      "resting electrocardiographic        int64\n",
      "maximum heart rate                float64\n",
      "exercise induced angina             int64\n",
      "old peak                          float64\n",
      "slp                                 int64\n",
      "number of major vessels             int64\n",
      "thall                               int64\n",
      "output                              int64\n",
      "O2 saturation                     float64\n",
      "dtype: object\n"
     ]
    }
   ],
   "source": [
    "\n",
    "print(mergedDf.dtypes)\n"
   ]
  },
  {
   "cell_type": "markdown",
   "metadata": {
    "deletable": false,
    "editable": false
   },
   "source": [
    "**Question 4:** Categorize the individuals based on their age group using the following groupings in the corresponding variable names with `loc`:\n",
    "<ul>\n",
    "<li>Below 40 years of age</li>\n",
    "<li>In the range of 40-50 years of age</li>\n",
    "<li>In the range of 50-60 years of age</li>\n",
    "<li>In the range of 60-70 years of age</li>\n",
    "<li>70 or above years of age</li>\n",
    "</ul>\n",
    "\n",
    "<b>Note: </b> Only the lower bound is inclusive in the above age group range. You are to store the results in the variables given in the cell below."
   ]
  },
  {
   "cell_type": "code",
   "execution_count": 19,
   "metadata": {
    "tags": []
   },
   "outputs": [],
   "source": [
    "belowForty = mergedDf.loc[mergedDf['age'] < 40]\n",
    "ageBtw40_50 = mergedDf.loc[(mergedDf['age'] >= 40) & (mergedDf['age'] < 50)]\n",
    "ageBtw50_60 = mergedDf.loc[(mergedDf['age'] >= 50) & (mergedDf['age'] < 60)]\n",
    "ageBtw60_70 = mergedDf.loc[(mergedDf['age'] >= 60) & (mergedDf['age'] < 70)]\n",
    "aboveSeventy = mergedDf.loc[(mergedDf['age'] >= 70) ]"
   ]
  },
  {
   "cell_type": "code",
   "execution_count": 20,
   "metadata": {
    "deletable": false,
    "editable": false
   },
   "outputs": [
    {
     "data": {
      "text/html": [
       "<p><strong><pre style='display: inline;'>Q4</pre></strong> passed! 🎉</p>"
      ],
      "text/plain": [
       "Q4 results: All test cases passed!"
      ]
     },
     "execution_count": 20,
     "metadata": {},
     "output_type": "execute_result"
    }
   ],
   "source": [
    "grader.check(\"Q4\")"
   ]
  },
  {
   "cell_type": "markdown",
   "metadata": {
    "deletable": false,
    "editable": false
   },
   "source": [
    "**Question 5A:**  Group the data by 'sex' and find the average age for each group. <br/>\n",
    "\n",
    "Store the result in the variable `mean_ages_by_sex`."
   ]
  },
  {
   "cell_type": "code",
   "execution_count": 21,
   "metadata": {
    "tags": []
   },
   "outputs": [],
   "source": [
    "mean_ages_by_sex = mergedDf.groupby('sex')['age'].mean()"
   ]
  },
  {
   "cell_type": "code",
   "execution_count": 22,
   "metadata": {
    "deletable": false,
    "editable": false
   },
   "outputs": [
    {
     "data": {
      "text/html": [
       "<p><strong><pre style='display: inline;'>Q5A</pre></strong> passed! 🍀</p>"
      ],
      "text/plain": [
       "Q5A results: All test cases passed!"
      ]
     },
     "execution_count": 22,
     "metadata": {},
     "output_type": "execute_result"
    }
   ],
   "source": [
    "grader.check(\"Q5A\")"
   ]
  },
  {
   "cell_type": "markdown",
   "metadata": {
    "deletable": false,
    "editable": false
   },
   "source": [
    "**Question 5B:**  Extract rows for patients whose maximum heart rate is within 10% of the mean heart rate across all patients. <br/>\n",
    "\n",
    "Store the result in the variable `patients_with_normal_heartrate`."
   ]
  },
  {
   "cell_type": "code",
   "execution_count": 23,
   "metadata": {
    "tags": []
   },
   "outputs": [],
   "source": [
    "mean_hr = mergedDf['maximum heart rate'].mean()\n",
    "\n",
    "lower_bound = mean_hr * 0.9  # 10% below the mean\n",
    "upper_bound = mean_hr * 1.1  # 10% above the mean\n",
    "\n",
    "patients_with_normal_heartrate = mergedDf.loc[(mergedDf['maximum heart rate'] >= lower_bound) & (mergedDf['maximum heart rate'] <= upper_bound)]"
   ]
  },
  {
   "cell_type": "code",
   "execution_count": 24,
   "metadata": {
    "deletable": false,
    "editable": false
   },
   "outputs": [
    {
     "data": {
      "text/html": [
       "<p><strong><pre style='display: inline;'>Q5B</pre></strong> passed! 🎉</p>"
      ],
      "text/plain": [
       "Q5B results: All test cases passed!"
      ]
     },
     "execution_count": 24,
     "metadata": {},
     "output_type": "execute_result"
    }
   ],
   "source": [
    "grader.check(\"Q5B\")"
   ]
  },
  {
   "cell_type": "markdown",
   "metadata": {
    "deletable": false,
    "editable": false
   },
   "source": [
    "**Question 5C:**  For patients younger than 50, find the average cholesterol levels for those with a maximum heart rate above 160. <br/>\n",
    "\n",
    "Store the result in the variable `mean_cholesterol_youngerPatients`."
   ]
  },
  {
   "cell_type": "code",
   "execution_count": 25,
   "metadata": {
    "tags": []
   },
   "outputs": [
    {
     "name": "stderr",
     "output_type": "stream",
     "text": [
      "C:\\Users\\sehar\\AppData\\Local\\Temp\\ipykernel_26444\\4028516992.py:3: FutureWarning: Series.__getitem__ treating keys as positions is deprecated. In a future version, integer keys will always be treated as labels (consistent with DataFrame behavior). To access a value by position, use `ser.iloc[pos]`\n",
      "  mean_cholesterol_youngerPatients = mean_cholesterol_youngerPatients[4]\n"
     ]
    }
   ],
   "source": [
    "df_filtered = pd.concat([belowForty,ageBtw40_50])\n",
    "mean_cholesterol_youngerPatients = df_filtered.loc[(df_filtered['maximum heart rate'] > 160)].mean()\n",
    "mean_cholesterol_youngerPatients = mean_cholesterol_youngerPatients[4]"
   ]
  },
  {
   "cell_type": "code",
   "execution_count": 26,
   "metadata": {},
   "outputs": [
    {
     "name": "stdout",
     "output_type": "stream",
     "text": [
      "232.3653846153846\n"
     ]
    }
   ],
   "source": [
    "print(mean_cholesterol_youngerPatients)"
   ]
  },
  {
   "cell_type": "code",
   "execution_count": 27,
   "metadata": {
    "deletable": false,
    "editable": false
   },
   "outputs": [
    {
     "data": {
      "text/html": [
       "<p><strong><pre style='display: inline;'>Q5C</pre></strong> passed! ✨</p>"
      ],
      "text/plain": [
       "Q5C results: All test cases passed!"
      ]
     },
     "execution_count": 27,
     "metadata": {},
     "output_type": "execute_result"
    }
   ],
   "source": [
    "grader.check(\"Q5C\")"
   ]
  },
  {
   "cell_type": "markdown",
   "metadata": {
    "deletable": false,
    "editable": false
   },
   "source": [
    "**Question 5D:** Define a custom function that classifies a patient as `high risk` if their cholesterol level is above 240 and their `maximum heart rate` is below 120. Apply this function to each group of patients with different `chest pain type`s and count how many patients meet these high-risk conditions for each chest pain type. You will be using `.apply` for this task. <br/>\n",
    "\n",
    "Store the result in the variable `high_risk_counts`. "
   ]
  },
  {
   "cell_type": "code",
   "execution_count": 28,
   "metadata": {
    "tags": []
   },
   "outputs": [],
   "source": [
    "def high_risk_filter(row):\n",
    "    if row['cholesterol levels'] > 240 and row['maximum heart rate'] < 120:\n",
    "        return True\n",
    "    else:\n",
    "        return False\n",
    "    "
   ]
  },
  {
   "cell_type": "code",
   "execution_count": 29,
   "metadata": {},
   "outputs": [],
   "source": [
    "grouped_by_chest_pain = mergedDf.groupby('chest pain type')\n"
   ]
  },
  {
   "cell_type": "code",
   "execution_count": 30,
   "metadata": {
    "tags": []
   },
   "outputs": [],
   "source": [
    "high_risk_counts = grouped_by_chest_pain.apply(lambda group: group.apply(high_risk_filter, axis=1).sum())\n"
   ]
  },
  {
   "cell_type": "code",
   "execution_count": 31,
   "metadata": {
    "deletable": false,
    "editable": false
   },
   "outputs": [
    {
     "data": {
      "text/html": [
       "<p><strong><pre style='display: inline;'>Q5D</pre></strong> passed! 🎉</p>"
      ],
      "text/plain": [
       "Q5D results: All test cases passed!"
      ]
     },
     "execution_count": 31,
     "metadata": {},
     "output_type": "execute_result"
    }
   ],
   "source": [
    "grader.check(\"Q5D\")"
   ]
  },
  {
   "cell_type": "markdown",
   "metadata": {
    "deletable": false,
    "editable": false
   },
   "source": [
    "**Question 6:**  Is the average resting blood pressure of individuals in the (Above 70 age group) greater than the resting blood pressure of inviduals that are below 40 years old? <br/>\n",
    "Store the result in `meanOfAboveSeventy` & `meanOfBelowForty` variables. <br/> Also the variable `ans` must contain a string such as a 'Yes' or 'No' as the test cases check for it. <br>\n",
    "<b>Note: </b>You are not allowed to use the mean() method but rather calculate the mean mathematically."
   ]
  },
  {
   "cell_type": "code",
   "execution_count": 32,
   "metadata": {
    "tags": []
   },
   "outputs": [],
   "source": [
    "meanOfAboveSeventy = aboveSeventy['resting blood pressure'].sum() / len(aboveSeventy)\n",
    "meanOfBelowForty = belowForty['resting blood pressure'].sum() / len(belowForty)\n",
    "\n",
    "\n",
    "if meanOfAboveSeventy > meanOfBelowForty:\n",
    "    q6ans = \"Yes\"\n",
    "else:\n",
    "    q6ans = \"No\""
   ]
  },
  {
   "cell_type": "code",
   "execution_count": 33,
   "metadata": {
    "deletable": false,
    "editable": false
   },
   "outputs": [
    {
     "data": {
      "text/html": [
       "<p><strong><pre style='display: inline;'>Q6</pre></strong> passed! ✨</p>"
      ],
      "text/plain": [
       "Q6 results: All test cases passed!"
      ]
     },
     "execution_count": 33,
     "metadata": {},
     "output_type": "execute_result"
    }
   ],
   "source": [
    "grader.check(\"Q6\")"
   ]
  },
  {
   "cell_type": "markdown",
   "metadata": {
    "deletable": false,
    "editable": false
   },
   "source": [
    "**Question 7:** What is the most occuring value for oxygen saturation in individuals that fall into the age group of 50-60 ? <br>\n",
    "Store the value in the variable `frequentO2Saturation`."
   ]
  },
  {
   "cell_type": "code",
   "execution_count": 34,
   "metadata": {
    "tags": []
   },
   "outputs": [
    {
     "name": "stdout",
     "output_type": "stream",
     "text": [
      "97.5\n"
     ]
    }
   ],
   "source": [
    "frequentO2Saturation = mergedDf['O2 saturation'].mode().values[0]\n",
    "print(frequentO2Saturation)\n"
   ]
  },
  {
   "cell_type": "code",
   "execution_count": 35,
   "metadata": {
    "deletable": false,
    "editable": false
   },
   "outputs": [
    {
     "data": {
      "text/html": [
       "<p><strong><pre style='display: inline;'>Q7</pre></strong> passed! ✨</p>"
      ],
      "text/plain": [
       "Q7 results: All test cases passed!"
      ]
     },
     "execution_count": 35,
     "metadata": {},
     "output_type": "execute_result"
    }
   ],
   "source": [
    "grader.check(\"Q7\")"
   ]
  },
  {
   "cell_type": "markdown",
   "metadata": {
    "deletable": false,
    "editable": false
   },
   "source": [
    "**Question 8:** Find the most prevalent type of chest pain for all age groups mentioned above and store it in the corresponding variable. Also, find the most prevalent type of chest pain across all the individuals and store your result in `mostObservedChestPain`."
   ]
  },
  {
   "cell_type": "code",
   "execution_count": 36,
   "metadata": {
    "tags": []
   },
   "outputs": [],
   "source": [
    "belowFortyChestPain = belowForty['chest pain type'].mode().values[0]\n",
    "ageBtw40_50ChestPain = ageBtw40_50['chest pain type'].mode().values[0]\n",
    "ageBtw50_60ChestPain = ageBtw50_60['chest pain type'].mode().values[0]\n",
    "ageBtw60_70ChestPain = ageBtw60_70['chest pain type'].mode().values[0]\n",
    "aboveSeventyChestPain = aboveSeventy['chest pain type'].mode().values[0]\n",
    "mostObservedChestPain = mergedDf['chest pain type'].mode().values[0]"
   ]
  },
  {
   "cell_type": "code",
   "execution_count": 37,
   "metadata": {
    "deletable": false,
    "editable": false
   },
   "outputs": [
    {
     "data": {
      "text/html": [
       "<p><strong><pre style='display: inline;'>Q8</pre></strong> passed! 🌈</p>"
      ],
      "text/plain": [
       "Q8 results: All test cases passed!"
      ]
     },
     "execution_count": 37,
     "metadata": {},
     "output_type": "execute_result"
    }
   ],
   "source": [
    "grader.check(\"Q8\")"
   ]
  },
  {
   "cell_type": "markdown",
   "metadata": {
    "deletable": false,
    "editable": false
   },
   "source": [
    "**Question 9:** Calculate the <b>median</b> cholestrol levels for all the age groups.<br>\n",
    "<b>Note: </b> Here the variable `listOfDf` contains all the age groups that you have previously calculated in question <b>6</b>."
   ]
  },
  {
   "cell_type": "code",
   "execution_count": 38,
   "metadata": {
    "tags": []
   },
   "outputs": [],
   "source": [
    "listOfDf = [belowForty,ageBtw40_50,ageBtw50_60,ageBtw60_70,aboveSeventy]\n",
    "medianOfAllCholLevels = [df['cholesterol levels'].median() for df in listOfDf]"
   ]
  },
  {
   "cell_type": "code",
   "execution_count": 39,
   "metadata": {
    "deletable": false,
    "editable": false
   },
   "outputs": [
    {
     "data": {
      "text/html": [
       "<p><strong><pre style='display: inline;'>Q9</pre></strong> passed! ✨</p>"
      ],
      "text/plain": [
       "Q9 results: All test cases passed!"
      ]
     },
     "execution_count": 39,
     "metadata": {},
     "output_type": "execute_result"
    }
   ],
   "source": [
    "grader.check(\"Q9\")"
   ]
  },
  {
   "cell_type": "markdown",
   "metadata": {
    "deletable": false,
    "editable": false
   },
   "source": [
    "**Question 10:**  Using a pivot table, show the gender distribution across dfferent chest pain types. Store the result in `gender_count`."
   ]
  },
  {
   "cell_type": "code",
   "execution_count": 40,
   "metadata": {
    "tags": []
   },
   "outputs": [],
   "source": [
    "gender_count = mergedDf.pivot_table(index='chest pain type', columns='sex', aggfunc='size', fill_value=0)"
   ]
  },
  {
   "cell_type": "code",
   "execution_count": 41,
   "metadata": {
    "deletable": false,
    "editable": false
   },
   "outputs": [
    {
     "data": {
      "text/html": [
       "<p><strong><pre style='display: inline;'>Q10</pre></strong> passed! 🌈</p>"
      ],
      "text/plain": [
       "Q10 results: All test cases passed!"
      ]
     },
     "execution_count": 41,
     "metadata": {},
     "output_type": "execute_result"
    }
   ],
   "source": [
    "grader.check(\"Q10\")"
   ]
  },
  {
   "cell_type": "markdown",
   "metadata": {
    "deletable": false,
    "editable": false
   },
   "source": [
    "**Question 11:**  Calculate the percentage of males (1) and females (0) who are diagnosed with exercise induced angina. Round the result to three decimal places and store the result in `male_prop` and `female_prop` respectively<br/>\n",
    "<b>Note:</b> 1 means they have exercise induced angina whereas 0 means they do not. "
   ]
  },
  {
   "cell_type": "code",
   "execution_count": 42,
   "metadata": {},
   "outputs": [],
   "source": [
    "# Calculate total counts of males and females\n",
    "total_males = mergedDf[mergedDf['sex'] == 1].shape[0]\n",
    "total_females = mergedDf[mergedDf['sex'] == 0].shape[0]\n",
    "\n",
    "# Calculate counts of males and females diagnosed with exercise induced angina (1)\n",
    "males_with_angina = mergedDf[(mergedDf['sex'] == 1) & (mergedDf['exercise induced angina'] == 1)].shape[0]\n",
    "females_with_angina = mergedDf[(mergedDf['sex'] == 0) & (mergedDf['exercise induced angina'] == 1)].shape[0]\n",
    "\n",
    "# Calculate the percentages\n",
    "male_prop = round((males_with_angina / total_males) * 100, 3) if total_males > 0 else 0\n",
    "female_prop = round((females_with_angina / total_females) * 100, 3) if total_females > 0 else 0"
   ]
  },
  {
   "cell_type": "code",
   "execution_count": 43,
   "metadata": {
    "deletable": false,
    "editable": false
   },
   "outputs": [
    {
     "data": {
      "text/html": [
       "<p><strong><pre style='display: inline;'>Q11</pre></strong> passed! ✨</p>"
      ],
      "text/plain": [
       "Q11 results: All test cases passed!"
      ]
     },
     "execution_count": 43,
     "metadata": {},
     "output_type": "execute_result"
    }
   ],
   "source": [
    "grader.check(\"Q11\")"
   ]
  },
  {
   "cell_type": "markdown",
   "metadata": {
    "deletable": false,
    "editable": false
   },
   "source": [
    "**Question 12:**  What is the maximum heart rate across the different age groups ? \n",
    "Store the max heart rates obtained in the variable `heartRates`."
   ]
  },
  {
   "cell_type": "code",
   "execution_count": 44,
   "metadata": {
    "tags": []
   },
   "outputs": [
    {
     "data": {
      "text/plain": [
       "[202.0, 194.0, 195.0, 179.0, 162.0]"
      ]
     },
     "execution_count": 44,
     "metadata": {},
     "output_type": "execute_result"
    }
   ],
   "source": [
    "heartRates =  [df['maximum heart rate'].max() for df in listOfDf]\n",
    "heartRates"
   ]
  },
  {
   "cell_type": "code",
   "execution_count": 45,
   "metadata": {
    "deletable": false,
    "editable": false
   },
   "outputs": [
    {
     "data": {
      "text/html": [
       "<p><strong><pre style='display: inline;'>Q12</pre></strong> passed! 💯</p>"
      ],
      "text/plain": [
       "Q12 results: All test cases passed!"
      ]
     },
     "execution_count": 45,
     "metadata": {},
     "output_type": "execute_result"
    }
   ],
   "source": [
    "grader.check(\"Q12\")"
   ]
  },
  {
   "cell_type": "code",
   "execution_count": 46,
   "metadata": {},
   "outputs": [
    {
     "data": {
      "text/plain": [
       "Index(['age', 'sex', 'chest pain type', 'resting blood pressure',\n",
       "       'cholesterol levels', 'fasting blood sugar > 120mg/dl',\n",
       "       'resting electrocardiographic', 'maximum heart rate',\n",
       "       'exercise induced angina', 'old peak', 'slp', 'number of major vessels',\n",
       "       'thall', 'output', 'O2 saturation'],\n",
       "      dtype='object')"
      ]
     },
     "execution_count": 46,
     "metadata": {},
     "output_type": "execute_result"
    }
   ],
   "source": [
    "mergedDf.columns"
   ]
  },
  {
   "cell_type": "code",
   "execution_count": 47,
   "metadata": {},
   "outputs": [
    {
     "data": {
      "text/html": [
       "<div>\n",
       "<style scoped>\n",
       "    .dataframe tbody tr th:only-of-type {\n",
       "        vertical-align: middle;\n",
       "    }\n",
       "\n",
       "    .dataframe tbody tr th {\n",
       "        vertical-align: top;\n",
       "    }\n",
       "\n",
       "    .dataframe thead th {\n",
       "        text-align: right;\n",
       "    }\n",
       "</style>\n",
       "<table border=\"1\" class=\"dataframe\">\n",
       "  <thead>\n",
       "    <tr style=\"text-align: right;\">\n",
       "      <th></th>\n",
       "      <th>age</th>\n",
       "      <th>sex</th>\n",
       "      <th>chest pain type</th>\n",
       "      <th>resting blood pressure</th>\n",
       "      <th>cholesterol levels</th>\n",
       "      <th>fasting blood sugar &gt; 120mg/dl</th>\n",
       "      <th>resting electrocardiographic</th>\n",
       "      <th>maximum heart rate</th>\n",
       "      <th>exercise induced angina</th>\n",
       "      <th>old peak</th>\n",
       "      <th>slp</th>\n",
       "      <th>number of major vessels</th>\n",
       "      <th>thall</th>\n",
       "      <th>output</th>\n",
       "      <th>O2 saturation</th>\n",
       "    </tr>\n",
       "  </thead>\n",
       "  <tbody>\n",
       "    <tr>\n",
       "      <th>0</th>\n",
       "      <td>63</td>\n",
       "      <td>1</td>\n",
       "      <td>3</td>\n",
       "      <td>145.0</td>\n",
       "      <td>233.0</td>\n",
       "      <td>1</td>\n",
       "      <td>0</td>\n",
       "      <td>150.0</td>\n",
       "      <td>0</td>\n",
       "      <td>2.3</td>\n",
       "      <td>0</td>\n",
       "      <td>0</td>\n",
       "      <td>1</td>\n",
       "      <td>1</td>\n",
       "      <td>98.6</td>\n",
       "    </tr>\n",
       "    <tr>\n",
       "      <th>1</th>\n",
       "      <td>37</td>\n",
       "      <td>1</td>\n",
       "      <td>2</td>\n",
       "      <td>130.0</td>\n",
       "      <td>250.0</td>\n",
       "      <td>0</td>\n",
       "      <td>1</td>\n",
       "      <td>187.0</td>\n",
       "      <td>0</td>\n",
       "      <td>3.5</td>\n",
       "      <td>0</td>\n",
       "      <td>0</td>\n",
       "      <td>2</td>\n",
       "      <td>1</td>\n",
       "      <td>98.6</td>\n",
       "    </tr>\n",
       "    <tr>\n",
       "      <th>2</th>\n",
       "      <td>41</td>\n",
       "      <td>0</td>\n",
       "      <td>1</td>\n",
       "      <td>130.0</td>\n",
       "      <td>204.0</td>\n",
       "      <td>0</td>\n",
       "      <td>0</td>\n",
       "      <td>172.0</td>\n",
       "      <td>0</td>\n",
       "      <td>1.4</td>\n",
       "      <td>2</td>\n",
       "      <td>0</td>\n",
       "      <td>2</td>\n",
       "      <td>1</td>\n",
       "      <td>98.6</td>\n",
       "    </tr>\n",
       "    <tr>\n",
       "      <th>3</th>\n",
       "      <td>56</td>\n",
       "      <td>1</td>\n",
       "      <td>1</td>\n",
       "      <td>120.0</td>\n",
       "      <td>236.0</td>\n",
       "      <td>0</td>\n",
       "      <td>1</td>\n",
       "      <td>178.0</td>\n",
       "      <td>0</td>\n",
       "      <td>0.8</td>\n",
       "      <td>2</td>\n",
       "      <td>0</td>\n",
       "      <td>2</td>\n",
       "      <td>1</td>\n",
       "      <td>98.1</td>\n",
       "    </tr>\n",
       "    <tr>\n",
       "      <th>4</th>\n",
       "      <td>57</td>\n",
       "      <td>0</td>\n",
       "      <td>0</td>\n",
       "      <td>120.0</td>\n",
       "      <td>354.0</td>\n",
       "      <td>0</td>\n",
       "      <td>1</td>\n",
       "      <td>163.0</td>\n",
       "      <td>1</td>\n",
       "      <td>0.6</td>\n",
       "      <td>2</td>\n",
       "      <td>0</td>\n",
       "      <td>2</td>\n",
       "      <td>1</td>\n",
       "      <td>97.5</td>\n",
       "    </tr>\n",
       "    <tr>\n",
       "      <th>...</th>\n",
       "      <td>...</td>\n",
       "      <td>...</td>\n",
       "      <td>...</td>\n",
       "      <td>...</td>\n",
       "      <td>...</td>\n",
       "      <td>...</td>\n",
       "      <td>...</td>\n",
       "      <td>...</td>\n",
       "      <td>...</td>\n",
       "      <td>...</td>\n",
       "      <td>...</td>\n",
       "      <td>...</td>\n",
       "      <td>...</td>\n",
       "      <td>...</td>\n",
       "      <td>...</td>\n",
       "    </tr>\n",
       "    <tr>\n",
       "      <th>304</th>\n",
       "      <td>57</td>\n",
       "      <td>1</td>\n",
       "      <td>0</td>\n",
       "      <td>123.0</td>\n",
       "      <td>NaN</td>\n",
       "      <td>0</td>\n",
       "      <td>1</td>\n",
       "      <td>123.0</td>\n",
       "      <td>0</td>\n",
       "      <td>0.0</td>\n",
       "      <td>1</td>\n",
       "      <td>2</td>\n",
       "      <td>3</td>\n",
       "      <td>0</td>\n",
       "      <td>NaN</td>\n",
       "    </tr>\n",
       "    <tr>\n",
       "      <th>305</th>\n",
       "      <td>58</td>\n",
       "      <td>0</td>\n",
       "      <td>1</td>\n",
       "      <td>NaN</td>\n",
       "      <td>235.0</td>\n",
       "      <td>0</td>\n",
       "      <td>1</td>\n",
       "      <td>123.0</td>\n",
       "      <td>0</td>\n",
       "      <td>0.0</td>\n",
       "      <td>1</td>\n",
       "      <td>2</td>\n",
       "      <td>3</td>\n",
       "      <td>0</td>\n",
       "      <td>NaN</td>\n",
       "    </tr>\n",
       "    <tr>\n",
       "      <th>306</th>\n",
       "      <td>58</td>\n",
       "      <td>0</td>\n",
       "      <td>1</td>\n",
       "      <td>NaN</td>\n",
       "      <td>235.0</td>\n",
       "      <td>0</td>\n",
       "      <td>1</td>\n",
       "      <td>125.0</td>\n",
       "      <td>0</td>\n",
       "      <td>0.0</td>\n",
       "      <td>1</td>\n",
       "      <td>2</td>\n",
       "      <td>3</td>\n",
       "      <td>0</td>\n",
       "      <td>NaN</td>\n",
       "    </tr>\n",
       "    <tr>\n",
       "      <th>307</th>\n",
       "      <td>58</td>\n",
       "      <td>0</td>\n",
       "      <td>1</td>\n",
       "      <td>NaN</td>\n",
       "      <td>189.0</td>\n",
       "      <td>0</td>\n",
       "      <td>1</td>\n",
       "      <td>90.0</td>\n",
       "      <td>0</td>\n",
       "      <td>0.0</td>\n",
       "      <td>1</td>\n",
       "      <td>2</td>\n",
       "      <td>3</td>\n",
       "      <td>0</td>\n",
       "      <td>NaN</td>\n",
       "    </tr>\n",
       "    <tr>\n",
       "      <th>308</th>\n",
       "      <td>58</td>\n",
       "      <td>0</td>\n",
       "      <td>1</td>\n",
       "      <td>150.0</td>\n",
       "      <td>235.0</td>\n",
       "      <td>0</td>\n",
       "      <td>1</td>\n",
       "      <td>NaN</td>\n",
       "      <td>0</td>\n",
       "      <td>0.0</td>\n",
       "      <td>1</td>\n",
       "      <td>2</td>\n",
       "      <td>3</td>\n",
       "      <td>0</td>\n",
       "      <td>NaN</td>\n",
       "    </tr>\n",
       "  </tbody>\n",
       "</table>\n",
       "<p>309 rows × 15 columns</p>\n",
       "</div>"
      ],
      "text/plain": [
       "     age  sex  chest pain type  resting blood pressure  cholesterol levels  \\\n",
       "0     63    1                3                   145.0               233.0   \n",
       "1     37    1                2                   130.0               250.0   \n",
       "2     41    0                1                   130.0               204.0   \n",
       "3     56    1                1                   120.0               236.0   \n",
       "4     57    0                0                   120.0               354.0   \n",
       "..   ...  ...              ...                     ...                 ...   \n",
       "304   57    1                0                   123.0                 NaN   \n",
       "305   58    0                1                     NaN               235.0   \n",
       "306   58    0                1                     NaN               235.0   \n",
       "307   58    0                1                     NaN               189.0   \n",
       "308   58    0                1                   150.0               235.0   \n",
       "\n",
       "     fasting blood sugar > 120mg/dl  resting electrocardiographic  \\\n",
       "0                                 1                             0   \n",
       "1                                 0                             1   \n",
       "2                                 0                             0   \n",
       "3                                 0                             1   \n",
       "4                                 0                             1   \n",
       "..                              ...                           ...   \n",
       "304                               0                             1   \n",
       "305                               0                             1   \n",
       "306                               0                             1   \n",
       "307                               0                             1   \n",
       "308                               0                             1   \n",
       "\n",
       "     maximum heart rate  exercise induced angina  old peak  slp  \\\n",
       "0                 150.0                        0       2.3    0   \n",
       "1                 187.0                        0       3.5    0   \n",
       "2                 172.0                        0       1.4    2   \n",
       "3                 178.0                        0       0.8    2   \n",
       "4                 163.0                        1       0.6    2   \n",
       "..                  ...                      ...       ...  ...   \n",
       "304               123.0                        0       0.0    1   \n",
       "305               123.0                        0       0.0    1   \n",
       "306               125.0                        0       0.0    1   \n",
       "307                90.0                        0       0.0    1   \n",
       "308                 NaN                        0       0.0    1   \n",
       "\n",
       "     number of major vessels  thall  output  O2 saturation  \n",
       "0                          0      1       1           98.6  \n",
       "1                          0      2       1           98.6  \n",
       "2                          0      2       1           98.6  \n",
       "3                          0      2       1           98.1  \n",
       "4                          0      2       1           97.5  \n",
       "..                       ...    ...     ...            ...  \n",
       "304                        2      3       0            NaN  \n",
       "305                        2      3       0            NaN  \n",
       "306                        2      3       0            NaN  \n",
       "307                        2      3       0            NaN  \n",
       "308                        2      3       0            NaN  \n",
       "\n",
       "[309 rows x 15 columns]"
      ]
     },
     "execution_count": 47,
     "metadata": {},
     "output_type": "execute_result"
    }
   ],
   "source": [
    "mergedDf"
   ]
  },
  {
   "cell_type": "markdown",
   "metadata": {
    "deletable": false,
    "editable": false
   },
   "source": [
    "**Question 13A:**  How many people have cholestrol values greater than the threshold value given below ? Store it in the variable `numberOfPeople`. \n",
    "<br>\n",
    "<ul>\n",
    "<li>Cholestrol Threshold Level: 300</li>\n",
    "</ul>\n",
    "\n",
    "Also calculate the probability of these people getting a heart attack and store the result, rounded off to three decimal places, in `probability`.\n"
   ]
  },
  {
   "cell_type": "code",
   "execution_count": 48,
   "metadata": {
    "tags": []
   },
   "outputs": [],
   "source": [
    "numberOfPeople = mergedDf.loc[(mergedDf['cholesterol levels'] > 300)].count().values[0]\n",
    "heart_attack_cases = mergedDf.loc[(mergedDf['cholesterol levels'] > 300) & (mergedDf['output'] == 1)]\n",
    "\n",
    "probability = round(heart_attack_cases.shape[0] / numberOfPeople, 3) if numberOfPeople > 0 else 0"
   ]
  },
  {
   "cell_type": "code",
   "execution_count": 52,
   "metadata": {},
   "outputs": [
    {
     "name": "stdout",
     "output_type": "stream",
     "text": [
      "0.535\n"
     ]
    }
   ],
   "source": [
    "print(probability)"
   ]
  },
  {
   "cell_type": "code",
   "execution_count": 50,
   "metadata": {
    "deletable": false,
    "editable": false
   },
   "outputs": [
    {
     "data": {
      "text/html": [
       "<p><strong><pre style='display: inline;'>Q13A</pre></strong> passed! 🎉</p>"
      ],
      "text/plain": [
       "Q13A results: All test cases passed!"
      ]
     },
     "execution_count": 50,
     "metadata": {},
     "output_type": "execute_result"
    }
   ],
   "source": [
    "grader.check(\"Q13A\")"
   ]
  },
  {
   "cell_type": "code",
   "execution_count": 51,
   "metadata": {},
   "outputs": [
    {
     "data": {
      "text/html": [
       "<div>\n",
       "<style scoped>\n",
       "    .dataframe tbody tr th:only-of-type {\n",
       "        vertical-align: middle;\n",
       "    }\n",
       "\n",
       "    .dataframe tbody tr th {\n",
       "        vertical-align: top;\n",
       "    }\n",
       "\n",
       "    .dataframe thead th {\n",
       "        text-align: right;\n",
       "    }\n",
       "</style>\n",
       "<table border=\"1\" class=\"dataframe\">\n",
       "  <thead>\n",
       "    <tr style=\"text-align: right;\">\n",
       "      <th></th>\n",
       "      <th>age</th>\n",
       "      <th>sex</th>\n",
       "      <th>chest pain type</th>\n",
       "      <th>resting blood pressure</th>\n",
       "      <th>cholesterol levels</th>\n",
       "      <th>fasting blood sugar &gt; 120mg/dl</th>\n",
       "      <th>resting electrocardiographic</th>\n",
       "      <th>maximum heart rate</th>\n",
       "      <th>exercise induced angina</th>\n",
       "      <th>old peak</th>\n",
       "      <th>slp</th>\n",
       "      <th>number of major vessels</th>\n",
       "      <th>thall</th>\n",
       "      <th>output</th>\n",
       "      <th>O2 saturation</th>\n",
       "    </tr>\n",
       "  </thead>\n",
       "  <tbody>\n",
       "    <tr>\n",
       "      <th>0</th>\n",
       "      <td>63</td>\n",
       "      <td>1</td>\n",
       "      <td>3</td>\n",
       "      <td>145.0</td>\n",
       "      <td>233.0</td>\n",
       "      <td>1</td>\n",
       "      <td>0</td>\n",
       "      <td>150.0</td>\n",
       "      <td>0</td>\n",
       "      <td>2.3</td>\n",
       "      <td>0</td>\n",
       "      <td>0</td>\n",
       "      <td>1</td>\n",
       "      <td>1</td>\n",
       "      <td>98.6</td>\n",
       "    </tr>\n",
       "    <tr>\n",
       "      <th>1</th>\n",
       "      <td>37</td>\n",
       "      <td>1</td>\n",
       "      <td>2</td>\n",
       "      <td>130.0</td>\n",
       "      <td>250.0</td>\n",
       "      <td>0</td>\n",
       "      <td>1</td>\n",
       "      <td>187.0</td>\n",
       "      <td>0</td>\n",
       "      <td>3.5</td>\n",
       "      <td>0</td>\n",
       "      <td>0</td>\n",
       "      <td>2</td>\n",
       "      <td>1</td>\n",
       "      <td>98.6</td>\n",
       "    </tr>\n",
       "    <tr>\n",
       "      <th>2</th>\n",
       "      <td>41</td>\n",
       "      <td>0</td>\n",
       "      <td>1</td>\n",
       "      <td>130.0</td>\n",
       "      <td>204.0</td>\n",
       "      <td>0</td>\n",
       "      <td>0</td>\n",
       "      <td>172.0</td>\n",
       "      <td>0</td>\n",
       "      <td>1.4</td>\n",
       "      <td>2</td>\n",
       "      <td>0</td>\n",
       "      <td>2</td>\n",
       "      <td>1</td>\n",
       "      <td>98.6</td>\n",
       "    </tr>\n",
       "    <tr>\n",
       "      <th>3</th>\n",
       "      <td>56</td>\n",
       "      <td>1</td>\n",
       "      <td>1</td>\n",
       "      <td>120.0</td>\n",
       "      <td>236.0</td>\n",
       "      <td>0</td>\n",
       "      <td>1</td>\n",
       "      <td>178.0</td>\n",
       "      <td>0</td>\n",
       "      <td>0.8</td>\n",
       "      <td>2</td>\n",
       "      <td>0</td>\n",
       "      <td>2</td>\n",
       "      <td>1</td>\n",
       "      <td>98.1</td>\n",
       "    </tr>\n",
       "    <tr>\n",
       "      <th>4</th>\n",
       "      <td>57</td>\n",
       "      <td>0</td>\n",
       "      <td>0</td>\n",
       "      <td>120.0</td>\n",
       "      <td>354.0</td>\n",
       "      <td>0</td>\n",
       "      <td>1</td>\n",
       "      <td>163.0</td>\n",
       "      <td>1</td>\n",
       "      <td>0.6</td>\n",
       "      <td>2</td>\n",
       "      <td>0</td>\n",
       "      <td>2</td>\n",
       "      <td>1</td>\n",
       "      <td>97.5</td>\n",
       "    </tr>\n",
       "  </tbody>\n",
       "</table>\n",
       "</div>"
      ],
      "text/plain": [
       "   age  sex  chest pain type  resting blood pressure  cholesterol levels  \\\n",
       "0   63    1                3                   145.0               233.0   \n",
       "1   37    1                2                   130.0               250.0   \n",
       "2   41    0                1                   130.0               204.0   \n",
       "3   56    1                1                   120.0               236.0   \n",
       "4   57    0                0                   120.0               354.0   \n",
       "\n",
       "   fasting blood sugar > 120mg/dl  resting electrocardiographic  \\\n",
       "0                               1                             0   \n",
       "1                               0                             1   \n",
       "2                               0                             0   \n",
       "3                               0                             1   \n",
       "4                               0                             1   \n",
       "\n",
       "   maximum heart rate  exercise induced angina  old peak  slp  \\\n",
       "0               150.0                        0       2.3    0   \n",
       "1               187.0                        0       3.5    0   \n",
       "2               172.0                        0       1.4    2   \n",
       "3               178.0                        0       0.8    2   \n",
       "4               163.0                        1       0.6    2   \n",
       "\n",
       "   number of major vessels  thall  output  O2 saturation  \n",
       "0                        0      1       1           98.6  \n",
       "1                        0      2       1           98.6  \n",
       "2                        0      2       1           98.6  \n",
       "3                        0      2       1           98.1  \n",
       "4                        0      2       1           97.5  "
      ]
     },
     "execution_count": 51,
     "metadata": {},
     "output_type": "execute_result"
    }
   ],
   "source": [
    "mergedDf.head(5)"
   ]
  },
  {
   "cell_type": "markdown",
   "metadata": {
    "deletable": false,
    "editable": false
   },
   "source": [
    "<!-- BEGIN QUESTION -->\n",
    "\n",
    "**Question 13B:**  Do you think people with such cholesetrol levels have a higher probability of getting an heart attack than those with lower cholesterol levels? Justify this claim by providing a valid reason."
   ]
  },
  {
   "cell_type": "code",
   "execution_count": 57,
   "metadata": {},
   "outputs": [],
   "source": [
    "# Probability of people getting heart attack with Higher Cholestrol Levels\n",
    "numberOfPeople = mergedDf.loc[(mergedDf['cholesterol levels'] > 300)].count().values[0]\n",
    "heart_attack_cases = mergedDf.loc[(mergedDf['cholesterol levels'] > 300) & (mergedDf['output'] == 1)]\n",
    "\n",
    "probability = round(heart_attack_cases.shape[0] / numberOfPeople, 3) if numberOfPeople > 0 else 0\n",
    "\n",
    "# Probability of people getting heart attack with Lower Cholestrol Levels\n",
    "\n",
    "numberOfPeople_lower = mergedDf.loc[(mergedDf['cholesterol levels'] < 300)].count().values[0]\n",
    "heart_attack_cases_lower = mergedDf.loc[(mergedDf['cholesterol levels'] < 300) & (mergedDf['output'] == 1)]\n",
    "\n",
    "probability_lower = round(heart_attack_cases_lower.shape[0] / numberOfPeople_lower, 3) if numberOfPeople_lower > 0 else 0"
   ]
  },
  {
   "cell_type": "code",
   "execution_count": 58,
   "metadata": {},
   "outputs": [
    {
     "name": "stdout",
     "output_type": "stream",
     "text": [
      "High Cholestrol: 0.535, Lower Cholestrol 0.538\n"
     ]
    }
   ],
   "source": [
    "print(f'High Cholestrol: {probability}, Lower Cholestrol {probability_lower}')"
   ]
  },
  {
   "cell_type": "markdown",
   "metadata": {},
   "source": [
    "From the above calculation we can see that both groups are equally likely to have a heart attack. People with lower cholestrol levels have slightly higher chances than people with higher cholestrol."
   ]
  },
  {
   "cell_type": "markdown",
   "metadata": {
    "deletable": false,
    "editable": false
   },
   "source": [
    "<!-- END QUESTION -->\n",
    "\n",
    "**This marks the end of Assignment 1 Part 2 :) <br> Hooray! You made it to the end now give your self a pat on the back!**"
   ]
  }
 ],
 "metadata": {
  "kernelspec": {
   "display_name": "Python 3 (ipykernel)",
   "language": "python",
   "name": "python3"
  },
  "language_info": {
   "codemirror_mode": {
    "name": "ipython",
    "version": 3
   },
   "file_extension": ".py",
   "mimetype": "text/x-python",
   "name": "python",
   "nbconvert_exporter": "python",
   "pygments_lexer": "ipython3",
   "version": "3.12.2"
  },
  "otter": {
   "OK_FORMAT": true,
   "tests": {
    "Q0": {
     "name": "Q0",
     "points": 1,
     "suites": [
      {
       "cases": [
        {
         "code": ">>> assert heartDf.shape == (309, 14)\n>>> assert o2SaturationDf.shape == (309, 1)\n",
         "hidden": false,
         "locked": false
        }
       ],
       "scored": true,
       "setup": "",
       "teardown": "",
       "type": "doctest"
      }
     ]
    },
    "Q1": {
     "name": "Q1",
     "points": 1,
     "suites": [
      {
       "cases": [
        {
         "code": ">>> assert heartDfShape == (309, 14)\n>>> assert o2DfShape == (309, 1)\n",
         "hidden": false,
         "locked": false
        }
       ],
       "scored": true,
       "setup": "",
       "teardown": "",
       "type": "doctest"
      }
     ]
    },
    "Q10": {
     "name": "Q10",
     "points": 3,
     "suites": [
      {
       "cases": [
        {
         "code": ">>> assert gender_count.shape == (4, 2)\n>>> assert gender_count[0].sum() == 101\n>>> assert gender_count[1].sum() == 208\n",
         "hidden": false,
         "locked": false
        }
       ],
       "scored": true,
       "setup": "",
       "teardown": "",
       "type": "doctest"
      }
     ]
    },
    "Q11": {
     "name": "Q11",
     "points": 4,
     "suites": [
      {
       "cases": [
        {
         "code": ">>> assert male_prop == 37.019\n>>> assert female_prop == 21.782\n",
         "hidden": false,
         "locked": false
        }
       ],
       "scored": true,
       "setup": "",
       "teardown": "",
       "type": "doctest"
      }
     ]
    },
    "Q12": {
     "name": "Q12",
     "points": 3,
     "suites": [
      {
       "cases": [
        {
         "code": ">>> assert heartRates == [202.0, 194.0, 195.0, 179.0, 162.0]\n",
         "hidden": false,
         "locked": false
        }
       ],
       "scored": true,
       "setup": "",
       "teardown": "",
       "type": "doctest"
      }
     ]
    },
    "Q13A": {
     "name": "Q13A",
     "points": 3,
     "suites": [
      {
       "cases": [
        {
         "code": ">>> assert numberOfPeople == 43\n>>> assert probability == 0.535\n",
         "hidden": false,
         "locked": false
        }
       ],
       "scored": true,
       "setup": "",
       "teardown": "",
       "type": "doctest"
      }
     ]
    },
    "Q2B": {
     "name": "Q2B",
     "points": 2,
     "suites": [
      {
       "cases": [
        {
         "code": ">>> assert gender_distribution[1] == 208\n>>> assert gender_distribution[0] == 101\n",
         "hidden": false,
         "locked": false
        }
       ],
       "scored": true,
       "setup": "",
       "teardown": "",
       "type": "doctest"
      }
     ]
    },
    "Q2a": {
     "name": "Q2a",
     "points": 2,
     "suites": [
      {
       "cases": [
        {
         "code": ">>> assert heartdf_description.shape == (8, 14)\n>>> assert o2df_description.shape == (8, 1)\n",
         "hidden": false,
         "locked": false
        }
       ],
       "scored": true,
       "setup": "",
       "teardown": "",
       "type": "doctest"
      }
     ]
    },
    "Q3A": {
     "name": "Q3A",
     "points": 3,
     "suites": [
      {
       "cases": [
        {
         "code": ">>> assert 'exercise induced angina' in heartDf.columns\n>>> assert 'number of major vessels' in heartDf.columns\n>>> assert 'chest pain type' in heartDf.columns\n>>> assert 'fasting blood sugar > 120mg/dl' in heartDf.columns\n>>> assert 'resting blood pressure' in heartDf.columns\n>>> assert 'old peak' in heartDf.columns\n>>> assert 'cholesterol levels' in heartDf.columns\n>>> assert 'resting electrocardiographic' in heartDf.columns\n>>> assert 'maximum heart rate' in heartDf.columns\n>>> assert 'O2 saturation' in o2SaturationDf.columns\n",
         "hidden": false,
         "locked": false
        }
       ],
       "scored": true,
       "setup": "",
       "teardown": "",
       "type": "doctest"
      }
     ]
    },
    "Q3B": {
     "name": "Q3B",
     "points": 2,
     "suites": [
      {
       "cases": [
        {
         "code": ">>> assert mergedDf.shape == (309, 15)\n>>> assert 'O2 saturation' in mergedDf.columns\n",
         "hidden": false,
         "locked": false
        }
       ],
       "scored": true,
       "setup": "",
       "teardown": "",
       "type": "doctest"
      }
     ]
    },
    "Q4": {
     "name": "Q4",
     "points": 5,
     "suites": [
      {
       "cases": [
        {
         "code": ">>> assert belowForty.shape == (16, 15)\n>>> assert ageBtw40_50.shape == (72, 15)\n>>> assert ageBtw50_60.shape == (131, 15)\n>>> assert ageBtw60_70.shape == (80, 15)\n>>> assert aboveSeventy.shape == (10, 15)\n",
         "hidden": false,
         "locked": false
        }
       ],
       "scored": true,
       "setup": "",
       "teardown": "",
       "type": "doctest"
      }
     ]
    },
    "Q5A": {
     "name": "Q5A",
     "points": 2,
     "suites": [
      {
       "cases": [
        {
         "code": ">>> assert mean_ages_by_sex[0] == 55.79207920792079\n>>> assert mean_ages_by_sex[1] == 53.77403846153846\n",
         "hidden": false,
         "locked": false
        }
       ],
       "scored": true,
       "setup": "",
       "teardown": "",
       "type": "doctest"
      }
     ]
    },
    "Q5B": {
     "name": "Q5B",
     "points": 3,
     "suites": [
      {
       "cases": [
        {
         "code": ">>> assert patients_with_normal_heartrate.shape == (143, 15)\n",
         "hidden": false,
         "locked": false
        }
       ],
       "scored": true,
       "setup": "",
       "teardown": "",
       "type": "doctest"
      }
     ]
    },
    "Q5C": {
     "name": "Q5C",
     "points": 2,
     "suites": [
      {
       "cases": [
        {
         "code": ">>> assert mean_cholesterol_youngerPatients == 232.3653846153846\n",
         "hidden": false,
         "locked": false
        }
       ],
       "scored": true,
       "setup": "",
       "teardown": "",
       "type": "doctest"
      }
     ]
    },
    "Q5D": {
     "name": "Q5D",
     "points": 3,
     "suites": [
      {
       "cases": [
        {
         "code": ">>> assert high_risk_counts[0] == 15\n>>> assert high_risk_counts[1] == 1\n>>> assert high_risk_counts[2] == 2\n>>> assert high_risk_counts[3] == 0\n",
         "hidden": false,
         "locked": false
        }
       ],
       "scored": true,
       "setup": "",
       "teardown": "",
       "type": "doctest"
      }
     ]
    },
    "Q6": {
     "name": "Q6",
     "points": 4,
     "suites": [
      {
       "cases": [
        {
         "code": ">>> assert q6ans.strip().lower() == 'yes'\n>>> assert meanOfAboveSeventy == 135.8\n>>> assert meanOfBelowForty == 125.5\n",
         "hidden": false,
         "locked": false
        }
       ],
       "scored": true,
       "setup": "",
       "teardown": "",
       "type": "doctest"
      }
     ]
    },
    "Q7": {
     "name": "Q7",
     "points": 2,
     "suites": [
      {
       "cases": [
        {
         "code": ">>> assert frequentO2Saturation == 97.5\n",
         "hidden": false,
         "locked": false
        }
       ],
       "scored": true,
       "setup": "",
       "teardown": "",
       "type": "doctest"
      }
     ]
    },
    "Q8": {
     "name": "Q8",
     "points": 5,
     "suites": [
      {
       "cases": [
        {
         "code": ">>> assert belowFortyChestPain == 2\n>>> assert ageBtw40_50ChestPain == 0\n>>> assert ageBtw50_60ChestPain == 0\n>>> assert ageBtw60_70ChestPain == 0\n>>> assert aboveSeventyChestPain == 0\n>>> assert mostObservedChestPain == 0\n",
         "hidden": false,
         "locked": false
        }
       ],
       "scored": true,
       "setup": "",
       "teardown": "",
       "type": "doctest"
      }
     ]
    },
    "Q9": {
     "name": "Q9",
     "points": 4,
     "suites": [
      {
       "cases": [
        {
         "code": ">>> assert medianOfAllCholLevels == [207.0, 235.5, 239.0, 252.5, 267.0]\n",
         "hidden": false,
         "locked": false
        }
       ],
       "scored": true,
       "setup": "",
       "teardown": "",
       "type": "doctest"
      }
     ]
    }
   }
  }
 },
 "nbformat": 4,
 "nbformat_minor": 4
}

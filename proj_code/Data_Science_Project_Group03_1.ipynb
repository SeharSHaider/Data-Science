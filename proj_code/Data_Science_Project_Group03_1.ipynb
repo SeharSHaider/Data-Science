{
 "cells": [
  {
   "cell_type": "markdown",
   "metadata": {
    "id": "yFb_RiPlgumm"
   },
   "source": [
    "# Data Science Project - Group 3\n",
    "\n",
    "## Introduction\n",
    "\n",
    "Understanding how students manage their spending can offer valuable insights into their lifestyle choices and financial habits. This project aims to explore the differences in spending patterns between hostelites (students living on campus) and day scholars (students commuting from home), focusing on their preferences for on-campus eateries. By analyzing how these groups allocate their budgets and interact with dining services, we hope to uncover trends that reflect their needs and preferences.  \n",
    "\n",
    "Our goal is not just to identify popular eateries but also to understand how spending habits are influenced by a student’s residency status and monthly budget. The findings could help the university make informed decisions about dining services and support programs, ultimately improving the student experience.\n"
   ]
  },
  {
   "cell_type": "markdown",
   "metadata": {
    "id": "vAaGD2-2har9"
   },
   "source": [
    "## The Dataset\n",
    "\n",
    "The goal of this dataset is to analyze the spending patterns and food choices of students on campus, with a focus on identifying key factors that influence their decisions. We surveyed university students through a google form, which was sent to all batches (this will help us assume we have gathered diverse data). Uptil now we have collected around 100+ responses from university sudents. The data we have collected focuses on categorical variables (day scholar/hostelite, eatery choice) and continuous variables (monthly budget)\n",
    "\n",
    "### Features:  \n",
    "- **Age**: Student's age.  \n",
    "- **Gender**: Male, female, or other.  \n",
    "- **Location**: Residency status (day scholar or hostelite).  \n",
    "- **Monthly Budget**: Total monthly expenditure.  \n",
    "- **Monthly Food Spending**: Amount spent on food each month.  \n",
    "- **Primary Payment Method**: Parental support/self earned.  \n",
    "- **Work Status**: Employment status (e.g., part-time, unemployed).  \n",
    "- **Diet Preferences**: High protein/low carb/eat everything.  \n",
    "- **Allergies**: Any food-related allergies.  \n",
    "- **Frequency of Cooking**: How often students cook meals themselves.  \n",
    "- **Frequency of Eating at Campus Eateries**: Visits to on-campus dining facilities.  \n",
    "- **Satisfaction Levels**: Contentment with campus dining options.  \n",
    "- **Preferences for Takeaways or Deliveries**: Inclination toward ordering food.  \n",
    "- **Self-Rated Eating Habits**: How students perceive their eating patterns.  \n",
    "- **Healthiness**: Self-assessed healthiness of eating choices.  "
   ]
  },
  {
   "cell_type": "markdown",
   "metadata": {
    "id": "XyT6FVsAhzoR"
   },
   "source": [
    "## Overview of the Data Collected\n",
    "\n",
    "Before data cleaning, we explore the dataset to understand its structure, check for missing values, and identify key characteristics of the data.\n",
    "\n",
    "\n"
   ]
  },
  {
   "cell_type": "code",
   "execution_count": 1,
   "metadata": {
    "id": "-80lEZG9idUR"
   },
   "outputs": [],
   "source": [
    "#Import Libraries\n",
    "\n",
    "import pandas as pd\n",
    "import numpy as np\n",
    "import seaborn as sns\n",
    "import matplotlib.pyplot as plt\n",
    "import scipy as sc\n",
    "import re"
   ]
  },
  {
   "cell_type": "code",
   "execution_count": 2,
   "metadata": {
    "colab": {
     "base_uri": "https://localhost:8080/"
    },
    "id": "1bBMB3hcjFnL",
    "outputId": "9c0bc4ee-5999-44cb-f004-72a94a573c07"
   },
   "outputs": [
    {
     "data": {
      "text/plain": [
       "(107, 32)"
      ]
     },
     "execution_count": 2,
     "metadata": {},
     "output_type": "execute_result"
    }
   ],
   "source": [
    "#read the file\n",
    "df = pd.read_csv(\"file.csv\")\n",
    "\n",
    "df.shape\n"
   ]
  },
  {
   "cell_type": "markdown",
   "metadata": {
    "id": "Tzy_8obPKmfq"
   },
   "source": [
    "Lets first take a few snapshots of our data."
   ]
  },
  {
   "cell_type": "code",
   "execution_count": 3,
   "metadata": {
    "colab": {
     "base_uri": "https://localhost:8080/",
     "height": 654
    },
    "id": "oJEUyOxJj9SN",
    "outputId": "b336dd7c-d17f-4d59-f952-6705500be86f"
   },
   "outputs": [
    {
     "data": {
      "text/html": [
       "<div>\n",
       "<style scoped>\n",
       "    .dataframe tbody tr th:only-of-type {\n",
       "        vertical-align: middle;\n",
       "    }\n",
       "\n",
       "    .dataframe tbody tr th {\n",
       "        vertical-align: top;\n",
       "    }\n",
       "\n",
       "    .dataframe thead th {\n",
       "        text-align: right;\n",
       "    }\n",
       "</style>\n",
       "<table border=\"1\" class=\"dataframe\">\n",
       "  <thead>\n",
       "    <tr style=\"text-align: right;\">\n",
       "      <th></th>\n",
       "      <th>Timestamp</th>\n",
       "      <th>What is your age?</th>\n",
       "      <th>What is your gender?</th>\n",
       "      <th>Where do you live?</th>\n",
       "      <th>What is your monthly budget?</th>\n",
       "      <th>How much do you spend on food every month?</th>\n",
       "      <th>How do you primarily pay for your food?</th>\n",
       "      <th>Do you work on campus/outside?</th>\n",
       "      <th>Which specific diet plan do you follow?</th>\n",
       "      <th>Do you have any diet related allergies?</th>\n",
       "      <th>...</th>\n",
       "      <th>How often do you eat at Green Olive per week?</th>\n",
       "      <th>How often do you eat at Bunker per week?</th>\n",
       "      <th>How often do you eat at Baithak per week?</th>\n",
       "      <th>How often do you eat from outside of Lums per week?</th>\n",
       "      <th>On a scale 1 to 5 rate how satisfied you are with eating options at campus</th>\n",
       "      <th>Do you prefer takeaways or deliveries?</th>\n",
       "      <th>What time do you usually get Takeaways?</th>\n",
       "      <th>What time do you usually get Deliveries?</th>\n",
       "      <th>How would you describe your eating habits on a scale of 1 to 5</th>\n",
       "      <th>How would you describe how healthy you are on a scale of 1 to 5</th>\n",
       "    </tr>\n",
       "  </thead>\n",
       "  <tbody>\n",
       "    <tr>\n",
       "      <th>0</th>\n",
       "      <td>17/10/2024 19:46:41</td>\n",
       "      <td>23</td>\n",
       "      <td>Male</td>\n",
       "      <td>Day scholar</td>\n",
       "      <td>10,000 - 15,000</td>\n",
       "      <td>5,000 - 10,000</td>\n",
       "      <td>Parental/Family support</td>\n",
       "      <td>TAs</td>\n",
       "      <td>High Protein</td>\n",
       "      <td>No</td>\n",
       "      <td>...</td>\n",
       "      <td>Never</td>\n",
       "      <td>Never</td>\n",
       "      <td>Never</td>\n",
       "      <td>1-2 times per week</td>\n",
       "      <td>1</td>\n",
       "      <td>Takeaways</td>\n",
       "      <td>Dinner</td>\n",
       "      <td>Dinner, Late night</td>\n",
       "      <td>3</td>\n",
       "      <td>3</td>\n",
       "    </tr>\n",
       "    <tr>\n",
       "      <th>1</th>\n",
       "      <td>17/10/2024 19:46:50</td>\n",
       "      <td>22</td>\n",
       "      <td>Female</td>\n",
       "      <td>Day scholar</td>\n",
       "      <td>25,000 - 30,000</td>\n",
       "      <td>10,000 - 15,000</td>\n",
       "      <td>Parental/Family support</td>\n",
       "      <td>TAs</td>\n",
       "      <td>I eat everything</td>\n",
       "      <td>No</td>\n",
       "      <td>...</td>\n",
       "      <td>sometimes</td>\n",
       "      <td>Never</td>\n",
       "      <td>3-4 times per week</td>\n",
       "      <td>5-6 times per week</td>\n",
       "      <td>4</td>\n",
       "      <td>Deliveries</td>\n",
       "      <td>Early Dinner</td>\n",
       "      <td>Early Dinner, Dinner</td>\n",
       "      <td>1</td>\n",
       "      <td>3</td>\n",
       "    </tr>\n",
       "    <tr>\n",
       "      <th>2</th>\n",
       "      <td>17/10/2024 19:49:03</td>\n",
       "      <td>22</td>\n",
       "      <td>Female</td>\n",
       "      <td>Day scholar</td>\n",
       "      <td>15,000 - 20,000</td>\n",
       "      <td>10,000 - 15,000</td>\n",
       "      <td>Parental/Family support</td>\n",
       "      <td>TAs</td>\n",
       "      <td>I eat everything</td>\n",
       "      <td>No</td>\n",
       "      <td>...</td>\n",
       "      <td>Never</td>\n",
       "      <td>Never</td>\n",
       "      <td>1-2 times per week</td>\n",
       "      <td>1-2 times per week</td>\n",
       "      <td>4</td>\n",
       "      <td>Deliveries</td>\n",
       "      <td>Lunch,</td>\n",
       "      <td>Late night</td>\n",
       "      <td>3</td>\n",
       "      <td>2</td>\n",
       "    </tr>\n",
       "    <tr>\n",
       "      <th>3</th>\n",
       "      <td>17/10/2024 19:49:17</td>\n",
       "      <td>22</td>\n",
       "      <td>Female</td>\n",
       "      <td>Hostelite but living in Lahore</td>\n",
       "      <td>20,000 - 25,000</td>\n",
       "      <td>15,000 - 20,000</td>\n",
       "      <td>Earning from a job</td>\n",
       "      <td>Job/Freelance</td>\n",
       "      <td>I eat everything</td>\n",
       "      <td>No</td>\n",
       "      <td>...</td>\n",
       "      <td>1-2 times per week</td>\n",
       "      <td>Never</td>\n",
       "      <td>1-2 times per week</td>\n",
       "      <td>1-2 times per week</td>\n",
       "      <td>3</td>\n",
       "      <td>Deliveries</td>\n",
       "      <td>Breakfast, Brunch, Lunch, Early Dinner, Dinner...</td>\n",
       "      <td>Breakfast, Brunch, Lunch, Early Dinner, Dinner...</td>\n",
       "      <td>2</td>\n",
       "      <td>2</td>\n",
       "    </tr>\n",
       "    <tr>\n",
       "      <th>4</th>\n",
       "      <td>17/10/2024 19:53:22</td>\n",
       "      <td>25</td>\n",
       "      <td>Female</td>\n",
       "      <td>Day scholar</td>\n",
       "      <td>15,000 - 20,000</td>\n",
       "      <td>5,000 - 10,000</td>\n",
       "      <td>Parental/Family support</td>\n",
       "      <td>I don’t work</td>\n",
       "      <td>I eat everything</td>\n",
       "      <td>No</td>\n",
       "      <td>...</td>\n",
       "      <td>Never</td>\n",
       "      <td>Never</td>\n",
       "      <td>Never</td>\n",
       "      <td>Never</td>\n",
       "      <td>3</td>\n",
       "      <td>Deliveries</td>\n",
       "      <td>Lunch</td>\n",
       "      <td>Dinner</td>\n",
       "      <td>3</td>\n",
       "      <td>3</td>\n",
       "    </tr>\n",
       "  </tbody>\n",
       "</table>\n",
       "<p>5 rows × 32 columns</p>\n",
       "</div>"
      ],
      "text/plain": [
       "             Timestamp  What is your age? What is your gender?  \\\n",
       "0  17/10/2024 19:46:41                 23                 Male   \n",
       "1  17/10/2024 19:46:50                 22               Female   \n",
       "2  17/10/2024 19:49:03                 22               Female   \n",
       "3  17/10/2024 19:49:17                 22               Female   \n",
       "4  17/10/2024 19:53:22                 25               Female   \n",
       "\n",
       "               Where do you live? What is your monthly budget?  \\\n",
       "0                     Day scholar              10,000 - 15,000   \n",
       "1                     Day scholar              25,000 - 30,000   \n",
       "2                     Day scholar              15,000 - 20,000   \n",
       "3  Hostelite but living in Lahore              20,000 - 25,000   \n",
       "4                     Day scholar              15,000 - 20,000   \n",
       "\n",
       "  How much do you spend on food every month?  \\\n",
       "0                             5,000 - 10,000   \n",
       "1                            10,000 - 15,000   \n",
       "2                            10,000 - 15,000   \n",
       "3                            15,000 - 20,000   \n",
       "4                             5,000 - 10,000   \n",
       "\n",
       "  How do you primarily pay for your food? Do you work on campus/outside?  \\\n",
       "0                 Parental/Family support                            TAs   \n",
       "1                 Parental/Family support                            TAs   \n",
       "2                 Parental/Family support                            TAs   \n",
       "3                      Earning from a job                  Job/Freelance   \n",
       "4                 Parental/Family support                   I don’t work   \n",
       "\n",
       "  Which specific diet plan do you follow?  \\\n",
       "0                            High Protein   \n",
       "1                        I eat everything   \n",
       "2                        I eat everything   \n",
       "3                        I eat everything   \n",
       "4                        I eat everything   \n",
       "\n",
       "  Do you have any diet related allergies?  ...  \\\n",
       "0                                      No  ...   \n",
       "1                                      No  ...   \n",
       "2                                      No  ...   \n",
       "3                                      No  ...   \n",
       "4                                      No  ...   \n",
       "\n",
       "  How often do you eat at Green Olive per week?  \\\n",
       "0                                         Never   \n",
       "1                                     sometimes   \n",
       "2                                         Never   \n",
       "3                            1-2 times per week   \n",
       "4                                         Never   \n",
       "\n",
       "  How often do you eat at Bunker per week?  \\\n",
       "0                                    Never   \n",
       "1                                    Never   \n",
       "2                                    Never   \n",
       "3                                    Never   \n",
       "4                                    Never   \n",
       "\n",
       "  How often do you eat at Baithak per week?  \\\n",
       "0                                     Never   \n",
       "1                        3-4 times per week   \n",
       "2                        1-2 times per week   \n",
       "3                        1-2 times per week   \n",
       "4                                     Never   \n",
       "\n",
       "  How often do you eat from outside of Lums per week?  \\\n",
       "0                                 1-2 times per week    \n",
       "1                                 5-6 times per week    \n",
       "2                                 1-2 times per week    \n",
       "3                                 1-2 times per week    \n",
       "4                                              Never    \n",
       "\n",
       "  On a scale 1 to 5 rate how satisfied you are with eating options at campus  \\\n",
       "0                                                  1                           \n",
       "1                                                  4                           \n",
       "2                                                  4                           \n",
       "3                                                  3                           \n",
       "4                                                  3                           \n",
       "\n",
       "  Do you prefer takeaways or deliveries?  \\\n",
       "0                              Takeaways   \n",
       "1                             Deliveries   \n",
       "2                             Deliveries   \n",
       "3                             Deliveries   \n",
       "4                             Deliveries   \n",
       "\n",
       "           What time do you usually get Takeaways?    \\\n",
       "0                                             Dinner   \n",
       "1                                       Early Dinner   \n",
       "2                                            Lunch,    \n",
       "3  Breakfast, Brunch, Lunch, Early Dinner, Dinner...   \n",
       "4                                              Lunch   \n",
       "\n",
       "          What time do you usually get Deliveries?    \\\n",
       "0                                 Dinner, Late night   \n",
       "1                               Early Dinner, Dinner   \n",
       "2                                         Late night   \n",
       "3  Breakfast, Brunch, Lunch, Early Dinner, Dinner...   \n",
       "4                                             Dinner   \n",
       "\n",
       "  How would you describe your eating habits on a scale of 1 to 5  \\\n",
       "0                                                  3               \n",
       "1                                                  1               \n",
       "2                                                  3               \n",
       "3                                                  2               \n",
       "4                                                  3               \n",
       "\n",
       "  How would you describe how healthy you are on a scale of 1 to 5  \n",
       "0                                                  3               \n",
       "1                                                  3               \n",
       "2                                                  2               \n",
       "3                                                  2               \n",
       "4                                                  3               \n",
       "\n",
       "[5 rows x 32 columns]"
      ]
     },
     "execution_count": 3,
     "metadata": {},
     "output_type": "execute_result"
    }
   ],
   "source": [
    "df.head(5)\n",
    "\n"
   ]
  },
  {
   "cell_type": "code",
   "execution_count": 4,
   "metadata": {
    "colab": {
     "base_uri": "https://localhost:8080/"
    },
    "id": "a2hd4S5DKmfs",
    "outputId": "ab2ff555-fb85-487b-f64e-2dfc5de2c0b7"
   },
   "outputs": [
    {
     "name": "stdout",
     "output_type": "stream",
     "text": [
      "Columns with missing values:\n",
      "If you said Yes to above question, please specify which allergy.    101\n",
      "dtype: int64\n"
     ]
    }
   ],
   "source": [
    "# Check for missing values in the entire DataFrame\n",
    "missing_values = df.isnull().sum()\n",
    "\n",
    "# Filter and display columns with missing values\n",
    "missing_report = missing_values[missing_values > 0]\n",
    "\n",
    "if not missing_report.empty:\n",
    "    print(\"Columns with missing values:\")\n",
    "    print(missing_report)\n",
    "else:\n",
    "    print(\"No missing values in the DataFrame.\")"
   ]
  },
  {
   "cell_type": "code",
   "execution_count": 5,
   "metadata": {
    "colab": {
     "base_uri": "https://localhost:8080/"
    },
    "id": "JF2Jr4sHKmfu",
    "outputId": "32711a9d-57af-4914-efa9-c5f92dddaeec"
   },
   "outputs": [
    {
     "name": "stdout",
     "output_type": "stream",
     "text": [
      "Data types of each column:\n",
      "Timestamp                                                                     object\n",
      "What is your age?                                                              int64\n",
      "What is your gender?                                                          object\n",
      "Where do you live?                                                            object\n",
      "What is your monthly budget?                                                  object\n",
      "How much do you spend on food every month?                                    object\n",
      "How do you primarily pay for your food?                                       object\n",
      "Do you work on campus/outside?                                                object\n",
      "Which specific diet plan do you follow?                                       object\n",
      "Do you have any diet related allergies?                                       object\n",
      "If you said Yes to above question, please specify which allergy.              object\n",
      "How often you cook your own meals in a week?                                  object\n",
      "How often do you eat at PDC per week?                                         object\n",
      "How often do you eat at Baradari  per week?                                   object\n",
      "How often do you eat at Khokha  per week?                                     object\n",
      "How often do you eat at Superstore  per week?                                 object\n",
      "How often do you eat at Zakir Tikka  per week?                                object\n",
      "How often do you eat at Juice Zone per week?                                  object\n",
      "How often do you eat at Subway per week?                                      object\n",
      "How often do you eat at Chop Chop per week?                                   object\n",
      "How often do you eat at Delish per week?                                      object\n",
      "How often do you eat at Jammin per week?                                      object\n",
      "How often do you eat at Green Olive per week?                                 object\n",
      "How often do you eat at Bunker per week?                                      object\n",
      "How often do you eat at Baithak per week?                                     object\n",
      "How often do you eat from outside of Lums per week?                           object\n",
      "On a scale 1 to 5 rate how satisfied you are with eating options at campus     int64\n",
      "Do you prefer takeaways or deliveries?                                        object\n",
      "What time do you usually get Takeaways?                                       object\n",
      "What time do you usually get Deliveries?                                      object\n",
      "How would you describe your eating habits on a scale of 1 to 5                 int64\n",
      "How would you describe how healthy you are on a scale of 1 to 5                int64\n",
      "dtype: object\n"
     ]
    }
   ],
   "source": [
    "# Data types of each col\n",
    "print(\"Data types of each column:\")\n",
    "print(df.dtypes)"
   ]
  },
  {
   "cell_type": "code",
   "execution_count": 6,
   "metadata": {
    "colab": {
     "base_uri": "https://localhost:8080/"
    },
    "id": "icJkLhH5Kmfv",
    "outputId": "15092ff7-a671-4b1b-c832-abb207d5546b"
   },
   "outputs": [
    {
     "name": "stdout",
     "output_type": "stream",
     "text": [
      "Unique values in 'What is your gender?': ['Male' 'Female' 'Prefer not to say']\n",
      "Unique values in 'Where do you live?': ['Day scholar' 'Hostelite but living in Lahore' 'Hostelite']\n",
      "Unique values in 'What is your monthly budget?': ['10,000 - 15,000' '25,000 - 30,000' '15,000 - 20,000' '20,000 - 25,000'\n",
      " '45,000 - 50,000' '5,000 - 10,000' '60000' '30,000 - 35,000'\n",
      " 'less than 5000' '35,000 - 40, 000' '40,000 - 45,000' '60k']\n",
      "Unique values in 'How much do you spend on food every month?': ['5,000 - 10,000' '10,000 - 15,000' '15,000 - 20,000' '2,000 - 5,000'\n",
      " 'Almost all of it' '28000' '25000' '30000' '35000' '1000-2000' '25000+'\n",
      " '50000' '50k' '40k+' '32,000-35,000' '30-35k' '25-30k']\n",
      "Unique values in 'How do you primarily pay for your food?': ['Parental/Family support' 'Earning from a job'\n",
      " 'Parental/Family support, Financial Aid'\n",
      " 'Parental/Family support, Earning from a job'\n",
      " 'Personal Savings, Parental/Family support, Earning from a job'\n",
      " 'Personal Savings' 'Personal Savings, Earning from a job'\n",
      " 'Personal Savings, Parental/Family support' 'My own business'\n",
      " 'Personal Savings, Parental/Family support, Financial Aid, Earning from a job']\n",
      "Unique values in 'Do you work on campus/outside?': ['TAs' 'Job/Freelance' 'I don’t work' 'Other jobs on campus' 'RAs']\n",
      "Unique values in 'Which specific diet plan do you follow?': ['High Protein' 'I eat everything' 'I eat everything except chicken'\n",
      " 'Low carb' 'Not any specific plan' 'Gluten free']\n",
      "Unique values in 'Do you have any diet related allergies?': ['No' 'Yes']\n",
      "Unique values in 'If you said Yes to above question, please specify which allergy.': [nan 'Peanuts, eggs, banana' '_' 'Probably Lactose Intolerant ' 'Gluten'\n",
      " 'I have celiac disease ' 'peanuts']\n",
      "Unique values in 'How often you cook your own meals in a week?': ['Never' '1-2 times per week' 'once or twice a month' '7-8 times per week'\n",
      " '3-4 times per week' '5-6 times per week' 'sometimes (2-3 times a month)'\n",
      " 'I only make instant oats and toast']\n",
      "Unique values in 'How often do you eat at PDC per week?': ['1-2 times per week' 'Never' '5-6 times per week' '3-4 times per week'\n",
      " '7-8 times per week' 'Easy 12+ times in a week' '10-12 times per week'\n",
      " 'rarely']\n",
      "Unique values in 'How often do you eat at Baradari  per week?': ['Never' '1-2 times per week' '1 or 2 times every 2 weeks'\n",
      " '5-6 times per week' '3-4 times per week' 'once a month']\n",
      "Unique values in 'How often do you eat at Khokha  per week?': ['1-2 times per week' 'Never' '3-4 times per week'\n",
      " 'Ate 1 time and got sick so never now'\n",
      " 'rarely but I get snacks sometimes' '7-8 times per week']\n",
      "Unique values in 'How often do you eat at Superstore  per week?': ['3-4 times per week' '7-8 times per week' 'Never' '1-2 times per week'\n",
      " '5-6 times per week' 'rarely but I have coffee from there']\n",
      "Unique values in 'How often do you eat at Zakir Tikka  per week?': ['Never' '1-2 times per week' '5-6 times per week' '3-4 times per week'\n",
      " 'rarely']\n",
      "Unique values in 'How often do you eat at Juice Zone per week?': ['Never' '1-2 times per week' '3-4 times per week' 'only chai']\n",
      "Unique values in 'How often do you eat at Subway per week?': ['Never' '1-2 times per week' '3-4 times per week' '5-6 times per week'\n",
      " 'Twice a month' '3-4 times a semester']\n",
      "Unique values in 'How often do you eat at Chop Chop per week?': ['Never' '1-2 times per week' 'once in a month or two months'\n",
      " 'Once a month']\n",
      "Unique values in 'How often do you eat at Delish per week?': ['Never' '1-2 times per week' '3-4 times per week'\n",
      " 'once or twice a semester' '5-6 times per week'\n",
      " 'Very rarely. Their quality has gone down'\n",
      " 'Sometimes. Not on weekly basis' 'Once a month' '4-5 times per semester']\n",
      "Unique values in 'How often do you eat at Jammin per week?': ['Never' '3-4 times per week' '1-2 times per week' 'Rarely' 'Once a month'\n",
      " 'Twice or thrice a month' '7-8 times per week']\n",
      "Unique values in 'How often do you eat at Green Olive per week?': ['Never' 'sometimes' '1-2 times per week' 'once twicw semester'\n",
      " '3-4 times per week' 'Sometimes ']\n",
      "Unique values in 'How often do you eat at Bunker per week?': ['Never' '3-4 times per week' 'once or twice semester'\n",
      " '1-2 times per week' '7-8 times per week']\n",
      "Unique values in 'How often do you eat at Baithak per week?': ['Never' '3-4 times per week' '1-2 times per week' '5-6 times per week'\n",
      " '7-8 times per week' 'Chai only']\n",
      "Unique values in 'How often do you eat from outside of Lums per week?': ['1-2 times per week' '5-6 times per week' 'Never' '3-4 times per week'\n",
      " '7-8 times per week' '1 or 2 times a month' 'Only colour days'\n",
      " 'I eat at home bruh' 'rarely']\n",
      "Unique values in 'Do you prefer takeaways or deliveries?': ['Takeaways' 'Deliveries']\n",
      "Unique values in 'What time do you usually get Takeaways?  ': ['Dinner' 'Early Dinner' 'Lunch, '\n",
      " 'Breakfast, Brunch, Lunch, Early Dinner, Dinner, Late night' 'Lunch'\n",
      " 'Lunch, Dinner' 'Lunch, Early Dinner' 'Late night' 'Don’t '\n",
      " 'Lunch, Early Dinner, Dinner' 'I dont get takeaways'\n",
      " 'I don’t get takeaways' 'Brunch, Lunch, Early Dinner'\n",
      " \"I don't do takeaways\" 'Breakfast, Lunch' 'Early Dinner, Dinner'\n",
      " 'Early Dinner, I don’t get takeaways' 'Early Dinner, Late night'\n",
      " 'Lunch, Early Dinner, I don’t get takeaways' 'Lunch, Dinner, Late night'\n",
      " 'Dinner, Late night' 'Breakfast' 'Early Dinner, Dinner, Late night'\n",
      " 'Breakfast, Brunch, Lunch, Early Dinner, Dinner, Late night, I don’t get takeaways'\n",
      " 'Brunch, Lunch' 'I dont' 'Breakfast, Early Dinner, Late night'\n",
      " 'Breakfast, Dinner' 'Brunch, Dinner' 'Lunch, I don’t get takeaways']\n",
      "Unique values in 'What time do you usually get Deliveries?  ': ['Dinner, Late night' 'Early Dinner, Dinner' 'Late night'\n",
      " 'Breakfast, Brunch, Lunch, Early Dinner, Dinner, Late night' 'Dinner'\n",
      " 'Lunch, Dinner' 'Lunch, Early Dinner, Dinner'\n",
      " 'Breakfast, Dinner, Late night' 'Early Dinner' 'Lunch'\n",
      " 'Lunch, Late night' 'Early Dinner, Dinner, Late night' \"Usually don't \"\n",
      " 'Lunch, Early Dinner, Dinner, Late night' 'Nothing '\n",
      " 'Lunch, Early Dinner' 'Brunch, Lunch, Early Dinner, Dinner, Late night'\n",
      " 'Not really' \"I don't bruh\" 'Breakfast, Early Dinner, Late night'\n",
      " 'Lunch, Dinner, Late night'\n",
      " 'Late night, tbh 5am is closer to early morning so yeah' 'Nahi kartay'\n",
      " 'Breakfast' 'Breakfast, Lunch, Early Dinner, Dinner, Late night']\n"
     ]
    }
   ],
   "source": [
    "# Get all categorical columns (object type or explicitly set as categorical)\n",
    "categorical_cols = df.select_dtypes(include=['object', 'category']).columns[1:] #remove timestamp col from here\n",
    "\n",
    "\n",
    "# Display unique values for each categorical column\n",
    "for col in categorical_cols:\n",
    "    unique_values = df[col].unique()\n",
    "    print(f\"Unique values in '{col}': {unique_values}\")"
   ]
  },
  {
   "cell_type": "markdown",
   "metadata": {
    "id": "CBBnM_HcKmfw"
   },
   "source": [
    "### Some Observations\n",
    "\n",
    "- Categorical Values\n",
    "Columns with categorical data, such as \"gender\" (Male/Female/Other), contain values that require standardization. These values should be cleaned and mapped to numerical labels for easier analysis.\n",
    "\n",
    "- Missing Values in Allergy Column\n",
    "The \"allergy_details\" column contains missing or unspecified values. These need to be addressed.\n",
    "\n",
    "- Long Column Names\n",
    "Several column names are excessively long, contain spaces, or are in uppercase, making them difficult to work with. These need to be shortened, standardized, and converted to a consistent format.\n",
    "\n",
    "- Range-Based Values in Budget and Spending Columns\n",
    "Columns such as \"monthly budget\" and \"food spending\" contain range values (e.g., \"10,000-15,000\") or non-standard formats (e.g., \"5000+\"). These need to be cleaned and converted to a single numeric value, possibly through averaging.\n",
    "\n",
    "- Multiple Selections in Categorical Columns\n",
    "Some columns, like \"payment method\", allow multiple selections (e.g., \"Parental Support, Financial Aid\"). These need to be handled using techniques such as one-hot.\n",
    "\n",
    "- Outliers and Ambiguous Categorical Frequency Data\n",
    "Columns that record the frequency of visits to eateries, such as \"PDC visits\", currently contain categorical values with outliers and inconsistencies. These need to be cleaned."
   ]
  },
  {
   "cell_type": "markdown",
   "metadata": {
    "id": "Bx9oLng-Kmfw"
   },
   "source": [
    "## Data Cleaning"
   ]
  },
  {
   "cell_type": "markdown",
   "metadata": {
    "id": "My4urGXmKmfx"
   },
   "source": [
    "#### 1. Let's first rename all columns and make them shorter for consistency and clarity."
   ]
  },
  {
   "cell_type": "markdown",
   "metadata": {
    "id": "oXcoS7AcKmfx"
   },
   "source": [
    "\n",
    "##### Renamed Columns Table\n",
    "\n",
    "| Original Column Name                                                                 | New Column Name          |\n",
    "|---------------------------------------------------------------------------------------|--------------------------|\n",
    "| what_is_your_age?                                                                     | age                      |\n",
    "| what_is_your_gender?                                                                  | gender                   |\n",
    "| where_do_you_live?                                                                    | location                 |\n",
    "| what_is_your_monthly_budget?                                                           | monthly_budget           |\n",
    "| how_much_do_you_spend_on_food_every_month?                                             | food_spending            |\n",
    "| how_do_you_primarily_pay_for_your_food?                                                | payment_method           |\n",
    "| do_you_work_on_campus/outside?                                                        | work_location            |\n",
    "| which_specific_diet_plan_do_you_follow?                                                | diet_plan                |\n",
    "| do_you_have_any_diet_related_allergies?                                                | allergies                |\n",
    "| if_you_said_yes_to_above_question,_please_specify_which_allergy.                      | allergy_details          |\n",
    "| how_often_you_cook_your_own_meals_in_a_week?                                           | cook_frequency           |\n",
    "| how_often_do_you_eat_at_pdc_per_week?                                                  | eat_at_pdc               |\n",
    "| how_often_do_you_eat_at_baradari__per_week?                                            | eat_at_baradari          |\n",
    "| how_often_do_you_eat_at_khokha__per_week?                                              | eat_at_khokha            |\n",
    "| how_often_do_you_eat_at_superstore__per_week?                                          | eat_at_superstore        |\n",
    "| how_often_do_you_eat_at_zakir_tikka__per_week?                                         | eat_at_zakir_tikka       |\n",
    "| how_often_do_you_eat_at_juice_zone_per_week?                                           | eat_at_juice_zone        |\n",
    "| how_often_do_you_eat_at_subway_per_week?                                               | eat_at_subway            |\n",
    "| how_often_do_you_eat_at_chop_chop_per_week?                                            | eat_at_chop_chop         |\n",
    "| how_often_do_you_eat_at_delish_per_week?                                               | eat_at_delish            |\n",
    "| how_often_do_you_eat_at_jammin_per_week?                                               | eat_at_jammin            |\n",
    "| how_often_do_you_eat_at_green_olive_per_week?                                          | eat_at_green_olive       |\n",
    "| how_often_do_you_eat_at_bunker_per_week?                                               | eat_at_bunker            |\n",
    "| how_often_do_you_eat_at_baithak_per_week?                                              | eat_at_baithak           |\n",
    "| how_often_do_you_eat_from_outside_of_lums_per_week?                                    | eat_outside_lums         |\n",
    "| on_a_scale_1_to_5_rate_how_satisfied_you_are_with_eating_options_at_campus            | campus_food_satisfaction |\n",
    "| do_you_prefer_takeaways_or_deliveries?                                                 | takeaway_or_delivery     |\n",
    "| what_time_do_you_usually_get_takeaways?                                                | takeaway_time            |\n",
    "| what_time_do_you_usually_get_deliveries?                                               | delivery_time            |\n",
    "| how_would_you_describe_your_eating_habits_on_a_scale_of_1_to_5                         |  health_rating|\n"
   ]
  },
  {
   "cell_type": "code",
   "execution_count": 7,
   "metadata": {
    "colab": {
     "base_uri": "https://localhost:8080/"
    },
    "id": "ibhGGeWFKmfy",
    "outputId": "956b84ed-4f16-4e82-cf85-a9f2b65c4025"
   },
   "outputs": [
    {
     "name": "stdout",
     "output_type": "stream",
     "text": [
      "Index(['Timestamp', 'What is your age?', 'What is your gender?',\n",
      "       'Where do you live?', 'What is your monthly budget?',\n",
      "       'How much do you spend on food every month?',\n",
      "       'How do you primarily pay for your food?',\n",
      "       'Do you work on campus/outside?',\n",
      "       'Which specific diet plan do you follow?',\n",
      "       'Do you have any diet related allergies?',\n",
      "       'If you said Yes to above question, please specify which allergy.',\n",
      "       'How often you cook your own meals in a week?',\n",
      "       'How often do you eat at PDC per week?',\n",
      "       'How often do you eat at Baradari  per week?',\n",
      "       'How often do you eat at Khokha  per week?',\n",
      "       'How often do you eat at Superstore  per week?',\n",
      "       'How often do you eat at Zakir Tikka  per week?',\n",
      "       'How often do you eat at Juice Zone per week?',\n",
      "       'How often do you eat at Subway per week?',\n",
      "       'How often do you eat at Chop Chop per week?',\n",
      "       'How often do you eat at Delish per week?',\n",
      "       'How often do you eat at Jammin per week?',\n",
      "       'How often do you eat at Green Olive per week?',\n",
      "       'How often do you eat at Bunker per week?',\n",
      "       'How often do you eat at Baithak per week?',\n",
      "       'How often do you eat from outside of Lums per week?',\n",
      "       'On a scale 1 to 5 rate how satisfied you are with eating options at campus',\n",
      "       'Do you prefer takeaways or deliveries?',\n",
      "       'What time do you usually get Takeaways?  ',\n",
      "       'What time do you usually get Deliveries?  ',\n",
      "       'How would you describe your eating habits on a scale of 1 to 5',\n",
      "       'How would you describe how healthy you are on a scale of 1 to 5'],\n",
      "      dtype='object')\n"
     ]
    }
   ],
   "source": [
    "print(df.columns)"
   ]
  },
  {
   "cell_type": "code",
   "execution_count": 8,
   "metadata": {
    "id": "bxID8OzeKmfz"
   },
   "outputs": [],
   "source": [
    "# Renaming columns using a dictionary for clarity\n",
    "column_renaming = {\n",
    "    'Timestamp' : 'timestamp',\n",
    "    'What is your age?': 'age',\n",
    "    'What is your gender?': 'gender',\n",
    "    'Where do you live?': 'location',\n",
    "    'What is your monthly budget?': 'monthly_budget',\n",
    "    'How much do you spend on food every month?': 'food_spending',\n",
    "    'How do you primarily pay for your food?': 'payment_method',\n",
    "    'Do you work on campus/outside?': 'work_location',\n",
    "    'Which specific diet plan do you follow?': 'diet_plan',\n",
    "    'Do you have any diet related allergies?': 'allergies',\n",
    "    'If you said Yes to above question, please specify which allergy.': 'allergy_details',\n",
    "    'How often you cook your own meals in a week?': 'cook_frequency',\n",
    "    'How often do you eat at PDC per week?': 'eat_at_pdc',\n",
    "    'How often do you eat at Baradari  per week?': 'eat_at_baradari',\n",
    "    'How often do you eat at Khokha  per week?': 'eat_at_khokha',\n",
    "    'How often do you eat at Superstore  per week?': 'eat_at_superstore',\n",
    "    'How often do you eat at Zakir Tikka  per week?': 'eat_at_zakir_tikka',\n",
    "    'How often do you eat at Juice Zone per week?': 'eat_at_juice_zone',\n",
    "    'How often do you eat at Subway per week?': 'eat_at_subway',\n",
    "    'How often do you eat at Chop Chop per week?': 'eat_at_chop_chop',\n",
    "    'How often do you eat at Delish per week?': 'eat_at_delish',\n",
    "    'How often do you eat at Jammin per week?': 'eat_at_jammin',\n",
    "    'How often do you eat at Green Olive per week?': 'eat_at_green_olive',\n",
    "    'How often do you eat at Bunker per week?': 'eat_at_bunker',\n",
    "    'How often do you eat at Baithak per week?': 'eat_at_baithak',\n",
    "    'How often do you eat from outside of Lums per week?': 'eat_outside_lums',\n",
    "    'On a scale 1 to 5 rate how satisfied you are with eating options at campus': 'campus_food_satisfaction',\n",
    "    'Do you prefer takeaways or deliveries?': 'takeaway_or_delivery',\n",
    "    'What time do you usually get Takeaways?  ': 'takeaway_time',\n",
    "    'What time do you usually get Deliveries?  ': 'delivery_time',\n",
    "    'How would you describe your eating habits on a scale of 1 to 5': 'eating_habit_rating',\n",
    "    'How would you describe how healthy you are on a scale of 1 to 5': 'health_rating'\n",
    "}\n",
    "\n"
   ]
  },
  {
   "cell_type": "code",
   "execution_count": 9,
   "metadata": {
    "id": "SneLnxAlKmf0"
   },
   "outputs": [],
   "source": [
    "df.columns = df.columns.map(column_renaming)"
   ]
  },
  {
   "cell_type": "code",
   "execution_count": 10,
   "metadata": {
    "colab": {
     "base_uri": "https://localhost:8080/",
     "height": 196
    },
    "id": "-qNbRB3HKmf0",
    "outputId": "976ba142-84e6-41fc-c955-6a209423faf1"
   },
   "outputs": [
    {
     "data": {
      "text/html": [
       "<div>\n",
       "<style scoped>\n",
       "    .dataframe tbody tr th:only-of-type {\n",
       "        vertical-align: middle;\n",
       "    }\n",
       "\n",
       "    .dataframe tbody tr th {\n",
       "        vertical-align: top;\n",
       "    }\n",
       "\n",
       "    .dataframe thead th {\n",
       "        text-align: right;\n",
       "    }\n",
       "</style>\n",
       "<table border=\"1\" class=\"dataframe\">\n",
       "  <thead>\n",
       "    <tr style=\"text-align: right;\">\n",
       "      <th></th>\n",
       "      <th>timestamp</th>\n",
       "      <th>age</th>\n",
       "      <th>gender</th>\n",
       "      <th>location</th>\n",
       "      <th>monthly_budget</th>\n",
       "      <th>food_spending</th>\n",
       "      <th>payment_method</th>\n",
       "      <th>work_location</th>\n",
       "      <th>diet_plan</th>\n",
       "      <th>allergies</th>\n",
       "      <th>...</th>\n",
       "      <th>eat_at_green_olive</th>\n",
       "      <th>eat_at_bunker</th>\n",
       "      <th>eat_at_baithak</th>\n",
       "      <th>eat_outside_lums</th>\n",
       "      <th>campus_food_satisfaction</th>\n",
       "      <th>takeaway_or_delivery</th>\n",
       "      <th>takeaway_time</th>\n",
       "      <th>delivery_time</th>\n",
       "      <th>eating_habit_rating</th>\n",
       "      <th>health_rating</th>\n",
       "    </tr>\n",
       "  </thead>\n",
       "  <tbody>\n",
       "    <tr>\n",
       "      <th>0</th>\n",
       "      <td>17/10/2024 19:46:41</td>\n",
       "      <td>23</td>\n",
       "      <td>Male</td>\n",
       "      <td>Day scholar</td>\n",
       "      <td>10,000 - 15,000</td>\n",
       "      <td>5,000 - 10,000</td>\n",
       "      <td>Parental/Family support</td>\n",
       "      <td>TAs</td>\n",
       "      <td>High Protein</td>\n",
       "      <td>No</td>\n",
       "      <td>...</td>\n",
       "      <td>Never</td>\n",
       "      <td>Never</td>\n",
       "      <td>Never</td>\n",
       "      <td>1-2 times per week</td>\n",
       "      <td>1</td>\n",
       "      <td>Takeaways</td>\n",
       "      <td>Dinner</td>\n",
       "      <td>Dinner, Late night</td>\n",
       "      <td>3</td>\n",
       "      <td>3</td>\n",
       "    </tr>\n",
       "    <tr>\n",
       "      <th>1</th>\n",
       "      <td>17/10/2024 19:46:50</td>\n",
       "      <td>22</td>\n",
       "      <td>Female</td>\n",
       "      <td>Day scholar</td>\n",
       "      <td>25,000 - 30,000</td>\n",
       "      <td>10,000 - 15,000</td>\n",
       "      <td>Parental/Family support</td>\n",
       "      <td>TAs</td>\n",
       "      <td>I eat everything</td>\n",
       "      <td>No</td>\n",
       "      <td>...</td>\n",
       "      <td>sometimes</td>\n",
       "      <td>Never</td>\n",
       "      <td>3-4 times per week</td>\n",
       "      <td>5-6 times per week</td>\n",
       "      <td>4</td>\n",
       "      <td>Deliveries</td>\n",
       "      <td>Early Dinner</td>\n",
       "      <td>Early Dinner, Dinner</td>\n",
       "      <td>1</td>\n",
       "      <td>3</td>\n",
       "    </tr>\n",
       "  </tbody>\n",
       "</table>\n",
       "<p>2 rows × 32 columns</p>\n",
       "</div>"
      ],
      "text/plain": [
       "             timestamp  age  gender     location   monthly_budget  \\\n",
       "0  17/10/2024 19:46:41   23    Male  Day scholar  10,000 - 15,000   \n",
       "1  17/10/2024 19:46:50   22  Female  Day scholar  25,000 - 30,000   \n",
       "\n",
       "     food_spending           payment_method work_location         diet_plan  \\\n",
       "0   5,000 - 10,000  Parental/Family support           TAs      High Protein   \n",
       "1  10,000 - 15,000  Parental/Family support           TAs  I eat everything   \n",
       "\n",
       "  allergies  ... eat_at_green_olive eat_at_bunker      eat_at_baithak  \\\n",
       "0        No  ...              Never         Never               Never   \n",
       "1        No  ...          sometimes         Never  3-4 times per week   \n",
       "\n",
       "     eat_outside_lums campus_food_satisfaction takeaway_or_delivery  \\\n",
       "0  1-2 times per week                        1            Takeaways   \n",
       "1  5-6 times per week                        4           Deliveries   \n",
       "\n",
       "  takeaway_time         delivery_time eating_habit_rating health_rating  \n",
       "0        Dinner    Dinner, Late night                   3             3  \n",
       "1  Early Dinner  Early Dinner, Dinner                   1             3  \n",
       "\n",
       "[2 rows x 32 columns]"
      ]
     },
     "execution_count": 10,
     "metadata": {},
     "output_type": "execute_result"
    }
   ],
   "source": [
    "df.head(2)"
   ]
  },
  {
   "cell_type": "markdown",
   "metadata": {
    "id": "Tc9CJYlKPvCh"
   },
   "source": [
    "#### 2. Let's remove the 'timestamp' column, as it is not relevant to the data we collected (it only indicates when participants completed the survey)."
   ]
  },
  {
   "cell_type": "code",
   "execution_count": 11,
   "metadata": {
    "id": "DtYnMjR0PwUm"
   },
   "outputs": [],
   "source": [
    "df = df.drop(columns=['timestamp'])"
   ]
  },
  {
   "cell_type": "markdown",
   "metadata": {
    "id": "0dgb0Bc9P0Ge"
   },
   "source": [
    "#### 3. Now let's deal with the first half of categorical value\n",
    "\n",
    "We'll deal with the following col (gender,location,work_location , allergies). The following table describes mappings we have done\n",
    "\n",
    "##### Categorical Columns and Their Mappings\n",
    "\n",
    "| Column Name           | Description                                         | Mapped Values (Numeric)                                |\n",
    "|-----------------------|-----------------------------------------------------|--------------------------------------------------------|\n",
    "| **Gender**            | Gender of the respondent                           | 'Male' (1), 'Female' (2), 'Prefer not to say' (3)     |\n",
    "| **Location**          | Type of accommodation or living situation          | 'Day scholar' (1), 'Hostelite but living in Lahore' (2), 'Hostelite' (3) |\n",
    "| **Work Location**     | Work or job-related status at campus               | 'TAs' (1), 'Job/Freelance' (2), 'I don’t work' (3), 'Other jobs on campus' (4), 'RAs' (5) |\n",
    "| **Diet Plan**         | The respondent’s diet plan preference              | 'High Protein' (1), 'I eat everything' (2), 'I eat everything except chicken' (3), 'Low carb' (4), 'Not any specific plan' (5), 'Gluten free' (6) |\n",
    "| **Allergies**         | Whether the respondent has any diet-related allergies | 'No' (0), 'Yes' (1)                                     |\n",
    "\n",
    "\n"
   ]
  },
  {
   "cell_type": "code",
   "execution_count": 12,
   "metadata": {
    "colab": {
     "base_uri": "https://localhost:8080/"
    },
    "id": "56dpmv-OP17p",
    "outputId": "891794d6-071d-45e5-e4e7-fbd8794f0f4e"
   },
   "outputs": [
    {
     "name": "stdout",
     "output_type": "stream",
     "text": [
      "Unique values in 'gender': ['Male' 'Female' 'Prefer not to say']\n",
      "Unique values in 'location': ['Day scholar' 'Hostelite but living in Lahore' 'Hostelite']\n",
      "Unique values in 'payment_method': ['Parental/Family support' 'Earning from a job'\n",
      " 'Parental/Family support, Financial Aid'\n",
      " 'Parental/Family support, Earning from a job'\n",
      " 'Personal Savings, Parental/Family support, Earning from a job'\n",
      " 'Personal Savings' 'Personal Savings, Earning from a job'\n",
      " 'Personal Savings, Parental/Family support' 'My own business'\n",
      " 'Personal Savings, Parental/Family support, Financial Aid, Earning from a job']\n",
      "Unique values in 'work_location': ['TAs' 'Job/Freelance' 'I don’t work' 'Other jobs on campus' 'RAs']\n",
      "Unique values in 'diet_plan': ['High Protein' 'I eat everything' 'I eat everything except chicken'\n",
      " 'Low carb' 'Not any specific plan' 'Gluten free']\n",
      "Unique values in 'allergies': ['No' 'Yes']\n"
     ]
    }
   ],
   "source": [
    "# List of columns I want to get unique values for\n",
    "columns_of_interest = ['gender', 'location', 'payment_method','work_location','diet_plan','allergies']\n",
    "\n",
    "# Create a dictionary to store unique values for each column\n",
    "unique_values = {col: df[col].unique() for col in columns_of_interest}\n",
    "\n",
    "# Print the unique values for each column\n",
    "for col, values in unique_values.items():\n",
    "    print(f\"Unique values in '{col}': {values}\")"
   ]
  },
  {
   "cell_type": "code",
   "execution_count": 13,
   "metadata": {
    "id": "67EzKtR9QKQj"
   },
   "outputs": [],
   "source": [
    "# 1. Create mappings for each categorical column\n",
    "gender_mapping = {\n",
    "    'Male': 1,\n",
    "    'Female': 2,\n",
    "    'Prefer not to say': 3\n",
    "}\n",
    "\n",
    "location_mapping = {\n",
    "    'Day scholar': 1,\n",
    "    'Hostelite but living in Lahore': 2,\n",
    "    'Hostelite': 3\n",
    "}\n",
    "\n",
    "work_location_mapping = {\n",
    "    'TAs': 1,\n",
    "    'Job/Freelance': 2,\n",
    "    'I don’t work': 3,\n",
    "    'Other jobs on campus': 4,\n",
    "    'RAs': 5\n",
    "}\n",
    "\n",
    "diet_plan_mapping = {\n",
    "    'High Protein': 1,\n",
    "    'I eat everything': 2,\n",
    "    'I eat everything except chicken': 3,\n",
    "    'Low carb': 4,\n",
    "    'Not any specific plan': 5,\n",
    "    'Gluten free': 6\n",
    "}\n",
    "\n",
    "allergies_mapping = {\n",
    "    'No' : 0,\n",
    "    'Yes' : 1\n",
    "}\n",
    "\n",
    "# Applying the mappings to the relevant columns\n",
    "df['gender'] = df['gender'].map(gender_mapping)\n",
    "df['location'] = df['location'].map(location_mapping)\n",
    "df['work_location'] = df['work_location'].map(work_location_mapping)\n",
    "df['diet_plan'] = df['diet_plan'].map(diet_plan_mapping)\n",
    "df['allergies'] = df['allergies'].map(allergies_mapping)"
   ]
  },
  {
   "cell_type": "markdown",
   "metadata": {
    "id": "SxceWc_giwBa"
   },
   "source": [
    "#### 4. One hot encodings\n",
    "\n",
    "In this step, we applied **one-hot encoding** to the categorical columns `payment_methods`,  `takeaway_time` and `delivery_time`, which contained multiple comma-separated values. In these questions participants were allowed to choose multiple options. One-hot encoding is a method used to convert categorical data into a format where all information is preserved in numerical way."
   ]
  },
  {
   "cell_type": "markdown",
   "metadata": {
    "id": "3ojt03sTizy6"
   },
   "source": [
    "##### `payment_methods` col"
   ]
  },
  {
   "cell_type": "code",
   "execution_count": 14,
   "metadata": {
    "id": "eTNsFO4kixKI"
   },
   "outputs": [],
   "source": [
    "\n",
    "\n",
    "# The unique options that you want to one-hot encode\n",
    "options = ['Personal Savings', 'Parental/Family support', 'Financial Aid', 'Earning from a job', 'My own business']\n",
    "\n",
    "# Create a one-hot encoded DataFrame with a prefix for each column name\n",
    "for option in options:\n",
    "    # Create a new column with a prefix, making column names lowercase, removing spaces and shortening names\n",
    "    optimized_option = option.replace(' ', '_').lower().replace(',', '').replace('/', '_')\n",
    "    df[f'pay_{optimized_option}'] = df['payment_method'].apply(lambda x: 1 if option in x else 0)\n",
    "\n",
    "# Drop the original 'payment_method' column as we no longer need it\n",
    "df.drop('payment_method', axis=1, inplace=True)\n",
    "\n",
    "\n"
   ]
  },
  {
   "cell_type": "markdown",
   "metadata": {
    "id": "N7g1eqVCi3pw"
   },
   "source": [
    "##### `takeaway_time` and `delivery_time` columns\n",
    "\n",
    "Lets first see the unique strings present in this column. Here participants were allowed to select multiple options."
   ]
  },
  {
   "cell_type": "code",
   "execution_count": 15,
   "metadata": {
    "colab": {
     "base_uri": "https://localhost:8080/"
    },
    "id": "ZoVSx0Kbi541",
    "outputId": "05f15256-fc1d-442c-e638-9f15d5faa38a"
   },
   "outputs": [
    {
     "name": "stdout",
     "output_type": "stream",
     "text": [
      "Unique values in 'takeaway_time': ['Dinner' 'Early Dinner' 'Lunch, '\n",
      " 'Breakfast, Brunch, Lunch, Early Dinner, Dinner, Late night' 'Lunch'\n",
      " 'Lunch, Dinner' 'Lunch, Early Dinner' 'Late night' 'Don’t '\n",
      " 'Lunch, Early Dinner, Dinner' 'I dont get takeaways'\n",
      " 'I don’t get takeaways' 'Brunch, Lunch, Early Dinner'\n",
      " \"I don't do takeaways\" 'Breakfast, Lunch' 'Early Dinner, Dinner'\n",
      " 'Early Dinner, I don’t get takeaways' 'Early Dinner, Late night'\n",
      " 'Lunch, Early Dinner, I don’t get takeaways' 'Lunch, Dinner, Late night'\n",
      " 'Dinner, Late night' 'Breakfast' 'Early Dinner, Dinner, Late night'\n",
      " 'Breakfast, Brunch, Lunch, Early Dinner, Dinner, Late night, I don’t get takeaways'\n",
      " 'Brunch, Lunch' 'I dont' 'Breakfast, Early Dinner, Late night'\n",
      " 'Breakfast, Dinner' 'Brunch, Dinner' 'Lunch, I don’t get takeaways']\n",
      "Unique values in 'delivery_time': ['Dinner, Late night' 'Early Dinner, Dinner' 'Late night'\n",
      " 'Breakfast, Brunch, Lunch, Early Dinner, Dinner, Late night' 'Dinner'\n",
      " 'Lunch, Dinner' 'Lunch, Early Dinner, Dinner'\n",
      " 'Breakfast, Dinner, Late night' 'Early Dinner' 'Lunch'\n",
      " 'Lunch, Late night' 'Early Dinner, Dinner, Late night' \"Usually don't \"\n",
      " 'Lunch, Early Dinner, Dinner, Late night' 'Nothing '\n",
      " 'Lunch, Early Dinner' 'Brunch, Lunch, Early Dinner, Dinner, Late night'\n",
      " 'Not really' \"I don't bruh\" 'Breakfast, Early Dinner, Late night'\n",
      " 'Lunch, Dinner, Late night'\n",
      " 'Late night, tbh 5am is closer to early morning so yeah' 'Nahi kartay'\n",
      " 'Breakfast' 'Breakfast, Lunch, Early Dinner, Dinner, Late night']\n"
     ]
    }
   ],
   "source": [
    "# List of columns I want to get unique values for\n",
    "columns_of_interest = ['takeaway_time', 'delivery_time']\n",
    "\n",
    "# Create a dictionary to store unique values for each column\n",
    "unique_values = {col: df[col].unique() for col in columns_of_interest}\n",
    "\n",
    "# Print the unique values for each column\n",
    "for col, values in unique_values.items():\n",
    "    print(f\"Unique values in '{col}': {values}\")\n"
   ]
  },
  {
   "cell_type": "code",
   "execution_count": 16,
   "metadata": {
    "colab": {
     "base_uri": "https://localhost:8080/"
    },
    "id": "OzSs-SOsi8ji",
    "outputId": "e6246117-86df-4a6c-bf8a-748bcb939564"
   },
   "outputs": [
    {
     "name": "stdout",
     "output_type": "stream",
     "text": [
      "Unique values in 'takeaway_time': {'Early Dinner', 'I dont get takeaways', 'I dont', 'Breakfast', 'I don’t get takeaways', 'Dinner', 'Don’t', \"I don't do takeaways\", 'Late night', 'Lunch', 'Brunch'}\n",
      "Unique values in 'delivery_time': {'Early Dinner', 'tbh 5am is closer to early morning so yeah', 'Breakfast', 'Nahi kartay', 'Dinner', 'Not really', 'Late night', \"Usually don't\", 'Lunch', 'Nothing', \"I don't bruh\", 'Brunch'}\n"
     ]
    }
   ],
   "source": [
    "def get_unique_strings_from_list(value_list):\n",
    "    unique_strings = set()  # To store unique strings\n",
    "    for value in value_list:\n",
    "        # Split each string by commas, strip spaces, and update the set\n",
    "        unique_strings.update([val.strip() for val in value.split(',') if val.strip()])\n",
    "    return unique_strings\n",
    "\n",
    "# Get unique strings for each column\n",
    "for col, values in unique_values.items():\n",
    "    unique_strings = get_unique_strings_from_list(values)\n",
    "    print(f\"Unique values in '{col}': {unique_strings}\")"
   ]
  },
  {
   "cell_type": "markdown",
   "metadata": {
    "id": "HJZKI4LHjBNG"
   },
   "source": [
    "##### Standardization Map Description\n",
    "The standardization_map is used to standardize variations of responses related to \"takeaway preferences\" in the dataset. Several responses indicate that participants do not use takeaways, often due to confusion with delivery options. Based on this assumption, the following mappings were applied to group similar responses under a common category:\n",
    "\n",
    "- Variations such as \"Don’t\", \"I dont get takeaways\", \"I don't do takeaways\", \"nahi\", and others have been standardized to \"No\", indicating that the participant does not use takeaways.\n",
    "- A few other responses, such as \"Late night, tbh 5am is closer to early morning so yeah\", were mapped to \"Late night\" based on the assumption that participants intended to indicate a time preference, not a takeaway preference.\n",
    "- Some variations, like \"Early Dinner, I don’t get takeaways\", were mapped to \"No\" under the assumption that participants were confused between \"takeaway\" and \"delivery\" options, and intended to indicate no takeaway preference.\n",
    "\n",
    "The goal of this standardization is to address the confusion where participants accidentally selected \"takeaway\" options, but correctly indicated their actual preferences (e.g., delivery) in subsequent column. By grouping these variations under consistent labels, we can ensure cleaner and more meaningful data analysis."
   ]
  },
  {
   "cell_type": "code",
   "execution_count": 17,
   "metadata": {
    "id": "UiYJYpSFi_cr"
   },
   "outputs": [],
   "source": [
    "standardization_map = {\n",
    "    # Variations of \"don't get takeaways\"\n",
    "    \"Don’t\": \"No\",\n",
    "    \"Don’t \": \"No\",\n",
    "    \"I dont get takeaways\": \"No\",\n",
    "    \"I don’t get takeaways\": \"No\",\n",
    "    \"I dont\": \"No\",\n",
    "    \"I don't do takeaways\": \"No\",\n",
    "    \"Usually don't \": \"No\",\n",
    "    \"Not really\": \"No\",\n",
    "    \"Nothing \": \"No\",\n",
    "    'Nothing': \"No\",\n",
    "    \"I don't bruh\": \"No\",\n",
    "    \"Nahi kartay\": \"No\",\n",
    "    \"Late night, tbh 5am is closer to early morning so yeah\" : \"Late night\",\n",
    "    \"Early Dinner, I don’t get takeaways\" : \"No\",\n",
    "    \"Lunch, Early Dinner, I don’t get takeaways\" : \"No\",\n",
    "    \"Breakfast, Brunch, Lunch, Early Dinner, Dinner, Late night, I don’t get takeaways\" : \"No\",\n",
    "    \"Lunch, I don’t get takeaways\": \"No\"\n",
    "}\n",
    "# Step 3: Function to standardize column values using the mapping\n",
    "def standardize_column(df, column, mapping):\n",
    "    df[column] = df[column].fillna('').replace(mapping)\n",
    "    return df\n",
    "\n",
    "# Apply the standardization to both columns\n",
    "df = standardize_column(df, columns_of_interest[0], standardization_map)\n",
    "df = standardize_column(df, columns_of_interest[1], standardization_map)"
   ]
  },
  {
   "cell_type": "markdown",
   "metadata": {
    "id": "IXEXQHgljF1_"
   },
   "source": [
    "Now lets make one hot encodings"
   ]
  },
  {
   "cell_type": "code",
   "execution_count": 18,
   "metadata": {
    "colab": {
     "base_uri": "https://localhost:8080/",
     "height": 307
    },
    "id": "r7Jo2w26jFPA",
    "outputId": "29fa8bff-4820-4a7f-bf57-ef566e6da7e3"
   },
   "outputs": [
    {
     "data": {
      "text/html": [
       "<div>\n",
       "<style scoped>\n",
       "    .dataframe tbody tr th:only-of-type {\n",
       "        vertical-align: middle;\n",
       "    }\n",
       "\n",
       "    .dataframe tbody tr th {\n",
       "        vertical-align: top;\n",
       "    }\n",
       "\n",
       "    .dataframe thead th {\n",
       "        text-align: right;\n",
       "    }\n",
       "</style>\n",
       "<table border=\"1\" class=\"dataframe\">\n",
       "  <thead>\n",
       "    <tr style=\"text-align: right;\">\n",
       "      <th></th>\n",
       "      <th>age</th>\n",
       "      <th>gender</th>\n",
       "      <th>location</th>\n",
       "      <th>monthly_budget</th>\n",
       "      <th>food_spending</th>\n",
       "      <th>work_location</th>\n",
       "      <th>diet_plan</th>\n",
       "      <th>allergies</th>\n",
       "      <th>allergy_details</th>\n",
       "      <th>cook_frequency</th>\n",
       "      <th>...</th>\n",
       "      <th>takeaway_time_Late night</th>\n",
       "      <th>takeaway_time_Lunch</th>\n",
       "      <th>takeaway_time_Brunch</th>\n",
       "      <th>delivery_time_Early Dinner</th>\n",
       "      <th>delivery_time_No</th>\n",
       "      <th>delivery_time_Breakfast</th>\n",
       "      <th>delivery_time_Dinner</th>\n",
       "      <th>delivery_time_Late night</th>\n",
       "      <th>delivery_time_Lunch</th>\n",
       "      <th>delivery_time_Brunch</th>\n",
       "    </tr>\n",
       "  </thead>\n",
       "  <tbody>\n",
       "    <tr>\n",
       "      <th>0</th>\n",
       "      <td>23</td>\n",
       "      <td>1</td>\n",
       "      <td>1</td>\n",
       "      <td>10,000 - 15,000</td>\n",
       "      <td>5,000 - 10,000</td>\n",
       "      <td>1</td>\n",
       "      <td>1</td>\n",
       "      <td>0</td>\n",
       "      <td>NaN</td>\n",
       "      <td>Never</td>\n",
       "      <td>...</td>\n",
       "      <td>0</td>\n",
       "      <td>0</td>\n",
       "      <td>0</td>\n",
       "      <td>0</td>\n",
       "      <td>0</td>\n",
       "      <td>0</td>\n",
       "      <td>1</td>\n",
       "      <td>1</td>\n",
       "      <td>0</td>\n",
       "      <td>0</td>\n",
       "    </tr>\n",
       "    <tr>\n",
       "      <th>1</th>\n",
       "      <td>22</td>\n",
       "      <td>2</td>\n",
       "      <td>1</td>\n",
       "      <td>25,000 - 30,000</td>\n",
       "      <td>10,000 - 15,000</td>\n",
       "      <td>1</td>\n",
       "      <td>2</td>\n",
       "      <td>0</td>\n",
       "      <td>NaN</td>\n",
       "      <td>Never</td>\n",
       "      <td>...</td>\n",
       "      <td>0</td>\n",
       "      <td>0</td>\n",
       "      <td>0</td>\n",
       "      <td>1</td>\n",
       "      <td>0</td>\n",
       "      <td>0</td>\n",
       "      <td>1</td>\n",
       "      <td>0</td>\n",
       "      <td>0</td>\n",
       "      <td>0</td>\n",
       "    </tr>\n",
       "    <tr>\n",
       "      <th>2</th>\n",
       "      <td>22</td>\n",
       "      <td>2</td>\n",
       "      <td>1</td>\n",
       "      <td>15,000 - 20,000</td>\n",
       "      <td>10,000 - 15,000</td>\n",
       "      <td>1</td>\n",
       "      <td>2</td>\n",
       "      <td>0</td>\n",
       "      <td>NaN</td>\n",
       "      <td>1-2 times per week</td>\n",
       "      <td>...</td>\n",
       "      <td>0</td>\n",
       "      <td>1</td>\n",
       "      <td>0</td>\n",
       "      <td>0</td>\n",
       "      <td>0</td>\n",
       "      <td>0</td>\n",
       "      <td>0</td>\n",
       "      <td>1</td>\n",
       "      <td>0</td>\n",
       "      <td>0</td>\n",
       "    </tr>\n",
       "    <tr>\n",
       "      <th>3</th>\n",
       "      <td>22</td>\n",
       "      <td>2</td>\n",
       "      <td>2</td>\n",
       "      <td>20,000 - 25,000</td>\n",
       "      <td>15,000 - 20,000</td>\n",
       "      <td>2</td>\n",
       "      <td>2</td>\n",
       "      <td>0</td>\n",
       "      <td>NaN</td>\n",
       "      <td>once or twice a month</td>\n",
       "      <td>...</td>\n",
       "      <td>1</td>\n",
       "      <td>1</td>\n",
       "      <td>1</td>\n",
       "      <td>1</td>\n",
       "      <td>0</td>\n",
       "      <td>1</td>\n",
       "      <td>1</td>\n",
       "      <td>1</td>\n",
       "      <td>1</td>\n",
       "      <td>1</td>\n",
       "    </tr>\n",
       "    <tr>\n",
       "      <th>4</th>\n",
       "      <td>25</td>\n",
       "      <td>2</td>\n",
       "      <td>1</td>\n",
       "      <td>15,000 - 20,000</td>\n",
       "      <td>5,000 - 10,000</td>\n",
       "      <td>3</td>\n",
       "      <td>2</td>\n",
       "      <td>0</td>\n",
       "      <td>NaN</td>\n",
       "      <td>Never</td>\n",
       "      <td>...</td>\n",
       "      <td>0</td>\n",
       "      <td>1</td>\n",
       "      <td>0</td>\n",
       "      <td>0</td>\n",
       "      <td>0</td>\n",
       "      <td>0</td>\n",
       "      <td>1</td>\n",
       "      <td>0</td>\n",
       "      <td>0</td>\n",
       "      <td>0</td>\n",
       "    </tr>\n",
       "  </tbody>\n",
       "</table>\n",
       "<p>5 rows × 49 columns</p>\n",
       "</div>"
      ],
      "text/plain": [
       "   age  gender  location   monthly_budget    food_spending  work_location  \\\n",
       "0   23       1         1  10,000 - 15,000   5,000 - 10,000              1   \n",
       "1   22       2         1  25,000 - 30,000  10,000 - 15,000              1   \n",
       "2   22       2         1  15,000 - 20,000  10,000 - 15,000              1   \n",
       "3   22       2         2  20,000 - 25,000  15,000 - 20,000              2   \n",
       "4   25       2         1  15,000 - 20,000   5,000 - 10,000              3   \n",
       "\n",
       "   diet_plan  allergies allergy_details         cook_frequency  ...  \\\n",
       "0          1          0             NaN                  Never  ...   \n",
       "1          2          0             NaN                  Never  ...   \n",
       "2          2          0             NaN     1-2 times per week  ...   \n",
       "3          2          0             NaN  once or twice a month  ...   \n",
       "4          2          0             NaN                  Never  ...   \n",
       "\n",
       "  takeaway_time_Late night takeaway_time_Lunch takeaway_time_Brunch  \\\n",
       "0                        0                   0                    0   \n",
       "1                        0                   0                    0   \n",
       "2                        0                   1                    0   \n",
       "3                        1                   1                    1   \n",
       "4                        0                   1                    0   \n",
       "\n",
       "  delivery_time_Early Dinner delivery_time_No delivery_time_Breakfast  \\\n",
       "0                          0                0                       0   \n",
       "1                          1                0                       0   \n",
       "2                          0                0                       0   \n",
       "3                          1                0                       1   \n",
       "4                          0                0                       0   \n",
       "\n",
       "  delivery_time_Dinner delivery_time_Late night delivery_time_Lunch  \\\n",
       "0                    1                        1                   0   \n",
       "1                    1                        0                   0   \n",
       "2                    0                        1                   0   \n",
       "3                    1                        1                   1   \n",
       "4                    1                        0                   0   \n",
       "\n",
       "  delivery_time_Brunch  \n",
       "0                    0  \n",
       "1                    0  \n",
       "2                    0  \n",
       "3                    1  \n",
       "4                    0  \n",
       "\n",
       "[5 rows x 49 columns]"
      ]
     },
     "execution_count": 18,
     "metadata": {},
     "output_type": "execute_result"
    }
   ],
   "source": [
    "# List of columns I want to get unique values for\n",
    "columns_of_interest = ['takeaway_time', 'delivery_time']\n",
    "\n",
    "# Create a dictionary to store unique values for each column\n",
    "unique_values = {col: df[col].unique() for col in columns_of_interest}\n",
    "\n",
    "# # Print the unique values for each column\n",
    "# for col, values in unique_values.items():\n",
    "#     print(f\"Unique values in '{col}': {values}\")\n",
    "\n",
    "def get_unique_strings_from_list(value_list):\n",
    "    unique_strings = set()  # To store unique strings\n",
    "    for value in value_list:\n",
    "        # Split each string by commas, strip spaces, and update the set\n",
    "        unique_strings.update([val.strip() for val in value.split(',') if val.strip()])\n",
    "    return unique_strings\n",
    "\n",
    "# # Get unique strings for each column\n",
    "# for col, values in unique_values.items():\n",
    "#     unique_strings = get_unique_strings_from_list(values)\n",
    "#     print(f\"Unique values in '{col}': {unique_strings}\")\n",
    "\n",
    "all_unique_times = set()\n",
    "\n",
    "for col in columns_of_interest:\n",
    "    unique_strings = get_unique_strings_from_list(df[col].dropna())  # Drop NaN values\n",
    "    all_unique_times.update(unique_strings)\n",
    "\n",
    "# convert col names to lowercase with '_'\n",
    "def clean_column_name(name):\n",
    "    return name.lower().replace(\" \", \"_\")\n",
    "\n",
    "# Step 2: Apply one-hot encoding based on the unique time slots\n",
    "def one_hot_encode(df, column, unique_times):\n",
    "    for time in unique_times:\n",
    "        # Create a new binary column for each unique time slot\n",
    "        df[f\"{column}_{time}\"] = df[column].fillna('').apply(lambda x: int(time in x))\n",
    "    return df\n",
    "\n",
    "# Step 3: Apply one-hot encoding to both 'takeaway_time' and 'delivery_time' columns\n",
    "for col in columns_of_interest:\n",
    "    df = one_hot_encode(df, col, all_unique_times)\n",
    "\n",
    "# Show the updated DataFrame with one-hot encoded columns\n",
    "df.head()"
   ]
  },
  {
   "cell_type": "code",
   "execution_count": 19,
   "metadata": {
    "id": "gLKnWZQCjKFE"
   },
   "outputs": [],
   "source": [
    "# Clean column names after one-hot encoding\n",
    "def clean_column_names(df):\n",
    "    df.columns = [col.lower().replace(\" \", \"_\") for col in df.columns]  # Apply lower and replace spaces\n",
    "    return df\n",
    "\n",
    "\n",
    "df = clean_column_names(df)"
   ]
  },
  {
   "cell_type": "code",
   "execution_count": 20,
   "metadata": {
    "colab": {
     "base_uri": "https://localhost:8080/"
    },
    "id": "s_QnZ197jOCR",
    "outputId": "d54205c0-ed51-49e8-e664-16c7973eb8d8"
   },
   "outputs": [
    {
     "data": {
      "text/plain": [
       "Index(['age', 'gender', 'location', 'monthly_budget', 'food_spending',\n",
       "       'work_location', 'diet_plan', 'allergies', 'allergy_details',\n",
       "       'cook_frequency', 'eat_at_pdc', 'eat_at_baradari', 'eat_at_khokha',\n",
       "       'eat_at_superstore', 'eat_at_zakir_tikka', 'eat_at_juice_zone',\n",
       "       'eat_at_subway', 'eat_at_chop_chop', 'eat_at_delish', 'eat_at_jammin',\n",
       "       'eat_at_green_olive', 'eat_at_bunker', 'eat_at_baithak',\n",
       "       'eat_outside_lums', 'campus_food_satisfaction', 'takeaway_or_delivery',\n",
       "       'takeaway_time', 'delivery_time', 'eating_habit_rating',\n",
       "       'health_rating', 'pay_personal_savings', 'pay_parental_family_support',\n",
       "       'pay_financial_aid', 'pay_earning_from_a_job', 'pay_my_own_business',\n",
       "       'takeaway_time_early_dinner', 'takeaway_time_no',\n",
       "       'takeaway_time_breakfast', 'takeaway_time_dinner',\n",
       "       'takeaway_time_late_night', 'takeaway_time_lunch',\n",
       "       'takeaway_time_brunch', 'delivery_time_early_dinner',\n",
       "       'delivery_time_no', 'delivery_time_breakfast', 'delivery_time_dinner',\n",
       "       'delivery_time_late_night', 'delivery_time_lunch',\n",
       "       'delivery_time_brunch'],\n",
       "      dtype='object')"
      ]
     },
     "execution_count": 20,
     "metadata": {},
     "output_type": "execute_result"
    }
   ],
   "source": [
    "df.columns"
   ]
  },
  {
   "cell_type": "code",
   "execution_count": 21,
   "metadata": {
    "id": "1b9qNFkPjO8P"
   },
   "outputs": [],
   "source": [
    "# Drop the original 'takeaway_time' column if you no longer need it\n",
    "df.drop('takeaway_time', axis=1, inplace=True)\n",
    "df.drop('delivery_time', axis=1, inplace=True)"
   ]
  },
  {
   "cell_type": "markdown",
   "metadata": {
    "id": "PdgmX_uVjUw4"
   },
   "source": [
    "#### 5. Missing Values\n",
    "\n",
    "We observed that the allergy_details column contains missing values, which is likely because most participants reported not having any allergies, as indicated in the allergies column. Since the allergy_details question was optional in the original survey, participants without allergies left this field blank.\n",
    "to fill missing values we will replace missing values with 'no allergies'"
   ]
  },
  {
   "cell_type": "code",
   "execution_count": 22,
   "metadata": {
    "id": "S2NzMZWsjV1B"
   },
   "outputs": [],
   "source": [
    "df['allergy_details'] = df['allergy_details'].fillna('No allergies')"
   ]
  },
  {
   "cell_type": "markdown",
   "metadata": {
    "id": "awgDszPmiADy"
   },
   "source": [
    "#### 6. Budgets and food spending\n",
    "\n",
    "When we collected our survey data, we allowed participants options with range values (i.e 10,000-15,000)"
   ]
  },
  {
   "cell_type": "code",
   "execution_count": 23,
   "metadata": {
    "colab": {
     "base_uri": "https://localhost:8080/"
    },
    "id": "NHc1_G_qh-yF",
    "outputId": "ecdd5a1a-8f4c-4001-bd84-de4eaba62590"
   },
   "outputs": [
    {
     "name": "stdout",
     "output_type": "stream",
     "text": [
      "   monthly_budget  food_spending\n",
      "0         12500.0         7500.0\n",
      "1         27500.0        12500.0\n",
      "2         17500.0        12500.0\n",
      "3         22500.0        17500.0\n",
      "4         17500.0         7500.0\n"
     ]
    }
   ],
   "source": [
    "# Function to clean and standardize each cell\n",
    "def standardize_budget(value, budget=None):\n",
    "    value = str(value).lower().replace(\" \", \"\").replace(\",\", \"\")\n",
    "\n",
    "    # Handling ranges like \"10000-15000\"\n",
    "    if '-' in value:\n",
    "        nums = re.findall(r'\\d+', value)\n",
    "        if nums:\n",
    "            return (int(nums[0]) + int(nums[1])) / 2  # Average of the range\n",
    "\n",
    "    # Handling values like \"5000+\" or \"30k+\" (assume \"k\" means thousand)\n",
    "    elif \"k\" in value:\n",
    "        return float(re.findall(r'\\d+', value)[0]) * 1000\n",
    "\n",
    "    elif \"less\" in value:\n",
    "        return 5000  # for option 'less than 5000'\n",
    "\n",
    "    elif \"almost\" in value or \"all\" in value:\n",
    "        return budget  # Assign the full budget value\n",
    "\n",
    "    # Handling single numeric values directly\n",
    "    elif value.isdigit():\n",
    "        return float(value)\n",
    "\n",
    "    return None  # For any unhandled cases\n",
    "\n",
    "# Apply function to both columns\n",
    "df['monthly_budget'] = df['monthly_budget'].apply(standardize_budget)\n",
    "df['food_spending'] = df['food_spending'].apply(standardize_budget)\n",
    "\n",
    "# Drop rows with missing values in cleaned columns\n",
    "df.dropna(subset=['monthly_budget', 'food_spending'], inplace=True)\n",
    "\n",
    "# Display cleaned data\n",
    "print(df[['monthly_budget', 'food_spending']].head())"
   ]
  },
  {
   "cell_type": "markdown",
   "metadata": {
    "id": "mBZDUEymZe9W"
   },
   "source": [
    "#### 7. Now let's deal with the columns describing visiting frequecy per eatery.\n",
    "\n",
    "We made a function to categorise all the eating frequency data (in the form of text) into numerical values for a more structured form of analysis.\n",
    "The function was applied to the following columns in the dataset:\n",
    "- eat_at_pdc\n",
    "- eat_at_baradari\n",
    "- eat_at_khokha\n",
    "- eat_at_superstore\n",
    "- eat_at_zakir_tikka\n",
    "- eat_at_juice_zone\n",
    "- eat_at_subway\n",
    "- eat_at_chop_chop\n",
    "- eat_at_delish\n",
    "- eat_at_jammin\n",
    "- eat_at_green_olive\n",
    "- eat_at_bunker\n",
    "- eat_at_baithak\n",
    "- eat_outside_lums\n",
    "\n",
    "##### Textual Data and Their Mappings\n",
    "\n",
    "| Frequency Description          | Encoded Value                               |\n",
    "|-----------------------|--------------------------------------------------------|\n",
    "| **Never**            | 0    |\n",
    "| **\"Once a month\", \"Once a semester\", \"rarely\", \"sometimes\"** | 1 |\n",
    "| **1-2 times a week**     | 2 |\n",
    "| **3-4 times a week**         | 3 |\n",
    "| **5-6 times a week**         | 4  |\n",
    "| **7+ times aweek**         | 5  |\n"
   ]
  },
  {
   "cell_type": "code",
   "execution_count": 24,
   "metadata": {
    "id": "ZZnmZ2zJZxR3"
   },
   "outputs": [],
   "source": [
    "\n",
    "import re\n",
    "\n",
    "# Define the categorize_frequency function\n",
    "def categorize_frequency(phrase):\n",
    "    phrase = phrase.lower().strip()\n",
    "\n",
    "    if \"never\" in phrase:\n",
    "        return 0\n",
    "\n",
    "    match = re.search(r'(per week|in a week|week)', phrase)\n",
    "    if match:\n",
    "      number = re.search(r'\\d+', phrase)\n",
    "      if number:\n",
    "        num = int(number.group(0))\n",
    "        if num == 0:\n",
    "          return 0\n",
    "        elif num <= 2:\n",
    "            return 2  # Treat 2 as 1-2 times per week\n",
    "        elif num == 3 or num == 4:\n",
    "            return 3  # Treat 3-4 times as 3-4 times per week\n",
    "        elif num == 5 or num == 6:\n",
    "            return 4  # Treat 5-6 times as 5-6 times per week\n",
    "        elif num >= 7:\n",
    "            return 5\n",
    "\n",
    "    elif re.search(r'\\bonce a (semester|month)\\b|semester|rarely|sometimes|month|only', phrase):\n",
    "        return 1\n",
    "\n",
    "    return 0\n"
   ]
  },
  {
   "cell_type": "markdown",
   "metadata": {
    "id": "MglNUcAvowDe"
   },
   "source": [
    "#### Applying the function to all the columns in-place"
   ]
  },
  {
   "cell_type": "code",
   "execution_count": 25,
   "metadata": {
    "id": "7iLfjiAUoBxz"
   },
   "outputs": [],
   "source": [
    "columns_to_categorize = [\n",
    "    'eat_at_pdc', 'eat_at_baradari', 'eat_at_khokha', 'eat_at_superstore',\n",
    "    'eat_at_zakir_tikka', 'eat_at_juice_zone', 'eat_at_subway', 'eat_at_chop_chop',\n",
    "    'eat_at_delish', 'eat_at_jammin', 'eat_at_green_olive', 'eat_at_bunker',\n",
    "    'eat_at_baithak', 'eat_outside_lums', 'cook_frequency'\n",
    "]\n",
    "\n",
    "# Applying the categorize_frequency function to each column in the list\n",
    "for column in columns_to_categorize:\n",
    "    if isinstance(df[column].iloc[0], str):\n",
    "        df[column] = df[column].apply(categorize_frequency)"
   ]
  },
  {
   "cell_type": "code",
   "execution_count": 26,
   "metadata": {
    "colab": {
     "base_uri": "https://localhost:8080/"
    },
    "id": "7T_JB58Bo9If",
    "outputId": "df287507-c3ba-4fb2-8bfe-6b76798a9cce"
   },
   "outputs": [
    {
     "name": "stdout",
     "output_type": "stream",
     "text": [
      "   age  gender  location  monthly_budget  food_spending  work_location  diet_plan  allergies allergy_details  cook_frequency  eat_at_pdc  eat_at_baradari  eat_at_khokha  eat_at_superstore  eat_at_zakir_tikka  eat_at_juice_zone  eat_at_subway  eat_at_chop_chop  eat_at_delish  eat_at_jammin  eat_at_green_olive  eat_at_bunker  eat_at_baithak  eat_outside_lums  campus_food_satisfaction takeaway_or_delivery  eating_habit_rating  health_rating  pay_personal_savings  pay_parental_family_support  pay_financial_aid  pay_earning_from_a_job  pay_my_own_business  takeaway_time_early_dinner  takeaway_time_no  takeaway_time_breakfast  takeaway_time_dinner  takeaway_time_late_night  takeaway_time_lunch  takeaway_time_brunch  delivery_time_early_dinner  delivery_time_no  delivery_time_breakfast  delivery_time_dinner  delivery_time_late_night  delivery_time_lunch  delivery_time_brunch\n",
      "0   23       1         1         12500.0         7500.0              1          1          0    No allergies               0           2                0              2                  3                   0                  0              0                 0              0              0                   0              0               0                 2                         1            Takeaways                    3              3                     0                            1                  0                       0                    0                           0                 0                        0                     1                         0                    0                     0                           0                 0                        0                     1                         1                    0                     0\n",
      "1   22       2         1         27500.0        12500.0              1          2          0    No allergies               0           0                0              0                  5                   2                  2              2                 0              2              3                   1              0               3                 4                         4           Deliveries                    1              3                     0                            1                  0                       0                    0                           1                 0                        0                     1                         0                    0                     0                           1                 0                        0                     1                         0                    0                     0\n",
      "2   22       2         1         17500.0        12500.0              1          2          0    No allergies               2           4                0              0                  0                   2                  0              0                 2              2              2                   0              0               2                 2                         4           Deliveries                    3              2                     0                            1                  0                       0                    0                           0                 0                        0                     0                         0                    1                     0                           0                 0                        0                     0                         1                    0                     0\n",
      "3   22       2         2         22500.0        17500.0              2          2          0    No allergies               1           2                0              0                  0                   2                  0              0                 0              0              2                   2              0               2                 2                         3           Deliveries                    2              2                     0                            0                  0                       1                    0                           1                 0                        1                     1                         1                    1                     1                           1                 0                        1                     1                         1                    1                     1\n",
      "4   25       2         1         17500.0         7500.0              3          2          0    No allergies               0           2                0              2                  2                   2                  0              0                 2              0              2                   0              0               0                 0                         3           Deliveries                    3              3                     0                            1                  0                       0                    0                           0                 0                        0                     0                         0                    1                     0                           0                 0                        0                     1                         0                    0                     0\n"
     ]
    }
   ],
   "source": [
    "print(df.head(5).to_string())"
   ]
  },
  {
   "cell_type": "markdown",
   "metadata": {},
   "source": [
    "## EDA\n"
   ]
  },
  {
   "cell_type": "markdown",
   "metadata": {},
   "source": [
    "### Monthly Budget vs Health conciousness"
   ]
  },
  {
   "cell_type": "code",
   "execution_count": 27,
   "metadata": {},
   "outputs": [
    {
     "data": {
      "text/plain": [
       "Index(['age', 'gender', 'location', 'monthly_budget', 'food_spending',\n",
       "       'work_location', 'diet_plan', 'allergies', 'allergy_details',\n",
       "       'cook_frequency', 'eat_at_pdc', 'eat_at_baradari', 'eat_at_khokha',\n",
       "       'eat_at_superstore', 'eat_at_zakir_tikka', 'eat_at_juice_zone',\n",
       "       'eat_at_subway', 'eat_at_chop_chop', 'eat_at_delish', 'eat_at_jammin',\n",
       "       'eat_at_green_olive', 'eat_at_bunker', 'eat_at_baithak',\n",
       "       'eat_outside_lums', 'campus_food_satisfaction', 'takeaway_or_delivery',\n",
       "       'eating_habit_rating', 'health_rating', 'pay_personal_savings',\n",
       "       'pay_parental_family_support', 'pay_financial_aid',\n",
       "       'pay_earning_from_a_job', 'pay_my_own_business',\n",
       "       'takeaway_time_early_dinner', 'takeaway_time_no',\n",
       "       'takeaway_time_breakfast', 'takeaway_time_dinner',\n",
       "       'takeaway_time_late_night', 'takeaway_time_lunch',\n",
       "       'takeaway_time_brunch', 'delivery_time_early_dinner',\n",
       "       'delivery_time_no', 'delivery_time_breakfast', 'delivery_time_dinner',\n",
       "       'delivery_time_late_night', 'delivery_time_lunch',\n",
       "       'delivery_time_brunch'],\n",
       "      dtype='object')"
      ]
     },
     "execution_count": 27,
     "metadata": {},
     "output_type": "execute_result"
    }
   ],
   "source": [
    "df.columns"
   ]
  },
  {
   "cell_type": "code",
   "execution_count": 28,
   "metadata": {},
   "outputs": [
    {
     "name": "stdout",
     "output_type": "stream",
     "text": [
      "Number of integer values: 105\n"
     ]
    }
   ],
   "source": [
    "int_count = df['monthly_budget'].apply(lambda x: isinstance(x, float)).sum()\n",
    "print(f\"Number of integer values: {int_count}\")"
   ]
  },
  {
   "cell_type": "code",
   "execution_count": 29,
   "metadata": {},
   "outputs": [
    {
     "name": "stdout",
     "output_type": "stream",
     "text": [
      "age                              int64\n",
      "gender                           int64\n",
      "location                         int64\n",
      "monthly_budget                 float64\n",
      "food_spending                  float64\n",
      "work_location                    int64\n",
      "diet_plan                        int64\n",
      "allergies                        int64\n",
      "allergy_details                 object\n",
      "cook_frequency                   int64\n",
      "eat_at_pdc                       int64\n",
      "eat_at_baradari                  int64\n",
      "eat_at_khokha                    int64\n",
      "eat_at_superstore                int64\n",
      "eat_at_zakir_tikka               int64\n",
      "eat_at_juice_zone                int64\n",
      "eat_at_subway                    int64\n",
      "eat_at_chop_chop                 int64\n",
      "eat_at_delish                    int64\n",
      "eat_at_jammin                    int64\n",
      "eat_at_green_olive               int64\n",
      "eat_at_bunker                    int64\n",
      "eat_at_baithak                   int64\n",
      "eat_outside_lums                 int64\n",
      "campus_food_satisfaction         int64\n",
      "takeaway_or_delivery            object\n",
      "eating_habit_rating              int64\n",
      "health_rating                    int64\n",
      "pay_personal_savings             int64\n",
      "pay_parental_family_support      int64\n",
      "pay_financial_aid                int64\n",
      "pay_earning_from_a_job           int64\n",
      "pay_my_own_business              int64\n",
      "takeaway_time_early_dinner       int64\n",
      "takeaway_time_no                 int64\n",
      "takeaway_time_breakfast          int64\n",
      "takeaway_time_dinner             int64\n",
      "takeaway_time_late_night         int64\n",
      "takeaway_time_lunch              int64\n",
      "takeaway_time_brunch             int64\n",
      "delivery_time_early_dinner       int64\n",
      "delivery_time_no                 int64\n",
      "delivery_time_breakfast          int64\n",
      "delivery_time_dinner             int64\n",
      "delivery_time_late_night         int64\n",
      "delivery_time_lunch              int64\n",
      "delivery_time_brunch             int64\n",
      "dtype: object\n"
     ]
    }
   ],
   "source": [
    "print(df.dtypes)"
   ]
  },
  {
   "cell_type": "code",
   "execution_count": 30,
   "metadata": {},
   "outputs": [
    {
     "data": {
      "image/png": "[encoded data removed]",
      "text/plain": [
       "<Figure size 1400x600 with 3 Axes>"
      ]
     },
     "metadata": {},
     "output_type": "display_data"
    }
   ],
   "source": [
    "# Plotting histograms for numerical columns\n",
    "numerical_columns = ['age', 'monthly_budget', 'food_spending']\n",
    "\n",
    "plt.figure(figsize=(14, 6))\n",
    "for i, col in enumerate(numerical_columns, 1):\n",
    "    plt.subplot(1, 3, i)\n",
    "    sns.histplot(df[col], kde=True)\n",
    "    plt.title(f'Distribution of {col}')\n",
    "    plt.xlabel(col)\n",
    "    plt.ylabel('Frequency')\n",
    "plt.tight_layout()\n",
    "plt.show()"
   ]
  },
  {
   "cell_type": "code",
   "execution_count": 31,
   "metadata": {},
   "outputs": [
    {
     "name": "stderr",
     "output_type": "stream",
     "text": [
      "C:\\Users\\sehar\\AppData\\Local\\Temp\\ipykernel_2220\\3996635484.py:3: FutureWarning: \n",
      "\n",
      "The `ci` parameter is deprecated. Use `errorbar=None` for the same effect.\n",
      "\n",
      "  sns.barplot(x='monthly_budget', y='health_rating', data=df, ci=None)\n"
     ]
    },
    {
     "data": {
      "image/png": "[encoded data removed]",
      "text/plain": [
       "<Figure size 1000x600 with 1 Axes>"
      ]
     },
     "metadata": {},
     "output_type": "display_data"
    }
   ],
   "source": [
    "# Example bar plot for 'monthly_budget' vs 'health_rating'\n",
    "plt.figure(figsize=(10, 6))\n",
    "sns.barplot(x='monthly_budget', y='health_rating', data=df, ci=None)\n",
    "plt.title('Monthly Budget vs. Health Rating')\n",
    "plt.xlabel('Monthly Budget')\n",
    "plt.ylabel('Health Consciousness (1 = High, 0 = Low)')\n",
    "plt.show()"
   ]
  },
  {
   "cell_type": "code",
   "execution_count": 32,
   "metadata": {},
   "outputs": [
    {
     "data": {
      "image/png": "[encoded data removed]",
      "text/plain": [
       "<Figure size 1000x600 with 1 Axes>"
      ]
     },
     "metadata": {},
     "output_type": "display_data"
    }
   ],
   "source": [
    "\n",
    "\n",
    "# Create a column to combine all payment methods into a single 'payment_method' column for plotting\n",
    "payment_columns = ['pay_personal_savings', 'pay_parental_family_support', 'pay_financial_aid',\n",
    "                   'pay_earning_from_a_job', 'pay_my_own_business']\n",
    "\n",
    "# Sum the payment methods to check for the presence (1) or absence (0) of each method\n",
    "df['payment_method'] = df[payment_columns].sum(axis=1)\n",
    "\n",
    "# Map payment_method values for easy interpretation\n",
    "payment_method_map = {\n",
    "    0: 'No Payment Method',\n",
    "    1: 'Personal Savings',\n",
    "    2: 'Parental/Family Support',\n",
    "    3: 'Financial Aid',\n",
    "    4: 'Earning from a Job',\n",
    "    5: 'My Own Business'\n",
    "}\n",
    "\n",
    "df['payment_method'] = df['payment_method'].map(payment_method_map)\n",
    "\n",
    "# Plot the boxplot\n",
    "plt.figure(figsize=(10, 6))\n",
    "sns.boxplot(x='payment_method', y='monthly_budget', data=df)\n",
    "plt.title('Monthly Budget vs Payment Method')\n",
    "plt.xlabel('Payment Method')\n",
    "plt.ylabel('Monthly Budget')\n",
    "plt.xticks(rotation=45)\n",
    "plt.show()\n"
   ]
  },
  {
   "cell_type": "code",
   "execution_count": 33,
   "metadata": {},
   "outputs": [
    {
     "data": {
      "text/plain": [
       "Index(['age', 'gender', 'location', 'monthly_budget', 'food_spending',\n",
       "       'work_location', 'diet_plan', 'allergies', 'allergy_details',\n",
       "       'cook_frequency', 'eat_at_pdc', 'eat_at_baradari', 'eat_at_khokha',\n",
       "       'eat_at_superstore', 'eat_at_zakir_tikka', 'eat_at_juice_zone',\n",
       "       'eat_at_subway', 'eat_at_chop_chop', 'eat_at_delish', 'eat_at_jammin',\n",
       "       'eat_at_green_olive', 'eat_at_bunker', 'eat_at_baithak',\n",
       "       'eat_outside_lums', 'campus_food_satisfaction', 'takeaway_or_delivery',\n",
       "       'eating_habit_rating', 'health_rating', 'pay_personal_savings',\n",
       "       'pay_parental_family_support', 'pay_financial_aid',\n",
       "       'pay_earning_from_a_job', 'pay_my_own_business',\n",
       "       'takeaway_time_early_dinner', 'takeaway_time_no',\n",
       "       'takeaway_time_breakfast', 'takeaway_time_dinner',\n",
       "       'takeaway_time_late_night', 'takeaway_time_lunch',\n",
       "       'takeaway_time_brunch', 'delivery_time_early_dinner',\n",
       "       'delivery_time_no', 'delivery_time_breakfast', 'delivery_time_dinner',\n",
       "       'delivery_time_late_night', 'delivery_time_lunch',\n",
       "       'delivery_time_brunch', 'payment_method'],\n",
       "      dtype='object')"
      ]
     },
     "execution_count": 33,
     "metadata": {},
     "output_type": "execute_result"
    }
   ],
   "source": [
    "df.columns"
   ]
  },
  {
   "cell_type": "code",
   "execution_count": 34,
   "metadata": {},
   "outputs": [
    {
     "name": "stderr",
     "output_type": "stream",
     "text": [
      "C:\\Users\\sehar\\AppData\\Local\\Temp\\ipykernel_2220\\3892947788.py:18: SettingWithCopyWarning: \n",
      "A value is trying to be set on a copy of a slice from a DataFrame.\n",
      "Try using .loc[row_indexer,col_indexer] = value instead\n",
      "\n",
      "See the caveats in the documentation: https://pandas.pydata.org/pandas-docs/stable/user_guide/indexing.html#returning-a-view-versus-a-copy\n",
      "  yes_diet['diet_group'] = 'Yes Diet Plan'\n",
      "C:\\Users\\sehar\\AppData\\Local\\Temp\\ipykernel_2220\\3892947788.py:19: SettingWithCopyWarning: \n",
      "A value is trying to be set on a copy of a slice from a DataFrame.\n",
      "Try using .loc[row_indexer,col_indexer] = value instead\n",
      "\n",
      "See the caveats in the documentation: https://pandas.pydata.org/pandas-docs/stable/user_guide/indexing.html#returning-a-view-versus-a-copy\n",
      "  no_diet['diet_group'] = 'No Diet Plan'\n"
     ]
    },
    {
     "name": "stderr",
     "output_type": "stream",
     "text": [
      "C:\\Users\\sehar\\AppData\\Local\\Temp\\ipykernel_2220\\3892947788.py:37: UserWarning: set_ticklabels() should only be used with a fixed number of ticks, i.e. after set_ticks() or using a FixedLocator.\n",
      "  axes[1].set_xticklabels(['No Allergies', 'Yes Allergies'])\n"
     ]
    },
    {
     "data": {
      "image/png": "[encoded data removed]",
      "text/plain": [
       "<Figure size 1600x600 with 2 Axes>"
      ]
     },
     "metadata": {},
     "output_type": "display_data"
    }
   ],
   "source": [
    "# Plot 1: Diet Plan vs Monthly Budget\n",
    "\n",
    "# diet_plan_mapping = {\n",
    "#     'High Protein': 1,\n",
    "#     'I eat everything': 2,\n",
    "#     'I eat everything except chicken': 3,\n",
    "#     'Low carb': 4,\n",
    "#     'Not any specific plan': 5,\n",
    "#     'Gluten free': 6\n",
    "# }\n",
    "\n",
    "\n",
    "# Step 1: Create the filtered DataFrames\n",
    "no_diet = df[df['diet_plan'] == 2]\n",
    "yes_diet = df[df['diet_plan'].isin([1, 3, 4, 5, 6])]\n",
    "\n",
    "# Step 2: Combine the two subsets into one DataFrame\n",
    "yes_diet['diet_group'] = 'Yes Diet Plan'\n",
    "no_diet['diet_group'] = 'No Diet Plan'\n",
    "\n",
    "# Combine both DataFrames\n",
    "combined_df = pd.concat([yes_diet, no_diet])\n",
    "\n",
    "fig, axes = plt.subplots(1, 2, figsize=(16, 6))\n",
    "\n",
    "# Plot 1: Budget vs Diet Plan\n",
    "sns.boxplot(x='diet_group', y='monthly_budget', data=combined_df, ax=axes[0])\n",
    "axes[0].set_title(\"Comparison of Budget vs Diet Plan\")\n",
    "axes[0].set_xlabel(\"Diet Plan\")\n",
    "axes[0].set_ylabel(\"Monthly Budget\")\n",
    "\n",
    "# Plot 2: Allergies vs Monthly Budget\n",
    "sns.boxplot(x='allergies', y='monthly_budget', data=df, ax=axes[1])\n",
    "axes[1].set_title('Monthly Budget vs Allergies')\n",
    "axes[1].set_xlabel('Allergies')\n",
    "axes[1].set_ylabel('Monthly Budget')\n",
    "axes[1].set_xticklabels(['No Allergies', 'Yes Allergies'])\n",
    "\n",
    "# Display the plots\n",
    "plt.tight_layout()  # To make sure plots don't overlap\n",
    "plt.show()"
   ]
  },
  {
   "cell_type": "code",
   "execution_count": 35,
   "metadata": {},
   "outputs": [
    {
     "data": {
      "image/png": "[encoded data removed]",
      "text/plain": [
       "<Figure size 1000x600 with 1 Axes>"
      ]
     },
     "metadata": {},
     "output_type": "display_data"
    }
   ],
   "source": [
    "import matplotlib.pyplot as plt\n",
    "\n",
    "# Create the bar plot for 'monthly_budget' vs 'health_rating'\n",
    "plt.figure(figsize=(10, 6))\n",
    "sns.barplot(x=df['monthly_budget'], y=df['health_rating'])\n",
    "\n",
    "# Adding title and labels\n",
    "plt.title('Monthly Budget vs. Health Rating')\n",
    "plt.xlabel('Monthly Budget')\n",
    "plt.ylabel('Health Consciousness (5 = High, 0 = Low)')\n",
    "plt.xticks(rotation=45)\n",
    "\n",
    "# Display the plot\n",
    "plt.show()\n"
   ]
  },
  {
   "cell_type": "code",
   "execution_count": 36,
   "metadata": {},
   "outputs": [
    {
     "name": "stdout",
     "output_type": "stream",
     "text": [
      "0      3\n",
      "1      3\n",
      "2      2\n",
      "3      2\n",
      "4      3\n",
      "      ..\n",
      "102    3\n",
      "103    1\n",
      "104    2\n",
      "105    2\n",
      "106    3\n",
      "Name: health_rating, Length: 105, dtype: int64\n"
     ]
    }
   ],
   "source": [
    "print(df['health_rating'])"
   ]
  },
  {
   "cell_type": "code",
   "execution_count": 37,
   "metadata": {},
   "outputs": [
    {
     "data": {
      "image/png": "[encoded data removed]",
      "text/plain": [
       "<Figure size 1000x600 with 1 Axes>"
      ]
     },
     "metadata": {},
     "output_type": "display_data"
    }
   ],
   "source": [
    "plt.figure(figsize=(10, 6))\n",
    "sns.boxplot(x='location', y='monthly_budget', data=df)\n",
    "\n",
    "location_labels = ['Day Scholar', 'Hostelite (Lahore)', 'Hostelite']\n",
    "plt.title('Monthly Budget Distribution by Location')\n",
    "plt.xlabel('Location')\n",
    "plt.ylabel('Monthly Budget')\n",
    "plt.xticks(rotation=30)\n",
    "plt.xticks(ticks=[0, 1, 2], labels=location_labels)\n",
    "\n",
    "plt.show()"
   ]
  },
  {
   "cell_type": "code",
   "execution_count": null,
   "metadata": {},
   "outputs": [],
   "source": []
  },
  {
   "cell_type": "markdown",
   "metadata": {},
   "source": [
    "## RQs \n",
    "- RQ 1: Do socioeconomic status play a role in students' eating habits\n",
    "- RQ 2: Does health and specific dietry preferences affect spending budget\n"
   ]
  },
  {
   "cell_type": "markdown",
   "metadata": {},
   "source": [
    "RQ 1"
   ]
  },
  {
   "cell_type": "code",
   "execution_count": null,
   "metadata": {},
   "outputs": [
    {
     "name": "stdout",
     "output_type": "stream",
     "text": [
      "                Eatery       ATE   P-value\n",
      "0       cook_frequency -0.083333  0.749386\n",
      "1           eat_at_pdc  0.364035  0.247113\n",
      "2      eat_at_baradari  0.099781  0.661453\n",
      "3        eat_at_khokha  0.371711  0.116461\n",
      "4    eat_at_superstore -0.126096  0.662708\n",
      "5   eat_at_zakir_tikka  0.895833  0.000147\n",
      "6    eat_at_juice_zone  0.182018  0.177035\n",
      "7        eat_at_subway  0.309211  0.144857\n",
      "8     eat_at_chop_chop  0.001096  0.992897\n",
      "9        eat_at_delish -0.110746  0.613034\n",
      "10       eat_at_jammin  0.140351  0.548034\n",
      "11  eat_at_green_olive -0.030702  0.888692\n",
      "12       eat_at_bunker  0.081140  0.696368\n",
      "13      eat_at_baithak  0.934211  0.001905\n",
      "14    eat_outside_lums  0.951754  0.000138\n"
     ]
    }
   ],
   "source": [
    "import statsmodels.api as sm\n",
    "df['high_budget'] = (df['monthly_budget'] > df['monthly_budget'].median()).astype(int)\n",
    "treatment = df['high_budget']\n",
    "outcome = df['eat_at_pdc']\n",
    "\n",
    "# List of eatery-related outcome columns\n",
    "eatery_columns = [\n",
    "    'cook_frequency',\n",
    "    'eat_at_pdc', 'eat_at_baradari', 'eat_at_khokha', 'eat_at_superstore',\n",
    "    'eat_at_zakir_tikka', 'eat_at_juice_zone', 'eat_at_subway', 'eat_at_chop_chop',\n",
    "    'eat_at_delish', 'eat_at_jammin', 'eat_at_green_olive', 'eat_at_bunker',\n",
    "    'eat_at_baithak', 'eat_outside_lums'\n",
    "]\n",
    "#### WITHOUT COFOUNDING FACTORS\n",
    "# Dictionary to store results\n",
    "results = []\n",
    "\n",
    "for column in eatery_columns:\n",
    "    # Define outcome\n",
    "    outcome = df[column]\n",
    "\n",
    "    # Regression for each eatery\n",
    "    X = sm.add_constant(df['high_budget'])\n",
    "    model = sm.OLS(outcome, X).fit()\n",
    "\n",
    "    # Store results\n",
    "    results.append({\n",
    "        'Eatery': column,\n",
    "        'ATE': model.params['high_budget'],\n",
    "        'P-value': model.pvalues['high_budget']\n",
    "    })\n",
    "\n",
    "# Convert results to a DataFrame\n",
    "results_df = pd.DataFrame(results)\n",
    "\n",
    "# Display results\n",
    "print(results_df)\n",
    "\n"
   ]
  },
  {
   "cell_type": "code",
   "execution_count": null,
   "metadata": {},
   "outputs": [
    {
     "name": "stdout",
     "output_type": "stream",
     "text": [
      "                Eatery       ATE   P-value\n",
      "0       cook_frequency -0.012674  0.961563\n",
      "1           eat_at_pdc  0.267162  0.397199\n",
      "2      eat_at_baradari  0.045818  0.841116\n",
      "3        eat_at_khokha  0.298879  0.205767\n",
      "4    eat_at_superstore -0.049799  0.864484\n",
      "5   eat_at_zakir_tikka  0.805609  0.000524\n",
      "6    eat_at_juice_zone  0.195849  0.149514\n",
      "7        eat_at_subway  0.286072  0.177762\n",
      "8     eat_at_chop_chop -0.007579  0.951974\n",
      "9        eat_at_delish -0.086816  0.697465\n",
      "10       eat_at_jammin  0.183290  0.440038\n",
      "11  eat_at_green_olive -0.138480  0.518062\n",
      "12       eat_at_bunker  0.111391  0.598501\n",
      "13      eat_at_baithak  0.984462  0.001302\n",
      "14    eat_outside_lums  0.894699  0.000371\n"
     ]
    }
   ],
   "source": [
    "import statsmodels.formula.api as smf\n",
    "\n",
    "# Define control variables WITH COFOUNDING VARS\n",
    "control_vars = ['gender', 'work_location']\n",
    "controls = ' + '.join(control_vars)\n",
    "\n",
    "# List of eatery columns\n",
    "eatery_columns = [\n",
    "    'cook_frequency',\n",
    "    'eat_at_pdc', 'eat_at_baradari', 'eat_at_khokha', 'eat_at_superstore',\n",
    "    'eat_at_zakir_tikka', 'eat_at_juice_zone', 'eat_at_subway', 'eat_at_chop_chop',\n",
    "    'eat_at_delish', 'eat_at_jammin', 'eat_at_green_olive', 'eat_at_bunker',\n",
    "    'eat_at_baithak', 'eat_outside_lums'\n",
    "]\n",
    "\n",
    "# Dictionary to store results\n",
    "results_rq1 = []\n",
    "\n",
    "for column in eatery_columns:\n",
    "    formula = f'{column} ~ high_budget + {controls}'\n",
    "    model = smf.ols(formula=formula, data=df).fit()\n",
    "\n",
    "    results_rq1.append({\n",
    "        'Eatery': column,\n",
    "        'ATE': model.params['high_budget'],\n",
    "        'P-value': model.pvalues['high_budget']\n",
    "    })\n",
    "\n",
    "# Convert results to a DataFrame\n",
    "results_rq1_df = pd.DataFrame(results_rq1)\n",
    "\n",
    "# Display results\n",
    "print(results_rq1_df)\n"
   ]
  },
  {
   "cell_type": "markdown",
   "metadata": {},
   "source": [
    "THIS IS For Health wala RQ without cofounding vars"
   ]
  },
  {
   "cell_type": "code",
   "execution_count": 41,
   "metadata": {},
   "outputs": [
    {
     "name": "stdout",
     "output_type": "stream",
     "text": [
      "Estimated ATE for Dietary Preferences: 6255.313620071693\n",
      "P-value for Dietary Preferences Effect: 0.01135882541031995\n",
      "Estimated ATE for Allergies: -2708.653405017922\n",
      "P-value for Allergies Effect: 0.5201023739077941\n"
     ]
    }
   ],
   "source": [
    "# Define treatments\n",
    "df['on_diet'] = (df['diet_plan'] != 2).astype(int)  # Assuming 2 = \"No specific diet\"\n",
    "df['has_allergies'] = df['allergies']  # Already binary (0 = No, 1 = Yes)\n",
    "\n",
    "# Define outcome\n",
    "outcome = df['food_spending']\n",
    "\n",
    "# Regression to estimate ATE for both treatments\n",
    "X_combined = sm.add_constant(df[['on_diet', 'has_allergies']])\n",
    "model_combined = sm.OLS(outcome, X_combined).fit()\n",
    "\n",
    "# Extract results\n",
    "ate_diet = model_combined.params['on_diet']\n",
    "p_value_diet = model_combined.pvalues['on_diet']\n",
    "\n",
    "ate_allergies = model_combined.params['has_allergies']\n",
    "p_value_allergies = model_combined.pvalues['has_allergies']\n",
    "\n",
    "# Display results\n",
    "print(f\"Estimated ATE for Dietary Preferences: {ate_diet}\")\n",
    "print(f\"P-value for Dietary Preferences Effect: {p_value_diet}\")\n",
    "print(f\"Estimated ATE for Allergies: {ate_allergies}\")\n",
    "print(f\"P-value for Allergies Effect: {p_value_allergies}\")\n"
   ]
  },
  {
   "cell_type": "code",
   "execution_count": null,
   "metadata": {},
   "outputs": [],
   "source": []
  },
  {
   "cell_type": "markdown",
   "metadata": {},
   "source": [
    "With control variables\n",
    "\n",
    "THIS IS For Health wala RQ"
   ]
  },
  {
   "cell_type": "code",
   "execution_count": null,
   "metadata": {},
   "outputs": [
    {
     "name": "stdout",
     "output_type": "stream",
     "text": [
      "Estimated ATE for Health Rating: -755.3441215843064\n",
      "P-value for Health Rating Effect: 0.667955952643746\n",
      "                            OLS Regression Results                            \n",
      "==============================================================================\n",
      "Dep. Variable:          food_spending   R-squared:                       0.396\n",
      "Model:                            OLS   Adj. R-squared:                  0.359\n",
      "Method:                 Least Squares   F-statistic:                     3.086\n",
      "Date:                Sun, 01 Dec 2024   Prob (F-statistic):              0.245\n",
      "Time:                        20:11:59   Log-Likelihood:                -1081.1\n",
      "No. Observations:                 105   AIC:                             2176.\n",
      "Df Residuals:                      98   BIC:                             2195.\n",
      "Df Model:                           6                                         \n",
      "Covariance Type:              cluster                                         \n",
      "==================================================================================\n",
      "                     coef    std err          z      P>|z|      [0.025      0.975]\n",
      "----------------------------------------------------------------------------------\n",
      "Intercept       1.928e+04   2.81e+04      0.685      0.493   -3.59e+04    7.44e+04\n",
      "health_rating   -755.3441   1760.894     -0.429      0.668   -4206.632    2695.944\n",
      "gender          -822.0366   3323.102     -0.247      0.805   -7335.197    5691.124\n",
      "work_location   -580.2006   1655.429     -0.350      0.726   -3824.781    2664.380\n",
      "age             -595.3870    748.175     -0.796      0.426   -2061.782     871.008\n",
      "monthly_budget     0.4382      0.072      6.078      0.000       0.297       0.579\n",
      "on_diet         2144.0509   2303.038      0.931      0.352   -2369.820    6657.922\n",
      "==============================================================================\n",
      "Omnibus:                       11.756   Durbin-Watson:                   1.713\n",
      "Prob(Omnibus):                  0.003   Jarque-Bera (JB):               31.090\n",
      "Skew:                           0.195   Prob(JB):                     1.77e-07\n",
      "Kurtosis:                       5.637   Cond. No.                     4.58e+05\n",
      "==============================================================================\n",
      "\n",
      "Notes:\n",
      "[1] Standard Errors are robust to cluster correlation (cluster)\n",
      "[2] The condition number is large, 4.58e+05. This might indicate that there are\n",
      "strong multicollinearity or other numerical problems.\n"
     ]
    },
    {
     "name": "stderr",
     "output_type": "stream",
     "text": [
      "C:\\Users\\sehar\\AppData\\Roaming\\Python\\Python312\\site-packages\\statsmodels\\base\\model.py:1894: ValueWarning: covariance of constraints does not have full rank. The number of constraints is 6, but rank is 2\n",
      "  warnings.warn('covariance of constraints does not have full '\n"
     ]
    }
   ],
   "source": [
    "import statsmodels.formula.api as smf\n",
    "\n",
    "# Define control variables and outcome\n",
    "control_vars = ['gender', 'work_location', 'age', 'monthly_budget', 'on_diet'] # control var\n",
    "controls = ' + '.join(control_vars)\n",
    "\n",
    "# Outcome: Food spending (or eating frequency at any eatery)\n",
    "outcome = 'food_spending'\n",
    "\n",
    "# Define the formula for the regression, incorporating the health rating and confounders\n",
    "formula_health = f'{outcome} ~ health_rating + {controls}'\n",
    "\n",
    "# Fit the regression model with cluster standard errors (e.g., by batch or group)\n",
    "# Assuming 'batch' or similar grouping variable exists in the dataset\n",
    "# If no grouping variable is available, we can skip the clustering and fit the model directly\n",
    "model_health = smf.ols(formula=formula_health, data=df).fit(cov_type='cluster', cov_kwds={'groups': df['location']})\n",
    "\n",
    "# Extract results\n",
    "ate_health = model_health.params['health_rating']\n",
    "p_value_health = model_health.pvalues['health_rating']\n",
    "\n",
    "# Display results\n",
    "print(f\"Estimated ATE for Health Rating: {ate_health}\")\n",
    "print(f\"P-value for Health Rating Effect: {p_value_health}\")\n",
    "\n",
    "# Display the model summary for detailed insights\n",
    "print(model_health.summary())\n"
   ]
  },
  {
   "cell_type": "code",
   "execution_count": null,
   "metadata": {},
   "outputs": [],
   "source": []
  },
  {
   "cell_type": "markdown",
   "metadata": {},
   "source": [
    "ML"
   ]
  },
  {
   "cell_type": "code",
   "execution_count": 45,
   "metadata": {},
   "outputs": [
    {
     "name": "stdout",
     "output_type": "stream",
     "text": [
      "Mean Squared Error: 33446829.887265213\n",
      "R-squared: 0.5871512985715778\n",
      "          Feature  Importance\n",
      "2  monthly_budget    0.490805\n",
      "0             age    0.151453\n",
      "6   health_rating    0.134196\n",
      "5       diet_plan    0.077219\n",
      "4   work_location    0.076589\n",
      "1          gender    0.061214\n",
      "3         on_diet    0.008524\n"
     ]
    }
   ],
   "source": [
    "from sklearn.ensemble import RandomForestRegressor\n",
    "from sklearn.model_selection import train_test_split\n",
    "from sklearn.metrics import mean_squared_error, r2_score\n",
    "from sklearn.preprocessing import StandardScaler\n",
    "\n",
    "# Feature selection: Choosing relevant features for prediction\n",
    "features = ['age', 'gender', 'monthly_budget', 'on_diet', 'work_location', 'diet_plan', 'health_rating']\n",
    "X = df[features]  # Features\n",
    "y = df['food_spending']  # Target variable (food spending)\n",
    "\n",
    "# Data preprocessing\n",
    "X = pd.get_dummies(X, drop_first=True)  # Convert categorical variables into dummy variables\n",
    "X_scaled = StandardScaler().fit_transform(X)  # Scaling the features\n",
    "\n",
    "# Split the data into training and testing sets\n",
    "X_train, X_test, y_train, y_test = train_test_split(X_scaled, y, test_size=0.2, random_state=42)\n",
    "\n",
    "# Train the Random Forest Regressor model\n",
    "model = RandomForestRegressor(n_estimators=100, random_state=42)\n",
    "model.fit(X_train, y_train)\n",
    "\n",
    "# Predict the food spending for test data\n",
    "y_pred = model.predict(X_test)\n",
    "\n",
    "# Evaluate the model\n",
    "mse = mean_squared_error(y_test, y_pred)\n",
    "r2 = r2_score(y_test, y_pred)\n",
    "\n",
    "print(f'Mean Squared Error: {mse}')\n",
    "print(f'R-squared: {r2}')\n",
    "\n",
    "# Feature importance (What features matter the most in predicting food spending)\n",
    "feature_importance = model.feature_importances_\n",
    "features_list = X.columns\n",
    "feature_importance_df = pd.DataFrame({'Feature': features_list, 'Importance': feature_importance})\n",
    "feature_importance_df = feature_importance_df.sort_values(by='Importance', ascending=False)\n",
    "\n",
    "print(feature_importance_df)\n"
   ]
  },
  {
   "cell_type": "markdown",
   "metadata": {},
   "source": [
    "PA4 code "
   ]
  },
  {
   "cell_type": "code",
   "execution_count": null,
   "metadata": {},
   "outputs": [],
   "source": [
    "# Write code here\n",
    "import numpy as np\n",
    "from sklearn.model_selection import train_test_split\n",
    "from sklearn.metrics import mean_squared_error\n",
    "from sklearn.linear_model import Ridge, Lasso\n",
    "from sklearn.ensemble import RandomForestRegressor\n",
    "from sklearn.tree import DecisionTreeRegressor\n",
    "from sklearn.linear_model import LinearRegression\n",
    "\n",
    "\n",
    "feature_df_x =  df[[col for col in df.columns if col not in columns_to_exclude]]\n",
    "target_df_y = df['price']\n",
    "\n",
    "# Train-test splits\n",
    "splits = [\n",
    "    (0.9, 0.1),  # 90% train, 10% test\n",
    "    (0.7, 0.3),  # 70% train, 30% test\n",
    "    (0.5, 0.5)   # 50% train, 50% test\n",
    "]\n",
    "\n",
    "# Define models to evaluate\n",
    "models = {\n",
    "    'OLS (Linear Regression)': LinearRegression(),\n",
    "    'Ridge': Ridge(),\n",
    "    'Lasso': Lasso(),\n",
    "    'Decision Tree': DecisionTreeRegressor(random_state=42),\n",
    "    'Random Forest': RandomForestRegressor(n_estimators=100, max_depth=5, random_state=42)\n",
    "}\n",
    "\n",
    "# Store RMSE results\n",
    "results = {model: [] for model in models.keys()}\n",
    "\n",
    "# Evaluate the models across different train-test splits\n",
    "for train_size, test_size in splits:\n",
    "    print(f\"\\nTraining with {int(train_size*100)}% Train, {int(test_size*100)}% Test split\")\n",
    "\n",
    "    # Train-test split\n",
    "    X_train, X_test, y_train, y_test = train_test_split(feature_df_x, target_df_y, train_size=train_size, random_state=42)\n",
    "\n",
    "    for model_name, model in models.items():\n",
    "        # Fit the model\n",
    "        model.fit(X_train, y_train)\n",
    "        \n",
    "        # Make predictions\n",
    "        y_pred = model.predict(X_test)\n",
    "        \n",
    "        # Calculate RMSE\n",
    "        rmse = np.sqrt(mean_squared_error(y_test, y_pred))\n",
    "        results[model_name].append(rmse)\n",
    "        print(f\"{model_name} RMSE: {rmse}\")\n",
    "\n",
    "# Print summary of results\n",
    "print(\"\\nSummary of RMSE across different splits:\")\n",
    "for model_name, rmse_list in results.items():\n",
    "    print(f\"{model_name} RMSE across splits: {rmse_list}\")\n",
    "    print(f\"Average RMSE: {np.mean(rmse_list)}\")\n"
   ]
  },
  {
   "cell_type": "code",
   "execution_count": null,
   "metadata": {},
   "outputs": [],
   "source": []
  }
 ],
 "metadata": {
  "colab": {
   "provenance": [],
   "toc_visible": true
  },
  "kernelspec": {
   "display_name": "Python 3",
   "name": "python3"
  },
  "language_info": {
   "codemirror_mode": {
    "name": "ipython",
    "version": 3
   },
   "file_extension": ".py",
   "mimetype": "text/x-python",
   "name": "python",
   "nbconvert_exporter": "python",
   "pygments_lexer": "ipython3",
   "version": "3.12.2"
  }
 },
 "nbformat": 4,
 "nbformat_minor": 0
}

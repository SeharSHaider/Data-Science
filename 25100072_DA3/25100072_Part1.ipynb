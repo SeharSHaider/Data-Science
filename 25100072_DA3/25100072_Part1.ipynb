{
 "cells": [
  {
   "cell_type": "markdown",
   "metadata": {},
   "source": [
    "# **Analyzing the Impact of Castle Doctrine Laws on Violent Crime Rates in the USA**\n",
    "\n",
    "![fbi.jpg](fbi.jpg)\n",
    "## **Introduction**\n",
    "\n",
    "The **Castle Doctrine** is a legal principle that grants individuals the right to use reasonable force, including deadly force, to defend themselves against an intruder within their own homes. Rooted in the notion that one's home is their \"castle,\" these laws eliminate the duty to retreat before using force in self-defense. Proponents argue that the Castle Doctrine empowers lawful homeowners to protect themselves and deters criminal activity, while critics express concerns that such laws may escalate violence and lead to an increase in homicides.\n",
    "\n",
    "Understanding the **causal relationship** between the implementation of Castle Doctrine laws and changes in violent crime rates is crucial for policymakers, law enforcement agencies, and communities. By analyzing this relationship, we can assess whether these laws effectively reduce crime or inadvertently contribute to higher rates of violence.\n",
    "\n",
    "## **Dataset Overview**\n",
    "\n",
    "This analysis utilizes a comprehensive dataset from the **FBI**, encompassing various states over multiple years. The dataset captures a wide range of variables related to violent crimes, socioeconomic conditions, and demographic factors. Notably, the implementation of Castle Doctrine laws occurred at different times across states, with the majority adopting these statutes around **2006**. This staggered adoption provides a unique opportunity to employ robust methodologies to isolate the effect of these laws on violent crime rates.\n",
    "\n",
    "### **Selected Columns for Analysis**\n",
    "\n",
    "For a focused and meaningful analysis, we restrict our examination to the following columns from the dataset:\n",
    "\n",
    "| **Column**         | **Description**                                                                                                                                                                                                                 |\n",
    "|--------------------|---------------------------------------------------------------------------------------------------------------------------------------------------------------------------------------------------------------------------------|\n",
    "| `year`             | The calendar year of the observation (e.g., 2005, 2010).                                                                                                                                                                       |\n",
    "| `post`             | A binary indicator where `1` signifies the post-treatment period (after the implementation of Castle Doctrine laws) and `0` denotes the pre-treatment period.                                                                    |\n",
    "| `sid`              | The state identifier, uniquely representing each state in the dataset.                                                                                                                                                       |\n",
    "| `homicide`         | The number of homicides recorded in the state per 100,000 population for the given year.                                                                                                                                       |\n",
    "| `robbery`          | The number of robberies reported in the state per 100,000 population for the given year.                                                                                                                                        |\n",
    "| `larceny`          | The number of larcenies recorded in the state per 100,000 population for the given year.                                                                                                                                        |\n",
    "| `assault`          | The number of aggravated assaults reported in the state per 100,000 population for the given year.                                                                                                                              |\n",
    "| `burglary`         | The number of burglaries recorded in the state per 100,000 population for the given year. \n",
    "| `l_exp_pubwelfare`         | Logged public welfare spending                                                                                                                                        |\n",
    "| `l_police`         | Logged police presence                                                                                                                                        |\n",
    "| `l_income`         | Logged income                                                                                                                                        |\n",
    "\n",
    "| `murder`           | The number of murders reported in the state per 100,000 population for the given year.                                                                                                                                          |\n",
    "| `unemployrt`       | The unemployment rate in the state for the given year, serving as an economic indicator.                                                                                                                                          |\n",
    "| `poverty`          | The poverty rate in the state for the given year, reflecting socioeconomic conditions.                                                                                                                                           |\n",
    "| `blackm_15_24`     | The percentage of Black males aged 15-24 in the state for the given year.                                                                                                                                                        |\n",
    "| `whitem_15_24`     | The percentage of White males aged 15-24 in the state for the given year.                                                                                                                                                        |\n",
    "| `popwt`     | Population weight                                                                                                                                                                                                                       |\n",
    "\n",
    "### **Crime Definitions**\n",
    "\n",
    "To ensure clarity in our analysis, it's essential to define each of the key crime-related variables included in our dataset:\n",
    "\n",
    "| **Variable**   | **Definition**                                                                                                                                                                                                                     |\n",
    "|----------------|-------------------------------------------------------------------------------------------------------------------------------------------------------------------------------------------------------------------------------------|\n",
    "| **Homicide**   | **Homicide** is defined as the sum of **murder** and **non-negligent manslaughter**. It represents the total number of intentional killings within a state, normalized per 100,000 state population.                                 |\n",
    "| **Murder**     | **Murder** refers to the unlawful killing of another human being without justification or valid excuse, committed with the necessary intention as defined by the law in a specific jurisdiction.                                           |\n",
    "| **Larceny**    | **Larceny** is the unlawful taking and carrying away of personal property with the intent to deprive the rightful owner of it permanently. It encompasses various forms of theft that do not involve force or intimidation.               |\n",
    "| **Assault**    | **Assault** involves the act of causing physical harm or unwanted physical contact to another person. This includes aggravated assaults, which are more severe and may involve the use of weapons or intent to cause serious injury.       |\n",
    "| **Burglary**   | **Burglary** is the act of illegally entering a building or other areas without permission, typically with the intention of committing a further criminal offense inside. It does not necessarily involve theft or violence.            |\n",
    "| **Robbery**    | **Robbery** is the act of taking property or money from a person through force, intimidation, or threat of violence. Unlike larceny, robbery involves direct confrontation and coercion against the victim.                                |\n",
    "\n",
    "\n",
    "### **Temporal and Spatial Dimensions**\n",
    "\n",
    "The dataset spans multiple states across the United States and covers several years, allowing for a longitudinal analysis of crime trends in relation to the implementation of Castle Doctrine laws. Most states adopted these statutes around **2006**, but the exact year of implementation varies, providing a natural experiment setting to evaluate the laws' impact. By comparing states before and after the adoption period and against states that did not adopt the law during the study period, we can effectively employ different techniques to infer causality.\n",
    "\n",
    "---\n",
    "\n"
   ]
  },
  {
   "cell_type": "code",
   "execution_count": 1,
   "metadata": {},
   "outputs": [],
   "source": [
    "#Initialize the grader\n",
    "\n",
    "import otter\n",
    "grader = otter.Notebook()"
   ]
  },
  {
   "cell_type": "code",
   "execution_count": 2,
   "metadata": {},
   "outputs": [
    {
     "name": "stdout",
     "output_type": "stream",
     "text": [
      "Defaulting to user installation because normal site-packages is not writeable\n"
     ]
    },
    {
     "name": "stderr",
     "output_type": "stream",
     "text": [
      "ERROR: Could not find a version that satisfies the requirement statsmodels.api (from versions: none)\n",
      "ERROR: No matching distribution found for statsmodels.api\n",
      "\n",
      "[notice] A new release of pip is available: 24.0 -> 24.3.1\n",
      "[notice] To update, run: python.exe -m pip install --upgrade pip\n"
     ]
    },
    {
     "name": "stdout",
     "output_type": "stream",
     "text": [
      "Defaulting to user installation because normal site-packages is not writeable\n"
     ]
    },
    {
     "name": "stderr",
     "output_type": "stream",
     "text": [
      "ERROR: Could not find a version that satisfies the requirement statsmodels.formula.api (from versions: none)\n",
      "ERROR: No matching distribution found for statsmodels.formula.api\n",
      "\n",
      "[notice] A new release of pip is available: 24.0 -> 24.3.1\n",
      "[notice] To update, run: python.exe -m pip install --upgrade pip\n"
     ]
    }
   ],
   "source": [
    "#import as needed\n",
    "\n",
    "import pandas as pd\n",
    "import numpy as np\n",
    "import seaborn as sns\n",
    "import matplotlib.pyplot as plt\n",
    "import scipy as sc\n",
    "\n",
    "!pip install statsmodels.api as sm\n",
    "!pip install statsmodels.formula.api as smf"
   ]
  },
  {
   "cell_type": "markdown",
   "metadata": {},
   "source": [
    "## Dataset Exploration"
   ]
  },
  {
   "cell_type": "markdown",
   "metadata": {},
   "source": [
    "**Question 0:** Load your dataset"
   ]
  },
  {
   "cell_type": "code",
   "execution_count": 3,
   "metadata": {},
   "outputs": [],
   "source": [
    "# Import dataset\n",
    "df = pd.read_csv(\"castle_doctrine_fbi.csv\")"
   ]
  },
  {
   "cell_type": "code",
   "execution_count": 4,
   "metadata": {},
   "outputs": [
    {
     "data": {
      "text/html": [
       "<div>\n",
       "<style scoped>\n",
       "    .dataframe tbody tr th:only-of-type {\n",
       "        vertical-align: middle;\n",
       "    }\n",
       "\n",
       "    .dataframe tbody tr th {\n",
       "        vertical-align: top;\n",
       "    }\n",
       "\n",
       "    .dataframe thead th {\n",
       "        text-align: right;\n",
       "    }\n",
       "</style>\n",
       "<table border=\"1\" class=\"dataframe\">\n",
       "  <thead>\n",
       "    <tr style=\"text-align: right;\">\n",
       "      <th></th>\n",
       "      <th>Unnamed: 0</th>\n",
       "      <th>year</th>\n",
       "      <th>sid</th>\n",
       "      <th>post</th>\n",
       "      <th>homicide</th>\n",
       "      <th>murder</th>\n",
       "      <th>robbery</th>\n",
       "      <th>assault</th>\n",
       "      <th>burglary</th>\n",
       "      <th>larceny</th>\n",
       "      <th>l_exp_pubwelfare</th>\n",
       "      <th>l_police</th>\n",
       "      <th>l_income</th>\n",
       "      <th>unemployrt</th>\n",
       "      <th>poverty</th>\n",
       "      <th>blackm_15_24</th>\n",
       "      <th>whitem_15_24</th>\n",
       "      <th>popwt</th>\n",
       "    </tr>\n",
       "  </thead>\n",
       "  <tbody>\n",
       "    <tr>\n",
       "      <th>0</th>\n",
       "      <td>0</td>\n",
       "      <td>2000</td>\n",
       "      <td>1</td>\n",
       "      <td>0</td>\n",
       "      <td>7.593978</td>\n",
       "      <td>6.532207</td>\n",
       "      <td>131.613570</td>\n",
       "      <td>325.61780</td>\n",
       "      <td>930.92017</td>\n",
       "      <td>2940.6238</td>\n",
       "      <td>6.926083</td>\n",
       "      <td>5.854609</td>\n",
       "      <td>10.711102</td>\n",
       "      <td>4.1</td>\n",
       "      <td>14.705981</td>\n",
       "      <td>2.222243</td>\n",
       "      <td>4.694810</td>\n",
       "      <td>4499293.0</td>\n",
       "    </tr>\n",
       "    <tr>\n",
       "      <th>1</th>\n",
       "      <td>1</td>\n",
       "      <td>2001</td>\n",
       "      <td>1</td>\n",
       "      <td>0</td>\n",
       "      <td>8.713443</td>\n",
       "      <td>7.494940</td>\n",
       "      <td>128.379600</td>\n",
       "      <td>281.63504</td>\n",
       "      <td>934.38460</td>\n",
       "      <td>2758.6900</td>\n",
       "      <td>6.974412</td>\n",
       "      <td>5.863135</td>\n",
       "      <td>10.675931</td>\n",
       "      <td>4.7</td>\n",
       "      <td>15.750203</td>\n",
       "      <td>2.249954</td>\n",
       "      <td>4.700201</td>\n",
       "      <td>4499293.0</td>\n",
       "    </tr>\n",
       "    <tr>\n",
       "      <th>2</th>\n",
       "      <td>2</td>\n",
       "      <td>2002</td>\n",
       "      <td>1</td>\n",
       "      <td>0</td>\n",
       "      <td>6.933288</td>\n",
       "      <td>6.406999</td>\n",
       "      <td>136.423310</td>\n",
       "      <td>274.63140</td>\n",
       "      <td>974.27570</td>\n",
       "      <td>2835.8290</td>\n",
       "      <td>7.038751</td>\n",
       "      <td>5.741382</td>\n",
       "      <td>10.727071</td>\n",
       "      <td>5.4</td>\n",
       "      <td>15.556559</td>\n",
       "      <td>2.258261</td>\n",
       "      <td>4.685461</td>\n",
       "      <td>4499293.0</td>\n",
       "    </tr>\n",
       "    <tr>\n",
       "      <th>3</th>\n",
       "      <td>3</td>\n",
       "      <td>2003</td>\n",
       "      <td>1</td>\n",
       "      <td>0</td>\n",
       "      <td>6.818007</td>\n",
       "      <td>6.567177</td>\n",
       "      <td>137.682700</td>\n",
       "      <td>258.53700</td>\n",
       "      <td>986.10266</td>\n",
       "      <td>2828.4238</td>\n",
       "      <td>7.110424</td>\n",
       "      <td>5.853816</td>\n",
       "      <td>10.695688</td>\n",
       "      <td>5.5</td>\n",
       "      <td>15.447802</td>\n",
       "      <td>2.292948</td>\n",
       "      <td>4.688166</td>\n",
       "      <td>4499293.0</td>\n",
       "    </tr>\n",
       "    <tr>\n",
       "      <th>4</th>\n",
       "      <td>4</td>\n",
       "      <td>2004</td>\n",
       "      <td>1</td>\n",
       "      <td>0</td>\n",
       "      <td>5.753689</td>\n",
       "      <td>5.595123</td>\n",
       "      <td>136.865310</td>\n",
       "      <td>255.65407</td>\n",
       "      <td>1011.78850</td>\n",
       "      <td>2800.9592</td>\n",
       "      <td>7.085519</td>\n",
       "      <td>5.792754</td>\n",
       "      <td>10.652069</td>\n",
       "      <td>5.1</td>\n",
       "      <td>16.252654</td>\n",
       "      <td>2.291327</td>\n",
       "      <td>4.661734</td>\n",
       "      <td>4499293.0</td>\n",
       "    </tr>\n",
       "    <tr>\n",
       "      <th>...</th>\n",
       "      <td>...</td>\n",
       "      <td>...</td>\n",
       "      <td>...</td>\n",
       "      <td>...</td>\n",
       "      <td>...</td>\n",
       "      <td>...</td>\n",
       "      <td>...</td>\n",
       "      <td>...</td>\n",
       "      <td>...</td>\n",
       "      <td>...</td>\n",
       "      <td>...</td>\n",
       "      <td>...</td>\n",
       "      <td>...</td>\n",
       "      <td>...</td>\n",
       "      <td>...</td>\n",
       "      <td>...</td>\n",
       "      <td>...</td>\n",
       "      <td>...</td>\n",
       "    </tr>\n",
       "    <tr>\n",
       "      <th>545</th>\n",
       "      <td>545</td>\n",
       "      <td>2006</td>\n",
       "      <td>51</td>\n",
       "      <td>0</td>\n",
       "      <td>2.524252</td>\n",
       "      <td>2.524252</td>\n",
       "      <td>13.980474</td>\n",
       "      <td>207.37703</td>\n",
       "      <td>450.87027</td>\n",
       "      <td>2381.9233</td>\n",
       "      <td>7.099053</td>\n",
       "      <td>5.890402</td>\n",
       "      <td>10.837029</td>\n",
       "      <td>3.2</td>\n",
       "      <td>10.044194</td>\n",
       "      <td>0.128737</td>\n",
       "      <td>7.068100</td>\n",
       "      <td>504780.2</td>\n",
       "    </tr>\n",
       "    <tr>\n",
       "      <th>546</th>\n",
       "      <td>546</td>\n",
       "      <td>2007</td>\n",
       "      <td>51</td>\n",
       "      <td>0</td>\n",
       "      <td>4.085253</td>\n",
       "      <td>4.085253</td>\n",
       "      <td>16.341013</td>\n",
       "      <td>206.79164</td>\n",
       "      <td>459.49374</td>\n",
       "      <td>2314.3933</td>\n",
       "      <td>7.129609</td>\n",
       "      <td>6.008737</td>\n",
       "      <td>10.844607</td>\n",
       "      <td>3.0</td>\n",
       "      <td>9.366708</td>\n",
       "      <td>0.138315</td>\n",
       "      <td>7.075853</td>\n",
       "      <td>504780.2</td>\n",
       "    </tr>\n",
       "    <tr>\n",
       "      <th>547</th>\n",
       "      <td>547</td>\n",
       "      <td>2008</td>\n",
       "      <td>51</td>\n",
       "      <td>0</td>\n",
       "      <td>2.295188</td>\n",
       "      <td>2.295188</td>\n",
       "      <td>16.448847</td>\n",
       "      <td>197.00363</td>\n",
       "      <td>420.78445</td>\n",
       "      <td>2216.3865</td>\n",
       "      <td>7.147602</td>\n",
       "      <td>5.961206</td>\n",
       "      <td>10.896961</td>\n",
       "      <td>3.2</td>\n",
       "      <td>9.460956</td>\n",
       "      <td>0.136181</td>\n",
       "      <td>6.962835</td>\n",
       "      <td>504780.2</td>\n",
       "    </tr>\n",
       "    <tr>\n",
       "      <th>548</th>\n",
       "      <td>548</td>\n",
       "      <td>2009</td>\n",
       "      <td>51</td>\n",
       "      <td>0</td>\n",
       "      <td>2.099441</td>\n",
       "      <td>2.099441</td>\n",
       "      <td>14.886945</td>\n",
       "      <td>178.45248</td>\n",
       "      <td>415.30760</td>\n",
       "      <td>2158.6070</td>\n",
       "      <td>7.220289</td>\n",
       "      <td>5.980045</td>\n",
       "      <td>10.884367</td>\n",
       "      <td>5.9</td>\n",
       "      <td>10.301384</td>\n",
       "      <td>0.147533</td>\n",
       "      <td>6.941324</td>\n",
       "      <td>504780.2</td>\n",
       "    </tr>\n",
       "    <tr>\n",
       "      <th>549</th>\n",
       "      <td>549</td>\n",
       "      <td>2010</td>\n",
       "      <td>51</td>\n",
       "      <td>0</td>\n",
       "      <td>1.436815</td>\n",
       "      <td>1.436815</td>\n",
       "      <td>13.649744</td>\n",
       "      <td>153.73923</td>\n",
       "      <td>385.96448</td>\n",
       "      <td>1999.6875</td>\n",
       "      <td>7.184053</td>\n",
       "      <td>5.864707</td>\n",
       "      <td>10.865879</td>\n",
       "      <td>6.9</td>\n",
       "      <td>10.089136</td>\n",
       "      <td>0.126440</td>\n",
       "      <td>6.413045</td>\n",
       "      <td>504780.2</td>\n",
       "    </tr>\n",
       "  </tbody>\n",
       "</table>\n",
       "<p>550 rows × 18 columns</p>\n",
       "</div>"
      ],
      "text/plain": [
       "     Unnamed: 0  year  sid  post  homicide    murder     robbery    assault  \\\n",
       "0             0  2000    1     0  7.593978  6.532207  131.613570  325.61780   \n",
       "1             1  2001    1     0  8.713443  7.494940  128.379600  281.63504   \n",
       "2             2  2002    1     0  6.933288  6.406999  136.423310  274.63140   \n",
       "3             3  2003    1     0  6.818007  6.567177  137.682700  258.53700   \n",
       "4             4  2004    1     0  5.753689  5.595123  136.865310  255.65407   \n",
       "..          ...   ...  ...   ...       ...       ...         ...        ...   \n",
       "545         545  2006   51     0  2.524252  2.524252   13.980474  207.37703   \n",
       "546         546  2007   51     0  4.085253  4.085253   16.341013  206.79164   \n",
       "547         547  2008   51     0  2.295188  2.295188   16.448847  197.00363   \n",
       "548         548  2009   51     0  2.099441  2.099441   14.886945  178.45248   \n",
       "549         549  2010   51     0  1.436815  1.436815   13.649744  153.73923   \n",
       "\n",
       "       burglary    larceny  l_exp_pubwelfare  l_police   l_income  unemployrt  \\\n",
       "0     930.92017  2940.6238          6.926083  5.854609  10.711102         4.1   \n",
       "1     934.38460  2758.6900          6.974412  5.863135  10.675931         4.7   \n",
       "2     974.27570  2835.8290          7.038751  5.741382  10.727071         5.4   \n",
       "3     986.10266  2828.4238          7.110424  5.853816  10.695688         5.5   \n",
       "4    1011.78850  2800.9592          7.085519  5.792754  10.652069         5.1   \n",
       "..          ...        ...               ...       ...        ...         ...   \n",
       "545   450.87027  2381.9233          7.099053  5.890402  10.837029         3.2   \n",
       "546   459.49374  2314.3933          7.129609  6.008737  10.844607         3.0   \n",
       "547   420.78445  2216.3865          7.147602  5.961206  10.896961         3.2   \n",
       "548   415.30760  2158.6070          7.220289  5.980045  10.884367         5.9   \n",
       "549   385.96448  1999.6875          7.184053  5.864707  10.865879         6.9   \n",
       "\n",
       "       poverty  blackm_15_24  whitem_15_24      popwt  \n",
       "0    14.705981      2.222243      4.694810  4499293.0  \n",
       "1    15.750203      2.249954      4.700201  4499293.0  \n",
       "2    15.556559      2.258261      4.685461  4499293.0  \n",
       "3    15.447802      2.292948      4.688166  4499293.0  \n",
       "4    16.252654      2.291327      4.661734  4499293.0  \n",
       "..         ...           ...           ...        ...  \n",
       "545  10.044194      0.128737      7.068100   504780.2  \n",
       "546   9.366708      0.138315      7.075853   504780.2  \n",
       "547   9.460956      0.136181      6.962835   504780.2  \n",
       "548  10.301384      0.147533      6.941324   504780.2  \n",
       "549  10.089136      0.126440      6.413045   504780.2  \n",
       "\n",
       "[550 rows x 18 columns]"
      ]
     },
     "execution_count": 4,
     "metadata": {},
     "output_type": "execute_result"
    }
   ],
   "source": [
    "df"
   ]
  },
  {
   "cell_type": "markdown",
   "metadata": {},
   "source": [
    "**Question 1:** \n",
    "\n",
    "a) Plot a correlation heatmap for this dataset using the selected_columns (it should be a color coded graph indicating correlation values for each of the columns against every other column).\n",
    "\n",
    "b) Comment on any 5 notable correlations. Based on these correlations, can you say that any of the correlations you suggested are causally related? If so, is their causal relationship direct or indirect, and are there any cofounding variables you suspect? Otherwise, explain why you weren't able to deduce any causal relaion.\n",
    "\n",
    "Note: You will be graded on how critically you have commented, not how much you write. So keep your answers crisp and to the point, but also think deeply."
   ]
  },
  {
   "cell_type": "code",
   "execution_count": 5,
   "metadata": {},
   "outputs": [
    {
     "data": {
      "image/png": "[encoded data removed]",
      "text/plain": [
       "<Figure size 1200x800 with 2 Axes>"
      ]
     },
     "metadata": {},
     "output_type": "display_data"
    }
   ],
   "source": [
    "selected_columns = ['post', 'homicide', 'robbery', 'larceny', \n",
    "                    'assault', 'burglary', 'murder', 'unemployrt','l_exp_pubwelfare' ,'l_police','l_income',\n",
    "                    'poverty', 'blackm_15_24', 'whitem_15_24']\n",
    "\n",
    "#Plot correlation heatmap\n",
    "\n",
    "selected = df[selected_columns]\n",
    "\n",
    "# Calculate the correlation matrix\n",
    "correlation_matrix = selected.corr()\n",
    "\n",
    "# Plot the heatmap\n",
    "plt.figure(figsize=(12, 8))\n",
    "sns.heatmap(correlation_matrix, annot=True, cmap='coolwarm', linewidths=0.5, fmt='.2f')\n",
    "plt.title('Correlation Heatmap of Selected Columns')\n",
    "plt.show()"
   ]
  },
  {
   "cell_type": "markdown",
   "metadata": {},
   "source": [
    "<span style=\"color:yellow\"> Answer: </span>\n",
    "\n",
    "1. Homicide and Murder - 0.98\n",
    "This extremely high positive correlation (0.98) suggests that the variables homicide and murder are nearly interchangeable. This is expected since murder is a subset of homicides, and both represent violent crime rates.\n",
    "\n",
    "2. Robbery and Homicide - 0.69\n",
    "There is a strong positive correlation (0.69) between robbery and homicide. This suggests that states with higher robbery rates tend to have higher homicide rates. This relationship could indicate that regions experiencing more violent crimes like robbery also have high levels of lethal violence, i.e people who rob tend to kill or people who kill also rob things because as defined above robbery involves direct confrontation and intimidation. A similar corelation (0.71) follos with murder and robbery.\n",
    "3. Larceny and Burglary (0.66)\n",
    "The positive correlation (0.66) between larceny and burglary implies a significant overlap in trends between property crimes. States with high rates of burglary also tend to report high rates of larceny. Both crimes involve theft, which could indicate similar socioeconomic or enforcement factors influencing their rates.\n",
    "\n",
    "4. L_income and Poverty (-0.84)\n",
    "There is a strong negative correlation (-0.84) between l_income (logged income) and poverty. This is expected as higher income levels generally correlate with lower poverty rates. It highlights the economic disparity and suggests that regions with higher average incomes have lower rates of poverty\n",
    "\n",
    "5. homicide and assault 0.67\n",
    "The correlation between homicide and assault is 0.67, indicating a strong positive relationship. This makes sense because assault often involves the use of physical force or weapons, which can escalate into more severe violent crimes like homicide. High rates of assault could signal higher overall levels of violent behavior in a state, which may contribute to higher homicide rates as well. "
   ]
  },
  {
   "cell_type": "markdown",
   "metadata": {},
   "source": [
    "## **Analyzing the Impact of Castle Doctrine Laws on Homicide Rates**\n",
    "\n",
    "We set out to analyze the impact of Castle Doctrine laws on homicide rates across different states in the United States. This investigation is particularly intriguing as it delves into the delicate balance between individual self-defense rights and broader public safety concerns. By examining whether the implementation of these laws correlates with changes in homicide rates, we aim to uncover insights that could inform policymakers and the community. However, we remain cautious, fully aware of the complexities involved in isolating the law's effect amidst a myriad of confounding factors. Despite these challenges, our analysis strives to navigate these intricacies to shed light on the implications of Castle Doctrine legislation."
   ]
  },
  {
   "cell_type": "markdown",
   "metadata": {},
   "source": [
    "**Question 2.1**:\n",
    "\n",
    "Estimate the average treatment effect on **Homicide** before and after the doctrine was implemented using the **post** attribute in your dataset, without conditioning on any variable. Do you see any issues with this? Store your answe in the `ATE` variable"
   ]
  },
  {
   "cell_type": "code",
   "execution_count": 6,
   "metadata": {},
   "outputs": [],
   "source": [
    "# copied from above \n",
    "# A binary indicator where `1` signifies the post-treatment period (after the implementation of Castle Doctrine laws) \n",
    "# and `0` denotes the pre-treatment period.   "
   ]
  },
  {
   "cell_type": "code",
   "execution_count": 7,
   "metadata": {},
   "outputs": [],
   "source": [
    "\n",
    "ATE = df[df['post'] == 1]['homicide'].mean() - df[df['post'] == 0]['homicide'].mean()"
   ]
  },
  {
   "cell_type": "code",
   "execution_count": 8,
   "metadata": {},
   "outputs": [
    {
     "data": {
      "text/html": [
       "<p><strong><pre style='display: inline;'>test_q2_1</pre></strong> passed! 🚀</p>"
      ],
      "text/plain": [
       "test_q2_1 results: All test cases passed!"
      ]
     },
     "execution_count": 8,
     "metadata": {},
     "output_type": "execute_result"
    }
   ],
   "source": [
    "grader.check('test_q2_1')"
   ]
  },
  {
   "cell_type": "markdown",
   "metadata": {},
   "source": [
    "**Question 2.2:** In case we were to assume this approach to capture the true causal effect is valid, test whether the difference in homicide rates in the instances of states where the doctrine was adopted is significant at a 5% significane level?\n",
    "\n",
    "a) Calculate the p-value for the treatment and store it in `p_value`. \n",
    "\n",
    "b) Comment on the statistical significance of your result. What does this p-value say about homicide rates and the impact of the castle doctrine based on our assumptions? Clearly state your null and alternative hypotheses. Should you reject the null hypothesis?\n",
    "\n",
    "**Note:** \n",
    "- Since we don't have an equal number of instances for the treatment and control, you have to sample the **latest** 50 instances from each set.\n",
    "- You need to use an independent samples t-test, where your test statistic is the difference in means of the two groups.\n",
    "- You need to assume variances of the two populations are not equal.\n",
    "- You can use scipy for this part.\n",
    "\n",
    "You can refer to this for further guidance, if needed: https://docs.scipy.org/doc/scipy/reference/generated/scipy.stats.ttest_ind.html."
   ]
  },
  {
   "cell_type": "code",
   "execution_count": 9,
   "metadata": {},
   "outputs": [],
   "source": [
    "control_sample = df[df['post'] == 0]['homicide'].tail(50)\n",
    "treatment_sample = df[df['post'] == 1]['homicide'].tail(50)"
   ]
  },
  {
   "cell_type": "code",
   "execution_count": 10,
   "metadata": {},
   "outputs": [
    {
     "data": {
      "text/plain": [
       "9.195806210348483e-08"
      ]
     },
     "execution_count": 10,
     "metadata": {},
     "output_type": "execute_result"
    }
   ],
   "source": [
    "t_stat, p_value = sc.stats.ttest_ind(control_sample, treatment_sample, equal_var=False)\n",
    "p_value"
   ]
  },
  {
   "cell_type": "code",
   "execution_count": 11,
   "metadata": {},
   "outputs": [
    {
     "data": {
      "text/html": [
       "<p><strong><pre style='display: inline;'>test_q2_2</pre></strong> passed! ✨</p>"
      ],
      "text/plain": [
       "test_q2_2 results: All test cases passed!"
      ]
     },
     "execution_count": 11,
     "metadata": {},
     "output_type": "execute_result"
    }
   ],
   "source": [
    "grader.check('test_q2_2')"
   ]
  },
  {
   "cell_type": "markdown",
   "metadata": {},
   "source": [
    "\n",
    "\n",
    "<span style=\"color:yellow\"> Answer: </span>\n",
    "H0 (null) = There is no difference in the mean homicide rates between states that adopted the Castle Doctrine and those that did not.\n",
    "\n",
    "H1 (alternative) = There is a significant difference in the mean homicide rates between states that adopted the Castle Doctrine and those that did not.\n",
    "\n",
    "As p-value is less than 0.05, we reject the null hypothesis indicating that the difference in homicide rates between treated and control states is statistically significant."
   ]
  },
  {
   "cell_type": "markdown",
   "metadata": {},
   "source": [
    "**Question 3**:\n",
    "\n",
    "a) Since our dataset comprises of data from many states, we aim to calculate the ATE across every state separately. \n",
    "\n",
    "-   Using only the states that eventually do implement the doctrine at some stage, \n",
    "-   Populate a **dataframe** containing the columns **sid**, **Pre_Treatment_Avg_Homicide**,**Post_Treatment_Avg_Homicide**, and **ATE_Homicide** to observe how the ATE for these states varies before and after they implement the doctrine. \n",
    "-   The dataframe must be sorted by the **sid**.\n",
    "-   Store it in the `DF_CATE_STATE` variable \n",
    "\n",
    "b) Report the CATE. Store it in the `CATE` variable.\n",
    "\n",
    "b) Do you observe any evidence for the **Simpson's Paradox** for any individual state? If so, why do you think this might be the case?"
   ]
  },
  {
   "cell_type": "code",
   "execution_count": 12,
   "metadata": {},
   "outputs": [],
   "source": [
    "states_with_doctrine = df[df['post'] == 1]['sid'].unique()\n",
    "filtered_df = df[df['sid'].isin(states_with_doctrine)]"
   ]
  },
  {
   "cell_type": "code",
   "execution_count": 13,
   "metadata": {},
   "outputs": [],
   "source": [
    "DF_CATE_STATE = pd.DataFrame(columns=['sid','Pre_Treatment_Avg_Homicide','Post_Treatment_Avg_Homicide','ATE_Homicide'])\n",
    "\n",
    "\n"
   ]
  },
  {
   "cell_type": "code",
   "execution_count": 14,
   "metadata": {},
   "outputs": [
    {
     "name": "stdout",
     "output_type": "stream",
     "text": [
      "     sid  Pre_Treatment_Avg_Homicide  Post_Treatment_Avg_Homicide  \\\n",
      "0    1.0                    7.461809                     7.239657   \n",
      "1    2.0                    5.490787                     4.528263   \n",
      "2    3.0                    7.665295                     7.133347   \n",
      "3   10.0                    5.506912                     6.041792   \n",
      "4   11.0                    7.240239                     6.608315   \n",
      "5   15.0                    5.911693                     5.035126   \n",
      "6   17.0                    4.383397                     4.012131   \n",
      "7   18.0                    4.794723                     4.652908   \n",
      "8   19.0                   12.569534                    12.583059   \n",
      "9   23.0                    6.716056                     6.002740   \n",
      "10  25.0                    8.888911                     7.176285   \n",
      "11  26.0                    6.315173                     7.121179   \n",
      "12  27.0                    2.944258                     2.642913   \n",
      "13  35.0                    1.352911                     1.386991   \n",
      "14  36.0                    4.583821                     4.353694   \n",
      "15  37.0                    5.510655                     5.960620   \n",
      "16  41.0                    7.720881                     7.097260   \n",
      "17  42.0                    1.886030                     3.799240   \n",
      "18  43.0                    7.076934                     6.655962   \n",
      "19  44.0                    6.220406                     5.455810   \n",
      "20  49.0                    3.620422                     3.996722   \n",
      "\n",
      "    ATE_Homicide  \n",
      "0      -0.222152  \n",
      "1      -0.962524  \n",
      "2      -0.531949  \n",
      "3       0.534881  \n",
      "4      -0.631924  \n",
      "5      -0.876567  \n",
      "6      -0.371267  \n",
      "7      -0.141815  \n",
      "8       0.013525  \n",
      "9      -0.713317  \n",
      "10     -1.712626  \n",
      "11      0.806006  \n",
      "12     -0.301345  \n",
      "13      0.034080  \n",
      "14     -0.230128  \n",
      "15      0.449966  \n",
      "16     -0.623622  \n",
      "17      1.913210  \n",
      "18     -0.420971  \n",
      "19     -0.764596  \n",
      "20      0.376300  \n"
     ]
    }
   ],
   "source": [
    "# Calculate the ATE for each state\n",
    "for state in sorted(states_with_doctrine):\n",
    "    state_data = filtered_df[filtered_df['sid'] == state]\n",
    "    \n",
    "    # Calculate Pre-Treatment and Post-Treatment average homicide rates\n",
    "    pre_treatment_avg = state_data[state_data['post'] == 0]['homicide'].mean()\n",
    "    post_treatment_avg = state_data[state_data['post'] == 1]['homicide'].mean()\n",
    "    \n",
    "    # Calculate the ATE for homicide\n",
    "    ate_homicide = post_treatment_avg - pre_treatment_avg\n",
    "    \n",
    "    DF_CATE_STATE.loc[len(DF_CATE_STATE)] = [\n",
    "    state,                # 'sid': state\n",
    "    pre_treatment_avg,    # 'Pre_Treatment_Avg_Homicide': pre_treatment_avg\n",
    "    post_treatment_avg,   # 'Post_Treatment_Avg_Homicide': post_treatment_avg\n",
    "    ate_homicide          # 'ATE_Homicide': ate_homicide\n",
    "]\n",
    "\n",
    "# Sort the DataFrame by 'sid'\n",
    "DF_CATE_STATE = DF_CATE_STATE.sort_values(by='sid').reset_index(drop=True)\n",
    "\n",
    "# Store the result\n",
    "print(DF_CATE_STATE)\n"
   ]
  },
  {
   "cell_type": "code",
   "execution_count": 15,
   "metadata": {},
   "outputs": [
    {
     "name": "stderr",
     "output_type": "stream",
     "text": [
      "C:\\Users\\sehar\\AppData\\Local\\Temp\\ipykernel_17448\\1441313579.py:2: FutureWarning: Series.__getitem__ treating keys as positions is deprecated. In a future version, integer keys will always be treated as labels (consistent with DataFrame behavior). To access a value by position, use `ser.iloc[pos]`\n",
      "  CATE = CATE[3]\n"
     ]
    },
    {
     "data": {
      "text/plain": [
       "-0.20842067520786078"
      ]
     },
     "execution_count": 15,
     "metadata": {},
     "output_type": "execute_result"
    }
   ],
   "source": [
    "CATE = DF_CATE_STATE.mean()\n",
    "CATE = CATE[3]\n",
    "CATE\n"
   ]
  },
  {
   "cell_type": "markdown",
   "metadata": {},
   "source": [
    "<span style=\"color:yellow\"> Answer: </span>\n",
    "for eg States 34 and 35 have positive ATE values, indicating an increase in homicide rates after the doctrine was implemented.This could be a case of Simpson's Paradox because, when aggregated, the combined data suggests a reduction in homicide rates (negative CATE). Yet, there are several individual states where the doctrine appears to have increased homicide rates. This contradiction indicates that the trend for individual states does not align with the overall trend when the data is aggregated.\n",
    "\n",
    "This might be happening because are not taking account of time. Some states may have implemented the doctrine earlier than others, and external factors (e.g., changes in law enforcement strategies or economic conditions) could be influencing the results.\n"
   ]
  },
  {
   "cell_type": "code",
   "execution_count": 16,
   "metadata": {},
   "outputs": [
    {
     "data": {
      "text/html": [
       "<div>\n",
       "<style scoped>\n",
       "    .dataframe tbody tr th:only-of-type {\n",
       "        vertical-align: middle;\n",
       "    }\n",
       "\n",
       "    .dataframe tbody tr th {\n",
       "        vertical-align: top;\n",
       "    }\n",
       "\n",
       "    .dataframe thead th {\n",
       "        text-align: right;\n",
       "    }\n",
       "</style>\n",
       "<table border=\"1\" class=\"dataframe\">\n",
       "  <thead>\n",
       "    <tr style=\"text-align: right;\">\n",
       "      <th></th>\n",
       "      <th>sid</th>\n",
       "      <th>Pre_Treatment_Avg_Homicide</th>\n",
       "      <th>Post_Treatment_Avg_Homicide</th>\n",
       "      <th>ATE_Homicide</th>\n",
       "    </tr>\n",
       "  </thead>\n",
       "  <tbody>\n",
       "    <tr>\n",
       "      <th>13</th>\n",
       "      <td>35.0</td>\n",
       "      <td>1.352911</td>\n",
       "      <td>1.386991</td>\n",
       "      <td>0.034080</td>\n",
       "    </tr>\n",
       "    <tr>\n",
       "      <th>14</th>\n",
       "      <td>36.0</td>\n",
       "      <td>4.583821</td>\n",
       "      <td>4.353694</td>\n",
       "      <td>-0.230128</td>\n",
       "    </tr>\n",
       "    <tr>\n",
       "      <th>15</th>\n",
       "      <td>37.0</td>\n",
       "      <td>5.510655</td>\n",
       "      <td>5.960620</td>\n",
       "      <td>0.449966</td>\n",
       "    </tr>\n",
       "    <tr>\n",
       "      <th>16</th>\n",
       "      <td>41.0</td>\n",
       "      <td>7.720881</td>\n",
       "      <td>7.097260</td>\n",
       "      <td>-0.623622</td>\n",
       "    </tr>\n",
       "    <tr>\n",
       "      <th>17</th>\n",
       "      <td>42.0</td>\n",
       "      <td>1.886030</td>\n",
       "      <td>3.799240</td>\n",
       "      <td>1.913210</td>\n",
       "    </tr>\n",
       "    <tr>\n",
       "      <th>18</th>\n",
       "      <td>43.0</td>\n",
       "      <td>7.076934</td>\n",
       "      <td>6.655962</td>\n",
       "      <td>-0.420971</td>\n",
       "    </tr>\n",
       "    <tr>\n",
       "      <th>19</th>\n",
       "      <td>44.0</td>\n",
       "      <td>6.220406</td>\n",
       "      <td>5.455810</td>\n",
       "      <td>-0.764596</td>\n",
       "    </tr>\n",
       "    <tr>\n",
       "      <th>20</th>\n",
       "      <td>49.0</td>\n",
       "      <td>3.620422</td>\n",
       "      <td>3.996722</td>\n",
       "      <td>0.376300</td>\n",
       "    </tr>\n",
       "  </tbody>\n",
       "</table>\n",
       "</div>"
      ],
      "text/plain": [
       "     sid  Pre_Treatment_Avg_Homicide  Post_Treatment_Avg_Homicide  \\\n",
       "13  35.0                    1.352911                     1.386991   \n",
       "14  36.0                    4.583821                     4.353694   \n",
       "15  37.0                    5.510655                     5.960620   \n",
       "16  41.0                    7.720881                     7.097260   \n",
       "17  42.0                    1.886030                     3.799240   \n",
       "18  43.0                    7.076934                     6.655962   \n",
       "19  44.0                    6.220406                     5.455810   \n",
       "20  49.0                    3.620422                     3.996722   \n",
       "\n",
       "    ATE_Homicide  \n",
       "13      0.034080  \n",
       "14     -0.230128  \n",
       "15      0.449966  \n",
       "16     -0.623622  \n",
       "17      1.913210  \n",
       "18     -0.420971  \n",
       "19     -0.764596  \n",
       "20      0.376300  "
      ]
     },
     "execution_count": 16,
     "metadata": {},
     "output_type": "execute_result"
    }
   ],
   "source": [
    "DF_CATE_STATE.tail(8)"
   ]
  },
  {
   "cell_type": "code",
   "execution_count": 17,
   "metadata": {},
   "outputs": [
    {
     "data": {
      "text/html": [
       "<p><strong><pre style='display: inline;'>test_q3a</pre></strong> passed! ✨</p>"
      ],
      "text/plain": [
       "test_q3a results: All test cases passed!"
      ]
     },
     "execution_count": 17,
     "metadata": {},
     "output_type": "execute_result"
    }
   ],
   "source": [
    "grader.check('test_q3a')"
   ]
  },
  {
   "cell_type": "code",
   "execution_count": 18,
   "metadata": {},
   "outputs": [
    {
     "data": {
      "text/html": [
       "<p><strong><pre style='display: inline;'>test_q3b</pre></strong> passed! ✨</p>"
      ],
      "text/plain": [
       "test_q3b results: All test cases passed!"
      ]
     },
     "execution_count": 18,
     "metadata": {},
     "output_type": "execute_result"
    }
   ],
   "source": [
    "grader.check('test_q3b')"
   ]
  },
  {
   "cell_type": "markdown",
   "metadata": {},
   "source": [
    "**Question 4**:\n",
    "\n",
    "So far, we have assumed that the trends in a single state won't vary across time, which might be an issue. Since the Castle Doctrine only begins to be implemented across states after 2006, we can assume restrict to our analysis to the year 2005 for pre-implementation, and 2010, for post-implementation of the Castle Doctrine. Repeat the experiment performed in the last question, but by controlling for time.\n",
    "\n",
    "**a)**\n",
    "-   Basing your analysis only on states that have implemented the doctrine in 2010,\n",
    "-   Find the ATE for those states in 2010 (i.e. post treatment group) and 2005 (i.e. pre treatment group),\n",
    "-   Populate a **dataframe** containing the columns **sid**, **Pre_Treatment_Avg_Homicide**,**Post_Treatment_Avg_Homicide**, and **ATE_Homicide** ,\n",
    "-   Sort your dataframe using the **sid** column\n",
    "-   Store it in the variable `DF_CATE_YEAR_STATE`\n",
    "\n",
    "**b)**  Report the CATE. Store it in the variable `CATE_Y`\n",
    "\n",
    "**c)**  Do you believe this is now a true meaure of causal effect of the doctrine on homicide? State any considerable assumptions we might be making.\n"
   ]
  },
  {
   "cell_type": "code",
   "execution_count": 19,
   "metadata": {},
   "outputs": [],
   "source": [
    "filtered_df_years = filtered_df[filtered_df['year'].isin([2005, 2010])]\n",
    "\n",
    "# Step 2: Identify the states that implemented the Castle Doctrine by 2010\n",
    "states_with_doctrine_2010 = filtered_df_years[(filtered_df_years['post'] == 1) & (filtered_df_years['year'] == 2010)]['sid'].unique()"
   ]
  },
  {
   "cell_type": "code",
   "execution_count": 20,
   "metadata": {},
   "outputs": [],
   "source": [
    "DF_CATE_STATE_YEAR = pd.DataFrame(columns=['sid','Pre_Treatment_Avg_Homicide','Post_Treatment_Avg_Homicide','ATE_Homicide'])\n",
    "# CATE_Y = ?"
   ]
  },
  {
   "cell_type": "code",
   "execution_count": 21,
   "metadata": {},
   "outputs": [],
   "source": [
    "for state in sorted(states_with_doctrine_2010):\n",
    "    state_data = filtered_df_years[filtered_df_years['sid'] == state]\n",
    "    \n",
    "    # Calculate Pre-Treatment average homicide rate for 2005\n",
    "    pre_treatment_avg = state_data[state_data['year'] == 2005]['homicide'].mean()\n",
    "    \n",
    "    # Calculate Post-Treatment average homicide rate for 2010\n",
    "    post_treatment_avg = state_data[state_data['year'] == 2010]['homicide'].mean()\n",
    "    \n",
    "    # Calculate the ATE for homicide\n",
    "    ate_homicide = post_treatment_avg - pre_treatment_avg\n",
    "    \n",
    "    # Add the results to the DataFrame\n",
    "    DF_CATE_STATE_YEAR.loc[len(DF_CATE_STATE_YEAR)] = [\n",
    "        state,                # 'sid': state\n",
    "        pre_treatment_avg,    # 'Pre_Treatment_Avg_Homicide'\n",
    "        post_treatment_avg,   # 'Post_Treatment_Avg_Homicide'\n",
    "        ate_homicide          # 'ATE_Homicide'\n",
    "    ]"
   ]
  },
  {
   "cell_type": "code",
   "execution_count": 22,
   "metadata": {},
   "outputs": [],
   "source": [
    "DF_CATE_YEAR_STATE = DF_CATE_STATE_YEAR.sort_values(by='sid').reset_index(drop=True)\n",
    "\n",
    "# Step 6: Calculate the CATE (Conditional Average Treatment Effect) for all states in 2010\n",
    "CATE_Y = DF_CATE_YEAR_STATE['ATE_Homicide'].mean()"
   ]
  },
  {
   "cell_type": "code",
   "execution_count": 23,
   "metadata": {},
   "outputs": [
    {
     "data": {
      "text/html": [
       "<div>\n",
       "<style scoped>\n",
       "    .dataframe tbody tr th:only-of-type {\n",
       "        vertical-align: middle;\n",
       "    }\n",
       "\n",
       "    .dataframe tbody tr th {\n",
       "        vertical-align: top;\n",
       "    }\n",
       "\n",
       "    .dataframe thead th {\n",
       "        text-align: right;\n",
       "    }\n",
       "</style>\n",
       "<table border=\"1\" class=\"dataframe\">\n",
       "  <thead>\n",
       "    <tr style=\"text-align: right;\">\n",
       "      <th></th>\n",
       "      <th>sid</th>\n",
       "      <th>Pre_Treatment_Avg_Homicide</th>\n",
       "      <th>Post_Treatment_Avg_Homicide</th>\n",
       "      <th>ATE_Homicide</th>\n",
       "    </tr>\n",
       "  </thead>\n",
       "  <tbody>\n",
       "    <tr>\n",
       "      <th>0</th>\n",
       "      <td>1.0</td>\n",
       "      <td>8.418573</td>\n",
       "      <td>5.742760</td>\n",
       "      <td>-2.675813</td>\n",
       "    </tr>\n",
       "    <tr>\n",
       "      <th>1</th>\n",
       "      <td>2.0</td>\n",
       "      <td>4.986567</td>\n",
       "      <td>4.427856</td>\n",
       "      <td>-0.558711</td>\n",
       "    </tr>\n",
       "    <tr>\n",
       "      <th>2</th>\n",
       "      <td>3.0</td>\n",
       "      <td>7.633144</td>\n",
       "      <td>6.445258</td>\n",
       "      <td>-1.187886</td>\n",
       "    </tr>\n",
       "    <tr>\n",
       "      <th>3</th>\n",
       "      <td>10.0</td>\n",
       "      <td>5.079818</td>\n",
       "      <td>5.285303</td>\n",
       "      <td>0.205485</td>\n",
       "    </tr>\n",
       "    <tr>\n",
       "      <th>4</th>\n",
       "      <td>11.0</td>\n",
       "      <td>6.393730</td>\n",
       "      <td>5.804785</td>\n",
       "      <td>-0.588945</td>\n",
       "    </tr>\n",
       "    <tr>\n",
       "      <th>5</th>\n",
       "      <td>15.0</td>\n",
       "      <td>5.842414</td>\n",
       "      <td>4.521347</td>\n",
       "      <td>-1.321067</td>\n",
       "    </tr>\n",
       "    <tr>\n",
       "      <th>6</th>\n",
       "      <td>17.0</td>\n",
       "      <td>3.793262</td>\n",
       "      <td>3.529431</td>\n",
       "      <td>-0.263831</td>\n",
       "    </tr>\n",
       "    <tr>\n",
       "      <th>7</th>\n",
       "      <td>18.0</td>\n",
       "      <td>4.681379</td>\n",
       "      <td>4.330973</td>\n",
       "      <td>-0.350407</td>\n",
       "    </tr>\n",
       "    <tr>\n",
       "      <th>8</th>\n",
       "      <td>19.0</td>\n",
       "      <td>10.251161</td>\n",
       "      <td>11.357343</td>\n",
       "      <td>1.106182</td>\n",
       "    </tr>\n",
       "    <tr>\n",
       "      <th>9</th>\n",
       "      <td>23.0</td>\n",
       "      <td>6.375700</td>\n",
       "      <td>5.722250</td>\n",
       "      <td>-0.653450</td>\n",
       "    </tr>\n",
       "  </tbody>\n",
       "</table>\n",
       "</div>"
      ],
      "text/plain": [
       "    sid  Pre_Treatment_Avg_Homicide  Post_Treatment_Avg_Homicide  ATE_Homicide\n",
       "0   1.0                    8.418573                     5.742760     -2.675813\n",
       "1   2.0                    4.986567                     4.427856     -0.558711\n",
       "2   3.0                    7.633144                     6.445258     -1.187886\n",
       "3  10.0                    5.079818                     5.285303      0.205485\n",
       "4  11.0                    6.393730                     5.804785     -0.588945\n",
       "5  15.0                    5.842414                     4.521347     -1.321067\n",
       "6  17.0                    3.793262                     3.529431     -0.263831\n",
       "7  18.0                    4.681379                     4.330973     -0.350407\n",
       "8  19.0                   10.251161                    11.357343      1.106182\n",
       "9  23.0                    6.375700                     5.722250     -0.653450"
      ]
     },
     "execution_count": 23,
     "metadata": {},
     "output_type": "execute_result"
    }
   ],
   "source": [
    "DF_CATE_STATE_YEAR.head(10)"
   ]
  },
  {
   "cell_type": "code",
   "execution_count": 24,
   "metadata": {},
   "outputs": [
    {
     "name": "stdout",
     "output_type": "stream",
     "text": [
      "-0.6419749809523808\n"
     ]
    }
   ],
   "source": [
    "print(CATE_Y)"
   ]
  },
  {
   "cell_type": "code",
   "execution_count": 25,
   "metadata": {},
   "outputs": [
    {
     "data": {
      "text/html": [
       "<p><strong><pre style='display: inline;'>test_q4a</pre></strong> passed! 🍀</p>"
      ],
      "text/plain": [
       "test_q4a results: All test cases passed!"
      ]
     },
     "execution_count": 25,
     "metadata": {},
     "output_type": "execute_result"
    }
   ],
   "source": [
    "grader.check('test_q4a')"
   ]
  },
  {
   "cell_type": "code",
   "execution_count": 26,
   "metadata": {},
   "outputs": [
    {
     "data": {
      "text/html": [
       "<p><strong><pre style='display: inline;'>test_q4b</pre></strong> passed! 🙌</p>"
      ],
      "text/plain": [
       "test_q4b results: All test cases passed!"
      ]
     },
     "execution_count": 26,
     "metadata": {},
     "output_type": "execute_result"
    }
   ],
   "source": [
    "grader.check('test_q4b')"
   ]
  },
  {
   "cell_type": "markdown",
   "metadata": {},
   "source": [
    "<span style=\"color:yellow\"> Answer: </span>\n",
    "No, i dont think so. We are still making assumptions that in the absence of the Castle Doctrine, the trend in homicide rates would have been similar across states that implemented the doctrine and those that did not. If the states that adopted the doctrine had different underlying trends in homicide rates compared to states that did not adopt it, this could bias our results\n",
    "\n",
    "Moreover,we are also assuming that no other exteranl cofounding factors influenced homicide rates, which might lead to bias in results. There might have been major policy changes or external events (e.g., changes in policing, economic crises) occurred between 2005 and 2010 that could have influenced the homicide rates independently of the doctrine\n"
   ]
  },
  {
   "cell_type": "markdown",
   "metadata": {},
   "source": [
    "**Question 5**:\n",
    "\n",
    "One of the fundamental Quasi-Experimental methods of measuring the ATE is the difference in difference approach. It allows us to effectively control for both:\n",
    "\n",
    "1. **Time-Invariant Differences:** Any unobserved characteristics that do not change over time, such as cultural factors or baseline law enforcement practices.\n",
    "2. **Common Temporal Trends:** Broader trends affecting all states, like economic shifts or national policy changes.\n",
    "\n",
    "\n",
    "  Mathematically, the **Difference-in-Differences** estimator is expressed as:\n",
    "\n",
    "  $DiD = (\\overline{Y}_{\\text{Post, Treated}} - \\overline{Y}_{\\text{Pre, Treated}}) - (\\overline{Y}_{\\text{Post, Control}} - \\overline{Y}_{\\text{Pre, Control}})$.\n",
    "\n",
    "\n",
    "**a)** Plot an **overlaid line plot** of how the **mean of homicide rate** changes across time for states after and before implementing the doctrine. For reference to how your plot should look like, consult **plot.jpg** in your assignment folder.\n",
    "\n",
    "\n",
    "\n",
    "**b)**  Report the ATE estimated using the DiD formula where:\n",
    "\n",
    "-   Assume the pre-intervention period is 2005, while the post-intervention period is 2010,\n",
    "-   Given **S** defines your set of all states, your treatment group **T** consists of the states that have implemented the doctrine in **2010**, and your control group are the states **S\\T** in **2005** (i.e. the states apart from those incorporated in T)\n",
    "-   Store your result in the `DiD_homicide` variable\n",
    "\n",
    "**c)** Comment on the value of ATE obtained through DiD and the approach we used in the previous part. Which one do you believe is more robust to observing an association between homicide rates and the introdution of the Castle Doctrine?"
   ]
  },
  {
   "cell_type": "code",
   "execution_count": 27,
   "metadata": {},
   "outputs": [
    {
     "data": {
      "text/plain": [
       "Index(['Unnamed: 0', 'year', 'sid', 'post', 'homicide', 'murder', 'robbery',\n",
       "       'assault', 'burglary', 'larceny', 'l_exp_pubwelfare', 'l_police',\n",
       "       'l_income', 'unemployrt', 'poverty', 'blackm_15_24', 'whitem_15_24',\n",
       "       'popwt'],\n",
       "      dtype='object')"
      ]
     },
     "execution_count": 27,
     "metadata": {},
     "output_type": "execute_result"
    }
   ],
   "source": [
    "df.columns"
   ]
  },
  {
   "cell_type": "code",
   "execution_count": 28,
   "metadata": {},
   "outputs": [
    {
     "data": {
      "image/png": "[encoded data removed]",
      "text/plain": [
       "<Figure size 1000x600 with 1 Axes>"
      ]
     },
     "metadata": {},
     "output_type": "display_data"
    }
   ],
   "source": [
    "\n",
    "def plot_homicide_rate(data):\n",
    "    # Calculate mean homicide rates for treatment and control groups over time\n",
    "    mean_rates = data.groupby(['year', 'post'])['homicide'].mean().reset_index()\n",
    "\n",
    "    # Split the data into post and control groups\n",
    "    treated = mean_rates[mean_rates['post'] == 1]\n",
    "    control = mean_rates[mean_rates['post'] == 0]\n",
    "\n",
    "    # Plotting\n",
    "    plt.figure(figsize=(10, 6))\n",
    "    plt.plot(treated['year'], treated['homicide'], label='Treated States', marker='o', color='orange')\n",
    "    plt.plot(control['year'], control['homicide'], label='Control States', marker='o', color='lightskyblue')\n",
    "    \n",
    "    # Adding labels and legend\n",
    "    plt.title('Mean Homicide Rate Over Time (Treated vs. Control States)')\n",
    "    plt.xlabel('Year')\n",
    "    plt.ylabel('Mean Homicide Rate')\n",
    "    plt.axvline(x=2010, color='gray', linestyle='--', label='Intervention Year (2010)')\n",
    "    plt.legend()\n",
    "    plt.grid()\n",
    "    plt.show()\n",
    "    return treated,control\n",
    "    \n",
    "\n",
    "# Example usage\n",
    "treated, control = plot_homicide_rate(data=df)"
   ]
  },
  {
   "cell_type": "code",
   "execution_count": 29,
   "metadata": {},
   "outputs": [
    {
     "name": "stdout",
     "output_type": "stream",
     "text": [
      "DiD: 0.131\n"
     ]
    }
   ],
   "source": [
    "\n",
    "\n",
    "def calculate_did(data, col):\n",
    "    # Define pre and post periods\n",
    "    pre_period = 2005\n",
    "    post_period = 2010\n",
    "\n",
    "    # Create treatment and control groups\n",
    "    treated = data[(data['post'] == 1) & (data['year'] == post_period)]['sid'].unique()\n",
    "    control = data[~data['sid'].isin(treated)]['sid'].unique()\n",
    "\n",
    "    # Calculate mean homicide rates for each group and period\n",
    "    mean_pre_treated = data[(data['sid'].isin(treated)) & (data['year'] == pre_period)][col].mean()\n",
    "    mean_post_treated = data[(data['sid'].isin(treated)) & (data['year'] == post_period)][col].mean()\n",
    "\n",
    "    mean_pre_control = data[(data['sid'].isin(control)) & (data['year'] == pre_period)][col].mean()\n",
    "    mean_post_control = data[(data['sid'].isin(control)) & (data['year'] == post_period)][col].mean()\n",
    "\n",
    "    # Calculate the Difference-in-Differences estimate\n",
    "    DiD = (mean_post_treated - mean_pre_treated) - (mean_post_control - mean_pre_control)\n",
    "\n",
    "    return DiD\n",
    "\n",
    "\n",
    "DiD_homicide = calculate_did(data=df, col ='homicide')\n",
    "print(f\"DiD: {DiD_homicide:.3f}\")\n"
   ]
  },
  {
   "cell_type": "code",
   "execution_count": 30,
   "metadata": {},
   "outputs": [
    {
     "data": {
      "text/html": [
       "<p><strong><pre style='display: inline;'>test_q5</pre></strong> passed! 🎉</p>"
      ],
      "text/plain": [
       "test_q5 results: All test cases passed!"
      ]
     },
     "execution_count": 30,
     "metadata": {},
     "output_type": "execute_result"
    }
   ],
   "source": [
    "grader.check('test_q5')"
   ]
  },
  {
   "cell_type": "markdown",
   "metadata": {},
   "source": [
    "<span style=\"color:yellow\"> Answer: </span>\n",
    "In the previous question, the ATE estimated using the comparison of 2005 and 2010 directly showed a negative effect\n",
    "−0.642 suggesting a reduction in homicide rates after the implementation of the Castle Doctrine. This analysis, however, did not account for broader temporal trends or unobserved characteristics that could differ between treated and control states.\n",
    "\n",
    "The DiD method accounts for time-invariant differences between the treated and control states, as well as common temporal trends (e.g., national economic shifts), whic is why it is more robust. By differencing the changes in homicide rates, DiD helps control for confounding factors that might affect both treated and control states similarly, which the previous method could not account for.\n",
    "The resulting DiD estimate 0.131 suggests a different association — an increase in homicide rates, rather than a decrease.\n",
    "\n"
   ]
  },
  {
   "cell_type": "markdown",
   "metadata": {},
   "source": [
    "**Question 6:**\n",
    "\n",
    "We generally hypothesize that the implementation of Castle Doctrine laws would lead to a decrease in violent crime rates, as these laws are intended to deter criminal activity by empowering individuals to defend themselves. To test this expectation, calculate the **Difference-in-Differences (DiD)** estimates for the following crime categories:\n",
    "\n",
    "- **Murder**\n",
    "- **Robbery**\n",
    "- **Larceny**\n",
    "- **Assault**\n",
    "\n",
    "Using the same DiD formula as previously defined, perform the calculations for each of these crime types to assess whether the implementation of Castle Doctrine laws is associated with a significant change in their respective rates.\n",
    "\n",
    "\n",
    "**Instructions:**\n",
    "\n",
    "a) **Report the DiD Estimates:**\n",
    "-  For each of the following crime categories (murder, robbery, larceny, assault), compute the DiD estimate using the approach used for homicide. Store your results in `DiD_robbery`, `DiD_larceny`, `DiD_assault`, and `DiD_murder` variables.\n",
    "\n",
    "b) **Interpret the Results:**\n",
    "   - Analyze whether the DiD estimates indicate a decrease in crime rates consistent with our intuition, and briefly discuss any discrepancies. Would you suggest implementing the law?\n"
   ]
  },
  {
   "cell_type": "code",
   "execution_count": 31,
   "metadata": {},
   "outputs": [],
   "source": [
    "DiD_robbery = calculate_did(data=df, col ='robbery')\n",
    "DiD_larceny = calculate_did(data=df, col ='larceny')\n",
    "DiD_assault = calculate_did(data=df, col ='assault')\n",
    "DiD_murder = calculate_did(data=df, col ='murder')"
   ]
  },
  {
   "cell_type": "code",
   "execution_count": 32,
   "metadata": {},
   "outputs": [
    {
     "name": "stdout",
     "output_type": "stream",
     "text": [
      "Difference-in-Differences (DiD) Estimate for Robbery: -2.583\n",
      "Difference-in-Differences (DiD) Estimate for Larceny: -0.679\n",
      "Difference-in-Differences (DiD) Estimate for Assault: -4.631\n",
      "Difference-in-Differences (DiD) Estimate for Murder: 0.156\n"
     ]
    }
   ],
   "source": [
    "\n",
    "print(f\"Difference-in-Differences (DiD) Estimate for Robbery: {DiD_robbery:.3f}\")\n",
    "print(f\"Difference-in-Differences (DiD) Estimate for Larceny: {DiD_larceny:.3f}\")\n",
    "print(f\"Difference-in-Differences (DiD) Estimate for Assault: {DiD_assault:.3f}\")\n",
    "print(f\"Difference-in-Differences (DiD) Estimate for Murder: {DiD_murder:.3f}\")\n"
   ]
  },
  {
   "cell_type": "code",
   "execution_count": 33,
   "metadata": {},
   "outputs": [
    {
     "data": {
      "text/html": [
       "<p><strong><pre style='display: inline;'>test_q6</pre></strong> passed! 🌟</p>"
      ],
      "text/plain": [
       "test_q6 results: All test cases passed!"
      ]
     },
     "execution_count": 33,
     "metadata": {},
     "output_type": "execute_result"
    }
   ],
   "source": [
    "grader.check('test_q6')"
   ]
  },
  {
   "cell_type": "markdown",
   "metadata": {},
   "source": [
    "<span style=\"color:yellow\"> Answer: </span>\n",
    "(DiD) estimates for various crime categories show mixed results regarding the effectiveness of the Castle Doctrine. Robbery and larceny rates both decreased post-implementation, with robbery seeing a more substantial decline, suggesting the doctrine may deter crimes involving higher confrontation risks. Assault rates also dropped significantly, indicating the doctrine might reduce violent encounters. However, the slight increase in murder rates raises concerns, as it could reflect the unintended consequence of escalating confrontations to deadly levels. While the Castle Doctrine seems effective in reducing certain crimes, it is not effective on murder and homicide. The policy could be implemented to reduce robbery,assault and larceny but homicide and murder may require another treatment/law/policy\n",
    "\n",
    "\n"
   ]
  },
  {
   "cell_type": "markdown",
   "metadata": {},
   "source": [
    "### **Lastly, just before we leave - let's test out another Quasi-Experimental Method of exploring causal relationships: *Multivariate Regression*!**\n",
    "\n",
    "**Good News: Understanding that the workload at this stage of the semester is statistically significant, I’ve gone ahead and provided the code you’ll need to perform this regression 😊.**\n",
    "\n",
    "Multivariate regression will help us understand whether the Castle Doctrine law truly impacts homicide rates, by isolating the effect of the law from several other covariates e.g. economic and policy influences.\n",
    "\n",
    "### **Background**\n",
    "\n",
    "In this model, we include **multiple control variables** such as economic indicators (e.g., unemployment rate, poverty rate) and policy-related factors (e.g., police presence in a state) to account for their potential influence on homicide rates. This allows us to **better isolate the causal impact** of the Castle Doctrine law. Here’s the general form of the regression model for this case based on literature:\n",
    "\n",
    "**$\\text{Outcome}_{it} = \\beta_0 + \\beta_1 \\times \\text{CDL}_{it} + \\beta_2 \\times X_{it} + \\alpha_i + \\lambda_t + \\epsilon_{it}$**\n",
    "\n",
    "where:\n",
    "- $\\text{Outcome}_{it}$: the crime outcome variable, in this case the homicide rate, for state $i$ at time $t$.\n",
    "- $\\text{CDL}_{it}$: the treatment variable, representing the Castle Doctrine law (set to 1 if the law is in effect in state $i$ during time $t$; 0 otherwise).\n",
    "- $X_{it}$: a vector of control variables, such as unemployment rate, poverty rate, logged income, police presence, and welfare spending.\n",
    "- $\\alpha_i$: state fixed effects to control for differences across states that do not change over time.\n",
    "- $\\lambda_t$: year fixed effects to control for national trends that affect all states equally in each year.\n",
    "- $\\epsilon_{it}$: error term.\n",
    "\n",
    "### **Objective**\n",
    "\n",
    "By running this regression, we aim to isolate the effect of the Castle Doctrine law on homicide rates, holding all other factors constant. This approach is more robust than simpler comparisons, as it **controls for multiple potential confounding factors** and focuses on within-state changes over time, not just across states.\n",
    "\n",
    "### **Question and Instructions**\n",
    "\n",
    "1. **Run the Provided Code:** Execute the code provided to run this multivariate regression model on the dataset.\n",
    "\n",
    "2. **Interpret the Results**: Based on the output:\n",
    "\n",
    "    **a) Examine the coefficient for `post` (our treatment variable) to determine the effect of the Castle Doctrine law on homicide rates. How does it compare with our earlier estimate using the DiD approach?**   \n",
    "\n",
    "    **b) Is the coefficient for `post` statistically significant at the 5% level? What does this tell you about the impact of the law on homicide rates?**\n",
    "\n",
    "    **c) How do the control variables of unemployment rate, poverty, and police presence impact our outcome variable?**\n",
    "\n",
    "    **d) Could there still be any limitations with the approach that we've used? **Hint**: Does the OLS model we are using for regression necessarily capture the underlying distribution?**\n",
    "\n",
    "---\n",
    "\n",
    "By completing this section, you'll gain insight into how multivariate regression helps isolate causal effects by controlling for multiple influences in a single model, giving you a deeper understanding of the policy's true impact on crime outcomes.\n",
    "\n"
   ]
  },
  {
   "cell_type": "code",
   "execution_count": 34,
   "metadata": {},
   "outputs": [
    {
     "name": "stdout",
     "output_type": "stream",
     "text": [
      "Defaulting to user installation because normal site-packages is not writeable\n",
      "Requirement already satisfied: statsmodels in c:\\users\\sehar\\appdata\\roaming\\python\\python312\\site-packages (0.14.4)\n",
      "Requirement already satisfied: numpy<3,>=1.22.3 in c:\\users\\sehar\\appdata\\roaming\\python\\python312\\site-packages (from statsmodels) (1.26.2)\n",
      "Requirement already satisfied: scipy!=1.9.2,>=1.8 in c:\\program files\\python312\\lib\\site-packages (from statsmodels) (1.12.0)\n",
      "Requirement already satisfied: pandas!=2.1.0,>=1.4 in c:\\users\\sehar\\appdata\\roaming\\python\\python312\\site-packages (from statsmodels) (2.1.3)\n",
      "Requirement already satisfied: patsy>=0.5.6 in c:\\users\\sehar\\appdata\\roaming\\python\\python312\\site-packages (from statsmodels) (1.0.1)\n",
      "Requirement already satisfied: packaging>=21.3 in c:\\users\\sehar\\appdata\\roaming\\python\\python312\\site-packages (from statsmodels) (23.2)\n",
      "Requirement already satisfied: python-dateutil>=2.8.2 in c:\\users\\sehar\\appdata\\roaming\\python\\python312\\site-packages (from pandas!=2.1.0,>=1.4->statsmodels) (2.8.2)\n",
      "Requirement already satisfied: pytz>=2020.1 in c:\\users\\sehar\\appdata\\roaming\\python\\python312\\site-packages (from pandas!=2.1.0,>=1.4->statsmodels) (2023.3.post1)\n",
      "Requirement already satisfied: tzdata>=2022.1 in c:\\users\\sehar\\appdata\\roaming\\python\\python312\\site-packages (from pandas!=2.1.0,>=1.4->statsmodels) (2023.3)\n",
      "Requirement already satisfied: six>=1.5 in c:\\users\\sehar\\appdata\\roaming\\python\\python312\\site-packages (from python-dateutil>=2.8.2->pandas!=2.1.0,>=1.4->statsmodels) (1.16.0)\n"
     ]
    },
    {
     "name": "stderr",
     "output_type": "stream",
     "text": [
      "\n",
      "[notice] A new release of pip is available: 24.0 -> 24.3.1\n",
      "[notice] To update, run: python.exe -m pip install --upgrade pip\n"
     ]
    }
   ],
   "source": [
    "!pip install statsmodels"
   ]
  },
  {
   "cell_type": "code",
   "execution_count": 35,
   "metadata": {},
   "outputs": [
    {
     "name": "stderr",
     "output_type": "stream",
     "text": [
      "C:\\Users\\sehar\\AppData\\Roaming\\Python\\Python312\\site-packages\\statsmodels\\base\\model.py:1894: ValueWarning: covariance of constraints does not have full rank. The number of constraints is 65, but rank is 16\n",
      "  warnings.warn('covariance of constraints does not have full '\n"
     ]
    },
    {
     "data": {
      "text/html": [
       "<table class=\"simpletable\">\n",
       "<caption>OLS Regression Results</caption>\n",
       "<tr>\n",
       "  <th>Dep. Variable:</th>        <td>homicide</td>     <th>  R-squared:         </th> <td>   0.934</td>\n",
       "</tr>\n",
       "<tr>\n",
       "  <th>Model:</th>                   <td>OLS</td>       <th>  Adj. R-squared:    </th> <td>   0.925</td>\n",
       "</tr>\n",
       "<tr>\n",
       "  <th>Method:</th>             <td>Least Squares</td>  <th>  F-statistic:       </th> <td>   265.6</td>\n",
       "</tr>\n",
       "<tr>\n",
       "  <th>Date:</th>             <td>Sun, 17 Nov 2024</td> <th>  Prob (F-statistic):</th> <td>6.82e-42</td>\n",
       "</tr>\n",
       "<tr>\n",
       "  <th>Time:</th>                 <td>18:40:16</td>     <th>  Log-Likelihood:    </th> <td> -533.33</td>\n",
       "</tr>\n",
       "<tr>\n",
       "  <th>No. Observations:</th>      <td>   550</td>      <th>  AIC:               </th> <td>   1199.</td>\n",
       "</tr>\n",
       "<tr>\n",
       "  <th>Df Residuals:</th>          <td>   484</td>      <th>  BIC:               </th> <td>   1483.</td>\n",
       "</tr>\n",
       "<tr>\n",
       "  <th>Df Model:</th>              <td>    65</td>      <th>                     </th>     <td> </td>   \n",
       "</tr>\n",
       "<tr>\n",
       "  <th>Covariance Type:</th>       <td>cluster</td>     <th>                     </th>     <td> </td>   \n",
       "</tr>\n",
       "</table>\n",
       "<table class=\"simpletable\">\n",
       "<tr>\n",
       "          <td></td>            <th>coef</th>     <th>std err</th>      <th>z</th>      <th>P>|z|</th>  <th>[0.025</th>    <th>0.975]</th>  \n",
       "</tr>\n",
       "<tr>\n",
       "  <th>Intercept</th>        <td>   -2.7559</td> <td>   13.270</td> <td>   -0.208</td> <td> 0.835</td> <td>  -28.765</td> <td>   23.253</td>\n",
       "</tr>\n",
       "<tr>\n",
       "  <th>C(sid)[T.2]</th>      <td>   -2.8648</td> <td>    0.577</td> <td>   -4.961</td> <td> 0.000</td> <td>   -3.997</td> <td>   -1.733</td>\n",
       "</tr>\n",
       "<tr>\n",
       "  <th>C(sid)[T.3]</th>      <td>   -0.0666</td> <td>    0.191</td> <td>   -0.348</td> <td> 0.728</td> <td>   -0.442</td> <td>    0.309</td>\n",
       "</tr>\n",
       "<tr>\n",
       "  <th>C(sid)[T.4]</th>      <td>   -0.9296</td> <td>    0.197</td> <td>   -4.709</td> <td> 0.000</td> <td>   -1.317</td> <td>   -0.543</td>\n",
       "</tr>\n",
       "<tr>\n",
       "  <th>C(sid)[T.5]</th>      <td>   -1.2519</td> <td>    0.372</td> <td>   -3.364</td> <td> 0.001</td> <td>   -1.981</td> <td>   -0.522</td>\n",
       "</tr>\n",
       "<tr>\n",
       "  <th>C(sid)[T.6]</th>      <td>   -4.1867</td> <td>    0.530</td> <td>   -7.904</td> <td> 0.000</td> <td>   -5.225</td> <td>   -3.149</td>\n",
       "</tr>\n",
       "<tr>\n",
       "  <th>C(sid)[T.7]</th>      <td>   -4.7908</td> <td>    0.597</td> <td>   -8.027</td> <td> 0.000</td> <td>   -5.961</td> <td>   -3.621</td>\n",
       "</tr>\n",
       "<tr>\n",
       "  <th>C(sid)[T.8]</th>      <td>   -3.7973</td> <td>    0.451</td> <td>   -8.428</td> <td> 0.000</td> <td>   -4.680</td> <td>   -2.914</td>\n",
       "</tr>\n",
       "<tr>\n",
       "  <th>C(sid)[T.10]</th>     <td>   -1.8572</td> <td>    0.299</td> <td>   -6.217</td> <td> 0.000</td> <td>   -2.443</td> <td>   -1.272</td>\n",
       "</tr>\n",
       "<tr>\n",
       "  <th>C(sid)[T.11]</th>     <td>   -0.5133</td> <td>    0.208</td> <td>   -2.470</td> <td> 0.014</td> <td>   -0.921</td> <td>   -0.106</td>\n",
       "</tr>\n",
       "<tr>\n",
       "  <th>C(sid)[T.12]</th>     <td>   -5.8375</td> <td>    0.516</td> <td>  -11.320</td> <td> 0.000</td> <td>   -6.848</td> <td>   -4.827</td>\n",
       "</tr>\n",
       "<tr>\n",
       "  <th>C(sid)[T.13]</th>     <td>   -5.3651</td> <td>    0.293</td> <td>  -18.331</td> <td> 0.000</td> <td>   -5.939</td> <td>   -4.791</td>\n",
       "</tr>\n",
       "<tr>\n",
       "  <th>C(sid)[T.14]</th>     <td>   -1.1022</td> <td>    0.379</td> <td>   -2.909</td> <td> 0.004</td> <td>   -1.845</td> <td>   -0.359</td>\n",
       "</tr>\n",
       "<tr>\n",
       "  <th>C(sid)[T.15]</th>     <td>   -1.9371</td> <td>    0.348</td> <td>   -5.569</td> <td> 0.000</td> <td>   -2.619</td> <td>   -1.255</td>\n",
       "</tr>\n",
       "<tr>\n",
       "  <th>C(sid)[T.16]</th>     <td>   -6.1190</td> <td>    0.405</td> <td>  -15.115</td> <td> 0.000</td> <td>   -6.912</td> <td>   -5.325</td>\n",
       "</tr>\n",
       "<tr>\n",
       "  <th>C(sid)[T.17]</th>     <td>   -3.5177</td> <td>    0.398</td> <td>   -8.848</td> <td> 0.000</td> <td>   -4.297</td> <td>   -2.738</td>\n",
       "</tr>\n",
       "<tr>\n",
       "  <th>C(sid)[T.18]</th>     <td>   -2.4976</td> <td>    0.271</td> <td>   -9.224</td> <td> 0.000</td> <td>   -3.028</td> <td>   -1.967</td>\n",
       "</tr>\n",
       "<tr>\n",
       "  <th>C(sid)[T.19]</th>     <td>    5.2024</td> <td>    0.209</td> <td>   24.855</td> <td> 0.000</td> <td>    4.792</td> <td>    5.613</td>\n",
       "</tr>\n",
       "<tr>\n",
       "  <th>C(sid)[T.20]</th>     <td>   -6.0877</td> <td>    0.457</td> <td>  -13.321</td> <td> 0.000</td> <td>   -6.983</td> <td>   -5.192</td>\n",
       "</tr>\n",
       "<tr>\n",
       "  <th>C(sid)[T.21]</th>     <td>    0.9599</td> <td>    0.637</td> <td>    1.506</td> <td> 0.132</td> <td>   -0.289</td> <td>    2.209</td>\n",
       "</tr>\n",
       "<tr>\n",
       "  <th>C(sid)[T.22]</th>     <td>   -5.3160</td> <td>    0.495</td> <td>  -10.738</td> <td> 0.000</td> <td>   -6.286</td> <td>   -4.346</td>\n",
       "</tr>\n",
       "<tr>\n",
       "  <th>C(sid)[T.23]</th>     <td>   -0.9204</td> <td>    0.332</td> <td>   -2.769</td> <td> 0.006</td> <td>   -1.572</td> <td>   -0.269</td>\n",
       "</tr>\n",
       "<tr>\n",
       "  <th>C(sid)[T.24]</th>     <td>   -5.7067</td> <td>    0.542</td> <td>  -10.531</td> <td> 0.000</td> <td>   -6.769</td> <td>   -4.645</td>\n",
       "</tr>\n",
       "<tr>\n",
       "  <th>C(sid)[T.25]</th>     <td>    1.2338</td> <td>    0.402</td> <td>    3.066</td> <td> 0.002</td> <td>    0.445</td> <td>    2.022</td>\n",
       "</tr>\n",
       "<tr>\n",
       "  <th>C(sid)[T.26]</th>     <td>   -1.0548</td> <td>    0.260</td> <td>   -4.064</td> <td> 0.000</td> <td>   -1.564</td> <td>   -0.546</td>\n",
       "</tr>\n",
       "<tr>\n",
       "  <th>C(sid)[T.27]</th>     <td>   -4.4926</td> <td>    0.178</td> <td>  -25.198</td> <td> 0.000</td> <td>   -4.842</td> <td>   -4.143</td>\n",
       "</tr>\n",
       "<tr>\n",
       "  <th>C(sid)[T.28]</th>     <td>   -4.7644</td> <td>    0.393</td> <td>  -12.138</td> <td> 0.000</td> <td>   -5.534</td> <td>   -3.995</td>\n",
       "</tr>\n",
       "<tr>\n",
       "  <th>C(sid)[T.29]</th>     <td>    0.2027</td> <td>    0.613</td> <td>    0.331</td> <td> 0.741</td> <td>   -0.998</td> <td>    1.403</td>\n",
       "</tr>\n",
       "<tr>\n",
       "  <th>C(sid)[T.30]</th>     <td>   -6.7903</td> <td>    0.703</td> <td>   -9.662</td> <td> 0.000</td> <td>   -8.168</td> <td>   -5.413</td>\n",
       "</tr>\n",
       "<tr>\n",
       "  <th>C(sid)[T.31]</th>     <td>   -3.8306</td> <td>    0.658</td> <td>   -5.821</td> <td> 0.000</td> <td>   -5.121</td> <td>   -2.541</td>\n",
       "</tr>\n",
       "<tr>\n",
       "  <th>C(sid)[T.32]</th>     <td>    0.4913</td> <td>    0.307</td> <td>    1.599</td> <td> 0.110</td> <td>   -0.111</td> <td>    1.093</td>\n",
       "</tr>\n",
       "<tr>\n",
       "  <th>C(sid)[T.33]</th>     <td>   -3.2685</td> <td>    0.446</td> <td>   -7.333</td> <td> 0.000</td> <td>   -4.142</td> <td>   -2.395</td>\n",
       "</tr>\n",
       "<tr>\n",
       "  <th>C(sid)[T.34]</th>     <td>   -1.0630</td> <td>    0.174</td> <td>   -6.102</td> <td> 0.000</td> <td>   -1.404</td> <td>   -0.722</td>\n",
       "</tr>\n",
       "<tr>\n",
       "  <th>C(sid)[T.35]</th>     <td>   -6.4109</td> <td>    0.339</td> <td>  -18.906</td> <td> 0.000</td> <td>   -7.075</td> <td>   -5.746</td>\n",
       "</tr>\n",
       "<tr>\n",
       "  <th>C(sid)[T.36]</th>     <td>   -2.9810</td> <td>    0.311</td> <td>   -9.580</td> <td> 0.000</td> <td>   -3.591</td> <td>   -2.371</td>\n",
       "</tr>\n",
       "<tr>\n",
       "  <th>C(sid)[T.37]</th>     <td>   -1.7935</td> <td>    0.079</td> <td>  -22.693</td> <td> 0.000</td> <td>   -1.948</td> <td>   -1.639</td>\n",
       "</tr>\n",
       "<tr>\n",
       "  <th>C(sid)[T.38]</th>     <td>   -5.0209</td> <td>    0.356</td> <td>  -14.098</td> <td> 0.000</td> <td>   -5.719</td> <td>   -4.323</td>\n",
       "</tr>\n",
       "<tr>\n",
       "  <th>C(sid)[T.39]</th>     <td>   -2.0628</td> <td>    0.418</td> <td>   -4.931</td> <td> 0.000</td> <td>   -2.883</td> <td>   -1.243</td>\n",
       "</tr>\n",
       "<tr>\n",
       "  <th>C(sid)[T.40]</th>     <td>   -4.7507</td> <td>    0.437</td> <td>  -10.860</td> <td> 0.000</td> <td>   -5.608</td> <td>   -3.893</td>\n",
       "</tr>\n",
       "<tr>\n",
       "  <th>C(sid)[T.41]</th>     <td>    0.1386</td> <td>    0.150</td> <td>    0.922</td> <td> 0.356</td> <td>   -0.156</td> <td>    0.433</td>\n",
       "</tr>\n",
       "<tr>\n",
       "  <th>C(sid)[T.42]</th>     <td>   -5.0863</td> <td>    0.279</td> <td>  -18.244</td> <td> 0.000</td> <td>   -5.633</td> <td>   -4.540</td>\n",
       "</tr>\n",
       "<tr>\n",
       "  <th>C(sid)[T.43]</th>     <td>   -0.6181</td> <td>    0.219</td> <td>   -2.823</td> <td> 0.005</td> <td>   -1.047</td> <td>   -0.189</td>\n",
       "</tr>\n",
       "<tr>\n",
       "  <th>C(sid)[T.44]</th>     <td>   -1.3432</td> <td>    0.196</td> <td>   -6.860</td> <td> 0.000</td> <td>   -1.727</td> <td>   -0.959</td>\n",
       "</tr>\n",
       "<tr>\n",
       "  <th>C(sid)[T.45]</th>     <td>   -5.6203</td> <td>    0.548</td> <td>  -10.264</td> <td> 0.000</td> <td>   -6.693</td> <td>   -4.547</td>\n",
       "</tr>\n",
       "<tr>\n",
       "  <th>C(sid)[T.46]</th>     <td>   -6.0014</td> <td>    0.487</td> <td>  -12.323</td> <td> 0.000</td> <td>   -6.956</td> <td>   -5.047</td>\n",
       "</tr>\n",
       "<tr>\n",
       "  <th>C(sid)[T.47]</th>     <td>   -2.4681</td> <td>    0.594</td> <td>   -4.152</td> <td> 0.000</td> <td>   -3.633</td> <td>   -1.303</td>\n",
       "</tr>\n",
       "<tr>\n",
       "  <th>C(sid)[T.48]</th>     <td>   -4.4703</td> <td>    0.456</td> <td>   -9.801</td> <td> 0.000</td> <td>   -5.364</td> <td>   -3.576</td>\n",
       "</tr>\n",
       "<tr>\n",
       "  <th>C(sid)[T.49]</th>     <td>   -3.4077</td> <td>    0.395</td> <td>   -8.634</td> <td> 0.000</td> <td>   -4.181</td> <td>   -2.634</td>\n",
       "</tr>\n",
       "<tr>\n",
       "  <th>C(sid)[T.50]</th>     <td>   -4.6808</td> <td>    0.427</td> <td>  -10.952</td> <td> 0.000</td> <td>   -5.518</td> <td>   -3.843</td>\n",
       "</tr>\n",
       "<tr>\n",
       "  <th>C(sid)[T.51]</th>     <td>   -5.3865</td> <td>    0.425</td> <td>  -12.676</td> <td> 0.000</td> <td>   -6.219</td> <td>   -4.554</td>\n",
       "</tr>\n",
       "<tr>\n",
       "  <th>C(year)[T.2001]</th>  <td>    0.1070</td> <td>    0.154</td> <td>    0.697</td> <td> 0.486</td> <td>   -0.194</td> <td>    0.408</td>\n",
       "</tr>\n",
       "<tr>\n",
       "  <th>C(year)[T.2002]</th>  <td>    0.1311</td> <td>    0.205</td> <td>    0.639</td> <td> 0.523</td> <td>   -0.271</td> <td>    0.533</td>\n",
       "</tr>\n",
       "<tr>\n",
       "  <th>C(year)[T.2003]</th>  <td>    0.2613</td> <td>    0.241</td> <td>    1.085</td> <td> 0.278</td> <td>   -0.211</td> <td>    0.733</td>\n",
       "</tr>\n",
       "<tr>\n",
       "  <th>C(year)[T.2004]</th>  <td>    0.1122</td> <td>    0.252</td> <td>    0.445</td> <td> 0.656</td> <td>   -0.382</td> <td>    0.606</td>\n",
       "</tr>\n",
       "<tr>\n",
       "  <th>C(year)[T.2005]</th>  <td>    0.1891</td> <td>    0.283</td> <td>    0.669</td> <td> 0.503</td> <td>   -0.365</td> <td>    0.743</td>\n",
       "</tr>\n",
       "<tr>\n",
       "  <th>C(year)[T.2006]</th>  <td>    0.2481</td> <td>    0.246</td> <td>    1.010</td> <td> 0.312</td> <td>   -0.233</td> <td>    0.729</td>\n",
       "</tr>\n",
       "<tr>\n",
       "  <th>C(year)[T.2007]</th>  <td>    0.2297</td> <td>    0.220</td> <td>    1.045</td> <td> 0.296</td> <td>   -0.201</td> <td>    0.661</td>\n",
       "</tr>\n",
       "<tr>\n",
       "  <th>C(year)[T.2008]</th>  <td>    0.0568</td> <td>    0.231</td> <td>    0.246</td> <td> 0.806</td> <td>   -0.396</td> <td>    0.510</td>\n",
       "</tr>\n",
       "<tr>\n",
       "  <th>C(year)[T.2009]</th>  <td>    0.0676</td> <td>    0.414</td> <td>    0.164</td> <td> 0.870</td> <td>   -0.743</td> <td>    0.878</td>\n",
       "</tr>\n",
       "<tr>\n",
       "  <th>C(year)[T.2010]</th>  <td>   -0.2114</td> <td>    0.388</td> <td>   -0.544</td> <td> 0.586</td> <td>   -0.973</td> <td>    0.550</td>\n",
       "</tr>\n",
       "<tr>\n",
       "  <th>post</th>             <td>    0.1402</td> <td>    0.205</td> <td>    0.683</td> <td> 0.495</td> <td>   -0.262</td> <td>    0.543</td>\n",
       "</tr>\n",
       "<tr>\n",
       "  <th>unemployrt</th>       <td>   -0.0936</td> <td>    0.057</td> <td>   -1.648</td> <td> 0.099</td> <td>   -0.205</td> <td>    0.018</td>\n",
       "</tr>\n",
       "<tr>\n",
       "  <th>poverty</th>          <td>   -0.0530</td> <td>    0.073</td> <td>   -0.730</td> <td> 0.465</td> <td>   -0.195</td> <td>    0.089</td>\n",
       "</tr>\n",
       "<tr>\n",
       "  <th>l_income</th>         <td>    0.5178</td> <td>    1.279</td> <td>    0.405</td> <td> 0.686</td> <td>   -1.990</td> <td>    3.025</td>\n",
       "</tr>\n",
       "<tr>\n",
       "  <th>l_exp_pubwelfare</th> <td>    0.4114</td> <td>    0.590</td> <td>    0.697</td> <td> 0.486</td> <td>   -0.745</td> <td>    1.567</td>\n",
       "</tr>\n",
       "<tr>\n",
       "  <th>l_police</th>         <td>    0.5036</td> <td>    0.560</td> <td>    0.899</td> <td> 0.369</td> <td>   -0.595</td> <td>    1.602</td>\n",
       "</tr>\n",
       "</table>\n",
       "<table class=\"simpletable\">\n",
       "<tr>\n",
       "  <th>Omnibus:</th>       <td>15.735</td> <th>  Durbin-Watson:     </th> <td>   1.589</td>\n",
       "</tr>\n",
       "<tr>\n",
       "  <th>Prob(Omnibus):</th> <td> 0.000</td> <th>  Jarque-Bera (JB):  </th> <td>  27.849</td>\n",
       "</tr>\n",
       "<tr>\n",
       "  <th>Skew:</th>          <td> 0.166</td> <th>  Prob(JB):          </th> <td>8.97e-07</td>\n",
       "</tr>\n",
       "<tr>\n",
       "  <th>Kurtosis:</th>      <td> 4.051</td> <th>  Cond. No.          </th> <td>6.45e+03</td>\n",
       "</tr>\n",
       "</table><br/><br/>Notes:<br/>[1] Standard Errors are robust to cluster correlation (cluster)<br/>[2] The condition number is large, 6.45e+03. This might indicate that there are<br/>strong multicollinearity or other numerical problems."
      ],
      "text/latex": [
       "\\begin{center}\n",
       "\\begin{tabular}{lclc}\n",
       "\\toprule\n",
       "\\textbf{Dep. Variable:}     &     homicide     & \\textbf{  R-squared:         } &     0.934   \\\\\n",
       "\\textbf{Model:}             &       OLS        & \\textbf{  Adj. R-squared:    } &     0.925   \\\\\n",
       "\\textbf{Method:}            &  Least Squares   & \\textbf{  F-statistic:       } &     265.6   \\\\\n",
       "\\textbf{Date:}              & Sun, 17 Nov 2024 & \\textbf{  Prob (F-statistic):} &  6.82e-42   \\\\\n",
       "\\textbf{Time:}              &     18:40:16     & \\textbf{  Log-Likelihood:    } &   -533.33   \\\\\n",
       "\\textbf{No. Observations:}  &         550      & \\textbf{  AIC:               } &     1199.   \\\\\n",
       "\\textbf{Df Residuals:}      &         484      & \\textbf{  BIC:               } &     1483.   \\\\\n",
       "\\textbf{Df Model:}          &          65      & \\textbf{                     } &             \\\\\n",
       "\\textbf{Covariance Type:}   &     cluster      & \\textbf{                     } &             \\\\\n",
       "\\bottomrule\n",
       "\\end{tabular}\n",
       "\\begin{tabular}{lcccccc}\n",
       "                            & \\textbf{coef} & \\textbf{std err} & \\textbf{z} & \\textbf{P$> |$z$|$} & \\textbf{[0.025} & \\textbf{0.975]}  \\\\\n",
       "\\midrule\n",
       "\\textbf{Intercept}          &      -2.7559  &       13.270     &    -0.208  &         0.835        &      -28.765    &       23.253     \\\\\n",
       "\\textbf{C(sid)[T.2]}        &      -2.8648  &        0.577     &    -4.961  &         0.000        &       -3.997    &       -1.733     \\\\\n",
       "\\textbf{C(sid)[T.3]}        &      -0.0666  &        0.191     &    -0.348  &         0.728        &       -0.442    &        0.309     \\\\\n",
       "\\textbf{C(sid)[T.4]}        &      -0.9296  &        0.197     &    -4.709  &         0.000        &       -1.317    &       -0.543     \\\\\n",
       "\\textbf{C(sid)[T.5]}        &      -1.2519  &        0.372     &    -3.364  &         0.001        &       -1.981    &       -0.522     \\\\\n",
       "\\textbf{C(sid)[T.6]}        &      -4.1867  &        0.530     &    -7.904  &         0.000        &       -5.225    &       -3.149     \\\\\n",
       "\\textbf{C(sid)[T.7]}        &      -4.7908  &        0.597     &    -8.027  &         0.000        &       -5.961    &       -3.621     \\\\\n",
       "\\textbf{C(sid)[T.8]}        &      -3.7973  &        0.451     &    -8.428  &         0.000        &       -4.680    &       -2.914     \\\\\n",
       "\\textbf{C(sid)[T.10]}       &      -1.8572  &        0.299     &    -6.217  &         0.000        &       -2.443    &       -1.272     \\\\\n",
       "\\textbf{C(sid)[T.11]}       &      -0.5133  &        0.208     &    -2.470  &         0.014        &       -0.921    &       -0.106     \\\\\n",
       "\\textbf{C(sid)[T.12]}       &      -5.8375  &        0.516     &   -11.320  &         0.000        &       -6.848    &       -4.827     \\\\\n",
       "\\textbf{C(sid)[T.13]}       &      -5.3651  &        0.293     &   -18.331  &         0.000        &       -5.939    &       -4.791     \\\\\n",
       "\\textbf{C(sid)[T.14]}       &      -1.1022  &        0.379     &    -2.909  &         0.004        &       -1.845    &       -0.359     \\\\\n",
       "\\textbf{C(sid)[T.15]}       &      -1.9371  &        0.348     &    -5.569  &         0.000        &       -2.619    &       -1.255     \\\\\n",
       "\\textbf{C(sid)[T.16]}       &      -6.1190  &        0.405     &   -15.115  &         0.000        &       -6.912    &       -5.325     \\\\\n",
       "\\textbf{C(sid)[T.17]}       &      -3.5177  &        0.398     &    -8.848  &         0.000        &       -4.297    &       -2.738     \\\\\n",
       "\\textbf{C(sid)[T.18]}       &      -2.4976  &        0.271     &    -9.224  &         0.000        &       -3.028    &       -1.967     \\\\\n",
       "\\textbf{C(sid)[T.19]}       &       5.2024  &        0.209     &    24.855  &         0.000        &        4.792    &        5.613     \\\\\n",
       "\\textbf{C(sid)[T.20]}       &      -6.0877  &        0.457     &   -13.321  &         0.000        &       -6.983    &       -5.192     \\\\\n",
       "\\textbf{C(sid)[T.21]}       &       0.9599  &        0.637     &     1.506  &         0.132        &       -0.289    &        2.209     \\\\\n",
       "\\textbf{C(sid)[T.22]}       &      -5.3160  &        0.495     &   -10.738  &         0.000        &       -6.286    &       -4.346     \\\\\n",
       "\\textbf{C(sid)[T.23]}       &      -0.9204  &        0.332     &    -2.769  &         0.006        &       -1.572    &       -0.269     \\\\\n",
       "\\textbf{C(sid)[T.24]}       &      -5.7067  &        0.542     &   -10.531  &         0.000        &       -6.769    &       -4.645     \\\\\n",
       "\\textbf{C(sid)[T.25]}       &       1.2338  &        0.402     &     3.066  &         0.002        &        0.445    &        2.022     \\\\\n",
       "\\textbf{C(sid)[T.26]}       &      -1.0548  &        0.260     &    -4.064  &         0.000        &       -1.564    &       -0.546     \\\\\n",
       "\\textbf{C(sid)[T.27]}       &      -4.4926  &        0.178     &   -25.198  &         0.000        &       -4.842    &       -4.143     \\\\\n",
       "\\textbf{C(sid)[T.28]}       &      -4.7644  &        0.393     &   -12.138  &         0.000        &       -5.534    &       -3.995     \\\\\n",
       "\\textbf{C(sid)[T.29]}       &       0.2027  &        0.613     &     0.331  &         0.741        &       -0.998    &        1.403     \\\\\n",
       "\\textbf{C(sid)[T.30]}       &      -6.7903  &        0.703     &    -9.662  &         0.000        &       -8.168    &       -5.413     \\\\\n",
       "\\textbf{C(sid)[T.31]}       &      -3.8306  &        0.658     &    -5.821  &         0.000        &       -5.121    &       -2.541     \\\\\n",
       "\\textbf{C(sid)[T.32]}       &       0.4913  &        0.307     &     1.599  &         0.110        &       -0.111    &        1.093     \\\\\n",
       "\\textbf{C(sid)[T.33]}       &      -3.2685  &        0.446     &    -7.333  &         0.000        &       -4.142    &       -2.395     \\\\\n",
       "\\textbf{C(sid)[T.34]}       &      -1.0630  &        0.174     &    -6.102  &         0.000        &       -1.404    &       -0.722     \\\\\n",
       "\\textbf{C(sid)[T.35]}       &      -6.4109  &        0.339     &   -18.906  &         0.000        &       -7.075    &       -5.746     \\\\\n",
       "\\textbf{C(sid)[T.36]}       &      -2.9810  &        0.311     &    -9.580  &         0.000        &       -3.591    &       -2.371     \\\\\n",
       "\\textbf{C(sid)[T.37]}       &      -1.7935  &        0.079     &   -22.693  &         0.000        &       -1.948    &       -1.639     \\\\\n",
       "\\textbf{C(sid)[T.38]}       &      -5.0209  &        0.356     &   -14.098  &         0.000        &       -5.719    &       -4.323     \\\\\n",
       "\\textbf{C(sid)[T.39]}       &      -2.0628  &        0.418     &    -4.931  &         0.000        &       -2.883    &       -1.243     \\\\\n",
       "\\textbf{C(sid)[T.40]}       &      -4.7507  &        0.437     &   -10.860  &         0.000        &       -5.608    &       -3.893     \\\\\n",
       "\\textbf{C(sid)[T.41]}       &       0.1386  &        0.150     &     0.922  &         0.356        &       -0.156    &        0.433     \\\\\n",
       "\\textbf{C(sid)[T.42]}       &      -5.0863  &        0.279     &   -18.244  &         0.000        &       -5.633    &       -4.540     \\\\\n",
       "\\textbf{C(sid)[T.43]}       &      -0.6181  &        0.219     &    -2.823  &         0.005        &       -1.047    &       -0.189     \\\\\n",
       "\\textbf{C(sid)[T.44]}       &      -1.3432  &        0.196     &    -6.860  &         0.000        &       -1.727    &       -0.959     \\\\\n",
       "\\textbf{C(sid)[T.45]}       &      -5.6203  &        0.548     &   -10.264  &         0.000        &       -6.693    &       -4.547     \\\\\n",
       "\\textbf{C(sid)[T.46]}       &      -6.0014  &        0.487     &   -12.323  &         0.000        &       -6.956    &       -5.047     \\\\\n",
       "\\textbf{C(sid)[T.47]}       &      -2.4681  &        0.594     &    -4.152  &         0.000        &       -3.633    &       -1.303     \\\\\n",
       "\\textbf{C(sid)[T.48]}       &      -4.4703  &        0.456     &    -9.801  &         0.000        &       -5.364    &       -3.576     \\\\\n",
       "\\textbf{C(sid)[T.49]}       &      -3.4077  &        0.395     &    -8.634  &         0.000        &       -4.181    &       -2.634     \\\\\n",
       "\\textbf{C(sid)[T.50]}       &      -4.6808  &        0.427     &   -10.952  &         0.000        &       -5.518    &       -3.843     \\\\\n",
       "\\textbf{C(sid)[T.51]}       &      -5.3865  &        0.425     &   -12.676  &         0.000        &       -6.219    &       -4.554     \\\\\n",
       "\\textbf{C(year)[T.2001]}    &       0.1070  &        0.154     &     0.697  &         0.486        &       -0.194    &        0.408     \\\\\n",
       "\\textbf{C(year)[T.2002]}    &       0.1311  &        0.205     &     0.639  &         0.523        &       -0.271    &        0.533     \\\\\n",
       "\\textbf{C(year)[T.2003]}    &       0.2613  &        0.241     &     1.085  &         0.278        &       -0.211    &        0.733     \\\\\n",
       "\\textbf{C(year)[T.2004]}    &       0.1122  &        0.252     &     0.445  &         0.656        &       -0.382    &        0.606     \\\\\n",
       "\\textbf{C(year)[T.2005]}    &       0.1891  &        0.283     &     0.669  &         0.503        &       -0.365    &        0.743     \\\\\n",
       "\\textbf{C(year)[T.2006]}    &       0.2481  &        0.246     &     1.010  &         0.312        &       -0.233    &        0.729     \\\\\n",
       "\\textbf{C(year)[T.2007]}    &       0.2297  &        0.220     &     1.045  &         0.296        &       -0.201    &        0.661     \\\\\n",
       "\\textbf{C(year)[T.2008]}    &       0.0568  &        0.231     &     0.246  &         0.806        &       -0.396    &        0.510     \\\\\n",
       "\\textbf{C(year)[T.2009]}    &       0.0676  &        0.414     &     0.164  &         0.870        &       -0.743    &        0.878     \\\\\n",
       "\\textbf{C(year)[T.2010]}    &      -0.2114  &        0.388     &    -0.544  &         0.586        &       -0.973    &        0.550     \\\\\n",
       "\\textbf{post}               &       0.1402  &        0.205     &     0.683  &         0.495        &       -0.262    &        0.543     \\\\\n",
       "\\textbf{unemployrt}         &      -0.0936  &        0.057     &    -1.648  &         0.099        &       -0.205    &        0.018     \\\\\n",
       "\\textbf{poverty}            &      -0.0530  &        0.073     &    -0.730  &         0.465        &       -0.195    &        0.089     \\\\\n",
       "\\textbf{l\\_income}          &       0.5178  &        1.279     &     0.405  &         0.686        &       -1.990    &        3.025     \\\\\n",
       "\\textbf{l\\_exp\\_pubwelfare} &       0.4114  &        0.590     &     0.697  &         0.486        &       -0.745    &        1.567     \\\\\n",
       "\\textbf{l\\_police}          &       0.5036  &        0.560     &     0.899  &         0.369        &       -0.595    &        1.602     \\\\\n",
       "\\bottomrule\n",
       "\\end{tabular}\n",
       "\\begin{tabular}{lclc}\n",
       "\\textbf{Omnibus:}       & 15.735 & \\textbf{  Durbin-Watson:     } &    1.589  \\\\\n",
       "\\textbf{Prob(Omnibus):} &  0.000 & \\textbf{  Jarque-Bera (JB):  } &   27.849  \\\\\n",
       "\\textbf{Skew:}          &  0.166 & \\textbf{  Prob(JB):          } & 8.97e-07  \\\\\n",
       "\\textbf{Kurtosis:}      &  4.051 & \\textbf{  Cond. No.          } & 6.45e+03  \\\\\n",
       "\\bottomrule\n",
       "\\end{tabular}\n",
       "%\\caption{OLS Regression Results}\n",
       "\\end{center}\n",
       "\n",
       "Notes: \\newline\n",
       " [1] Standard Errors are robust to cluster correlation (cluster) \\newline\n",
       " [2] The condition number is large, 6.45e+03. This might indicate that there are \\newline\n",
       " strong multicollinearity or other numerical problems."
      ],
      "text/plain": [
       "<class 'statsmodels.iolib.summary.Summary'>\n",
       "\"\"\"\n",
       "                            OLS Regression Results                            \n",
       "==============================================================================\n",
       "Dep. Variable:               homicide   R-squared:                       0.934\n",
       "Model:                            OLS   Adj. R-squared:                  0.925\n",
       "Method:                 Least Squares   F-statistic:                     265.6\n",
       "Date:                Sun, 17 Nov 2024   Prob (F-statistic):           6.82e-42\n",
       "Time:                        18:40:16   Log-Likelihood:                -533.33\n",
       "No. Observations:                 550   AIC:                             1199.\n",
       "Df Residuals:                     484   BIC:                             1483.\n",
       "Df Model:                          65                                         \n",
       "Covariance Type:              cluster                                         \n",
       "====================================================================================\n",
       "                       coef    std err          z      P>|z|      [0.025      0.975]\n",
       "------------------------------------------------------------------------------------\n",
       "Intercept           -2.7559     13.270     -0.208      0.835     -28.765      23.253\n",
       "C(sid)[T.2]         -2.8648      0.577     -4.961      0.000      -3.997      -1.733\n",
       "C(sid)[T.3]         -0.0666      0.191     -0.348      0.728      -0.442       0.309\n",
       "C(sid)[T.4]         -0.9296      0.197     -4.709      0.000      -1.317      -0.543\n",
       "C(sid)[T.5]         -1.2519      0.372     -3.364      0.001      -1.981      -0.522\n",
       "C(sid)[T.6]         -4.1867      0.530     -7.904      0.000      -5.225      -3.149\n",
       "C(sid)[T.7]         -4.7908      0.597     -8.027      0.000      -5.961      -3.621\n",
       "C(sid)[T.8]         -3.7973      0.451     -8.428      0.000      -4.680      -2.914\n",
       "C(sid)[T.10]        -1.8572      0.299     -6.217      0.000      -2.443      -1.272\n",
       "C(sid)[T.11]        -0.5133      0.208     -2.470      0.014      -0.921      -0.106\n",
       "C(sid)[T.12]        -5.8375      0.516    -11.320      0.000      -6.848      -4.827\n",
       "C(sid)[T.13]        -5.3651      0.293    -18.331      0.000      -5.939      -4.791\n",
       "C(sid)[T.14]        -1.1022      0.379     -2.909      0.004      -1.845      -0.359\n",
       "C(sid)[T.15]        -1.9371      0.348     -5.569      0.000      -2.619      -1.255\n",
       "C(sid)[T.16]        -6.1190      0.405    -15.115      0.000      -6.912      -5.325\n",
       "C(sid)[T.17]        -3.5177      0.398     -8.848      0.000      -4.297      -2.738\n",
       "C(sid)[T.18]        -2.4976      0.271     -9.224      0.000      -3.028      -1.967\n",
       "C(sid)[T.19]         5.2024      0.209     24.855      0.000       4.792       5.613\n",
       "C(sid)[T.20]        -6.0877      0.457    -13.321      0.000      -6.983      -5.192\n",
       "C(sid)[T.21]         0.9599      0.637      1.506      0.132      -0.289       2.209\n",
       "C(sid)[T.22]        -5.3160      0.495    -10.738      0.000      -6.286      -4.346\n",
       "C(sid)[T.23]        -0.9204      0.332     -2.769      0.006      -1.572      -0.269\n",
       "C(sid)[T.24]        -5.7067      0.542    -10.531      0.000      -6.769      -4.645\n",
       "C(sid)[T.25]         1.2338      0.402      3.066      0.002       0.445       2.022\n",
       "C(sid)[T.26]        -1.0548      0.260     -4.064      0.000      -1.564      -0.546\n",
       "C(sid)[T.27]        -4.4926      0.178    -25.198      0.000      -4.842      -4.143\n",
       "C(sid)[T.28]        -4.7644      0.393    -12.138      0.000      -5.534      -3.995\n",
       "C(sid)[T.29]         0.2027      0.613      0.331      0.741      -0.998       1.403\n",
       "C(sid)[T.30]        -6.7903      0.703     -9.662      0.000      -8.168      -5.413\n",
       "C(sid)[T.31]        -3.8306      0.658     -5.821      0.000      -5.121      -2.541\n",
       "C(sid)[T.32]         0.4913      0.307      1.599      0.110      -0.111       1.093\n",
       "C(sid)[T.33]        -3.2685      0.446     -7.333      0.000      -4.142      -2.395\n",
       "C(sid)[T.34]        -1.0630      0.174     -6.102      0.000      -1.404      -0.722\n",
       "C(sid)[T.35]        -6.4109      0.339    -18.906      0.000      -7.075      -5.746\n",
       "C(sid)[T.36]        -2.9810      0.311     -9.580      0.000      -3.591      -2.371\n",
       "C(sid)[T.37]        -1.7935      0.079    -22.693      0.000      -1.948      -1.639\n",
       "C(sid)[T.38]        -5.0209      0.356    -14.098      0.000      -5.719      -4.323\n",
       "C(sid)[T.39]        -2.0628      0.418     -4.931      0.000      -2.883      -1.243\n",
       "C(sid)[T.40]        -4.7507      0.437    -10.860      0.000      -5.608      -3.893\n",
       "C(sid)[T.41]         0.1386      0.150      0.922      0.356      -0.156       0.433\n",
       "C(sid)[T.42]        -5.0863      0.279    -18.244      0.000      -5.633      -4.540\n",
       "C(sid)[T.43]        -0.6181      0.219     -2.823      0.005      -1.047      -0.189\n",
       "C(sid)[T.44]        -1.3432      0.196     -6.860      0.000      -1.727      -0.959\n",
       "C(sid)[T.45]        -5.6203      0.548    -10.264      0.000      -6.693      -4.547\n",
       "C(sid)[T.46]        -6.0014      0.487    -12.323      0.000      -6.956      -5.047\n",
       "C(sid)[T.47]        -2.4681      0.594     -4.152      0.000      -3.633      -1.303\n",
       "C(sid)[T.48]        -4.4703      0.456     -9.801      0.000      -5.364      -3.576\n",
       "C(sid)[T.49]        -3.4077      0.395     -8.634      0.000      -4.181      -2.634\n",
       "C(sid)[T.50]        -4.6808      0.427    -10.952      0.000      -5.518      -3.843\n",
       "C(sid)[T.51]        -5.3865      0.425    -12.676      0.000      -6.219      -4.554\n",
       "C(year)[T.2001]      0.1070      0.154      0.697      0.486      -0.194       0.408\n",
       "C(year)[T.2002]      0.1311      0.205      0.639      0.523      -0.271       0.533\n",
       "C(year)[T.2003]      0.2613      0.241      1.085      0.278      -0.211       0.733\n",
       "C(year)[T.2004]      0.1122      0.252      0.445      0.656      -0.382       0.606\n",
       "C(year)[T.2005]      0.1891      0.283      0.669      0.503      -0.365       0.743\n",
       "C(year)[T.2006]      0.2481      0.246      1.010      0.312      -0.233       0.729\n",
       "C(year)[T.2007]      0.2297      0.220      1.045      0.296      -0.201       0.661\n",
       "C(year)[T.2008]      0.0568      0.231      0.246      0.806      -0.396       0.510\n",
       "C(year)[T.2009]      0.0676      0.414      0.164      0.870      -0.743       0.878\n",
       "C(year)[T.2010]     -0.2114      0.388     -0.544      0.586      -0.973       0.550\n",
       "post                 0.1402      0.205      0.683      0.495      -0.262       0.543\n",
       "unemployrt          -0.0936      0.057     -1.648      0.099      -0.205       0.018\n",
       "poverty             -0.0530      0.073     -0.730      0.465      -0.195       0.089\n",
       "l_income             0.5178      1.279      0.405      0.686      -1.990       3.025\n",
       "l_exp_pubwelfare     0.4114      0.590      0.697      0.486      -0.745       1.567\n",
       "l_police             0.5036      0.560      0.899      0.369      -0.595       1.602\n",
       "==============================================================================\n",
       "Omnibus:                       15.735   Durbin-Watson:                   1.589\n",
       "Prob(Omnibus):                  0.000   Jarque-Bera (JB):               27.849\n",
       "Skew:                           0.166   Prob(JB):                     8.97e-07\n",
       "Kurtosis:                       4.051   Cond. No.                     6.45e+03\n",
       "==============================================================================\n",
       "\n",
       "Notes:\n",
       "[1] Standard Errors are robust to cluster correlation (cluster)\n",
       "[2] The condition number is large, 6.45e+03. This might indicate that there are\n",
       "strong multicollinearity or other numerical problems.\n",
       "\"\"\""
      ]
     },
     "metadata": {},
     "output_type": "display_data"
    }
   ],
   "source": [
    "import statsmodels.formula.api as smf\n",
    "\n",
    "data = df\n",
    "\n",
    "# Our control variables \n",
    "control_vars = ['unemployrt', 'poverty', 'l_income', 'l_exp_pubwelfare', 'l_police']\n",
    "controls = ' + '.join(control_vars)\n",
    "\n",
    "# The OLS model we're using for regression. We use cluster standards error to better adjust for potential within-state correlations.\n",
    "formula = f'homicide ~ post + {controls} + C(sid) + C(year)'\n",
    "model = smf.ols(formula=formula, data=data).fit(cov_type='cluster', cov_kwds={'groups': data['sid']})\n",
    "\n",
    "# Use this summary for your interpretations\n",
    "display(model.summary())"
   ]
  },
  {
   "cell_type": "markdown",
   "metadata": {},
   "source": [
    "Answr:\n",
    "The coefficient for post is 0.1402, with a p-value of 0.495, which is not statistically significant at the 5% level. This suggests that the implementation of the Castle Doctrine law does not have a statistically significant effect on homicide rates."
   ]
  },
  {
   "cell_type": "markdown",
   "metadata": {},
   "source": [
    "### By now, all I hope is that you realize…\n",
    "\n",
    "As you've worked through this assignment, I hope you've developed an appreciation for the complexities involved in establishing causality. Causal inference isn’t straightforward; it requires careful attention to assumptions, rigorous control of confounding factors, and a deep understanding of what the data can truly tell us. Each method we explored, from Difference-in-Differences to Multivariate Regression, required us to think critically about the limitations and nuances of our approach.\n",
    "\n",
    "It's also important to note that the purpose of this dataset wasn’t to definitively justify or refute any policy’s effects. True causal analysis would require even deeper data exploration, consideration of additional factors, and careful external validation. What we've done here is just the beginning—a simplified view of a much more complex process.\n",
    "\n",
    "As you approach real-world data problems, remember that establishing causality demands more than just statistical techniques. It requires a combination of domain knowledge, critical thinking, and a commitment to exploring and questioning the data from all angles. \n",
    "\n",
    "Congratulations on making it this far, and welcome to the world of careful, thoughtful data analysis! 🎉\n"
   ]
  },
  {
   "cell_type": "markdown",
   "metadata": {},
   "source": [
    "# Fin"
   ]
  }
 ],
 "metadata": {
  "kernelspec": {
   "display_name": "Python 3",
   "language": "python",
   "name": "python3"
  },
  "language_info": {
   "codemirror_mode": {
    "name": "ipython",
    "version": 3
   },
   "file_extension": ".py",
   "mimetype": "text/x-python",
   "name": "python",
   "nbconvert_exporter": "python",
   "pygments_lexer": "ipython3",
   "version": "3.12.2"
  }
 },
 "nbformat": 4,
 "nbformat_minor": 2
}
